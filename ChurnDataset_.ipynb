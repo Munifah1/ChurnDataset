{
  "nbformat": 4,
  "nbformat_minor": 0,
  "metadata": {
    "colab": {
      "provenance": []
    },
    "kernelspec": {
      "name": "python3",
      "display_name": "Python 3"
    },
    "language_info": {
      "name": "python"
    }
  },
  "cells": [
    {
      "cell_type": "code",
      "execution_count": null,
      "metadata": {
        "id": "zWmw5usWyUl4"
      },
      "outputs": [],
      "source": [
        "import numpy as np\n",
        "import pandas as pd\n",
        "import matplotlib.pyplot as plt"
      ]
    },
    {
      "cell_type": "code",
      "source": [
        "df = pd.read_csv(\"/content/Churn_Modelling.csv\")"
      ],
      "metadata": {
        "id": "c3Xlth48yVmv"
      },
      "execution_count": null,
      "outputs": []
    },
    {
      "cell_type": "code",
      "source": [
        "df.shape"
      ],
      "metadata": {
        "colab": {
          "base_uri": "https://localhost:8080/"
        },
        "id": "g-ROFQOXyseW",
        "outputId": "e49eaf59-30e2-4d59-a044-1c7097be0c89"
      },
      "execution_count": null,
      "outputs": [
        {
          "output_type": "execute_result",
          "data": {
            "text/plain": [
              "(10000, 14)"
            ]
          },
          "metadata": {},
          "execution_count": 6
        }
      ]
    },
    {
      "cell_type": "code",
      "source": [
        "df.head()"
      ],
      "metadata": {
        "colab": {
          "base_uri": "https://localhost:8080/",
          "height": 226
        },
        "id": "bw9ypBcbyxH_",
        "outputId": "c65014a0-81db-4a0a-892c-3b044a24988c"
      },
      "execution_count": null,
      "outputs": [
        {
          "output_type": "execute_result",
          "data": {
            "text/plain": [
              "   RowNumber  CustomerId   Surname  CreditScore Geography  Gender  Age  \\\n",
              "0          1    15634602  Hargrave          619    France  Female   42   \n",
              "1          2    15647311      Hill          608     Spain  Female   41   \n",
              "2          3    15619304      Onio          502    France  Female   42   \n",
              "3          4    15701354      Boni          699    France  Female   39   \n",
              "4          5    15737888  Mitchell          850     Spain  Female   43   \n",
              "\n",
              "   Tenure    Balance  NumOfProducts  HasCrCard  IsActiveMember  \\\n",
              "0       2       0.00              1          1               1   \n",
              "1       1   83807.86              1          0               1   \n",
              "2       8  159660.80              3          1               0   \n",
              "3       1       0.00              2          0               0   \n",
              "4       2  125510.82              1          1               1   \n",
              "\n",
              "   EstimatedSalary  Exited  \n",
              "0        101348.88       1  \n",
              "1        112542.58       0  \n",
              "2        113931.57       1  \n",
              "3         93826.63       0  \n",
              "4         79084.10       0  "
            ],
            "text/html": [
              "\n",
              "  <div id=\"df-a21dee34-621d-4d5a-b7f5-29ed8940430a\" class=\"colab-df-container\">\n",
              "    <div>\n",
              "<style scoped>\n",
              "    .dataframe tbody tr th:only-of-type {\n",
              "        vertical-align: middle;\n",
              "    }\n",
              "\n",
              "    .dataframe tbody tr th {\n",
              "        vertical-align: top;\n",
              "    }\n",
              "\n",
              "    .dataframe thead th {\n",
              "        text-align: right;\n",
              "    }\n",
              "</style>\n",
              "<table border=\"1\" class=\"dataframe\">\n",
              "  <thead>\n",
              "    <tr style=\"text-align: right;\">\n",
              "      <th></th>\n",
              "      <th>RowNumber</th>\n",
              "      <th>CustomerId</th>\n",
              "      <th>Surname</th>\n",
              "      <th>CreditScore</th>\n",
              "      <th>Geography</th>\n",
              "      <th>Gender</th>\n",
              "      <th>Age</th>\n",
              "      <th>Tenure</th>\n",
              "      <th>Balance</th>\n",
              "      <th>NumOfProducts</th>\n",
              "      <th>HasCrCard</th>\n",
              "      <th>IsActiveMember</th>\n",
              "      <th>EstimatedSalary</th>\n",
              "      <th>Exited</th>\n",
              "    </tr>\n",
              "  </thead>\n",
              "  <tbody>\n",
              "    <tr>\n",
              "      <th>0</th>\n",
              "      <td>1</td>\n",
              "      <td>15634602</td>\n",
              "      <td>Hargrave</td>\n",
              "      <td>619</td>\n",
              "      <td>France</td>\n",
              "      <td>Female</td>\n",
              "      <td>42</td>\n",
              "      <td>2</td>\n",
              "      <td>0.00</td>\n",
              "      <td>1</td>\n",
              "      <td>1</td>\n",
              "      <td>1</td>\n",
              "      <td>101348.88</td>\n",
              "      <td>1</td>\n",
              "    </tr>\n",
              "    <tr>\n",
              "      <th>1</th>\n",
              "      <td>2</td>\n",
              "      <td>15647311</td>\n",
              "      <td>Hill</td>\n",
              "      <td>608</td>\n",
              "      <td>Spain</td>\n",
              "      <td>Female</td>\n",
              "      <td>41</td>\n",
              "      <td>1</td>\n",
              "      <td>83807.86</td>\n",
              "      <td>1</td>\n",
              "      <td>0</td>\n",
              "      <td>1</td>\n",
              "      <td>112542.58</td>\n",
              "      <td>0</td>\n",
              "    </tr>\n",
              "    <tr>\n",
              "      <th>2</th>\n",
              "      <td>3</td>\n",
              "      <td>15619304</td>\n",
              "      <td>Onio</td>\n",
              "      <td>502</td>\n",
              "      <td>France</td>\n",
              "      <td>Female</td>\n",
              "      <td>42</td>\n",
              "      <td>8</td>\n",
              "      <td>159660.80</td>\n",
              "      <td>3</td>\n",
              "      <td>1</td>\n",
              "      <td>0</td>\n",
              "      <td>113931.57</td>\n",
              "      <td>1</td>\n",
              "    </tr>\n",
              "    <tr>\n",
              "      <th>3</th>\n",
              "      <td>4</td>\n",
              "      <td>15701354</td>\n",
              "      <td>Boni</td>\n",
              "      <td>699</td>\n",
              "      <td>France</td>\n",
              "      <td>Female</td>\n",
              "      <td>39</td>\n",
              "      <td>1</td>\n",
              "      <td>0.00</td>\n",
              "      <td>2</td>\n",
              "      <td>0</td>\n",
              "      <td>0</td>\n",
              "      <td>93826.63</td>\n",
              "      <td>0</td>\n",
              "    </tr>\n",
              "    <tr>\n",
              "      <th>4</th>\n",
              "      <td>5</td>\n",
              "      <td>15737888</td>\n",
              "      <td>Mitchell</td>\n",
              "      <td>850</td>\n",
              "      <td>Spain</td>\n",
              "      <td>Female</td>\n",
              "      <td>43</td>\n",
              "      <td>2</td>\n",
              "      <td>125510.82</td>\n",
              "      <td>1</td>\n",
              "      <td>1</td>\n",
              "      <td>1</td>\n",
              "      <td>79084.10</td>\n",
              "      <td>0</td>\n",
              "    </tr>\n",
              "  </tbody>\n",
              "</table>\n",
              "</div>\n",
              "    <div class=\"colab-df-buttons\">\n",
              "\n",
              "  <div class=\"colab-df-container\">\n",
              "    <button class=\"colab-df-convert\" onclick=\"convertToInteractive('df-a21dee34-621d-4d5a-b7f5-29ed8940430a')\"\n",
              "            title=\"Convert this dataframe to an interactive table.\"\n",
              "            style=\"display:none;\">\n",
              "\n",
              "  <svg xmlns=\"http://www.w3.org/2000/svg\" height=\"24px\" viewBox=\"0 -960 960 960\">\n",
              "    <path d=\"M120-120v-720h720v720H120Zm60-500h600v-160H180v160Zm220 220h160v-160H400v160Zm0 220h160v-160H400v160ZM180-400h160v-160H180v160Zm440 0h160v-160H620v160ZM180-180h160v-160H180v160Zm440 0h160v-160H620v160Z\"/>\n",
              "  </svg>\n",
              "    </button>\n",
              "\n",
              "  <style>\n",
              "    .colab-df-container {\n",
              "      display:flex;\n",
              "      gap: 12px;\n",
              "    }\n",
              "\n",
              "    .colab-df-convert {\n",
              "      background-color: #E8F0FE;\n",
              "      border: none;\n",
              "      border-radius: 50%;\n",
              "      cursor: pointer;\n",
              "      display: none;\n",
              "      fill: #1967D2;\n",
              "      height: 32px;\n",
              "      padding: 0 0 0 0;\n",
              "      width: 32px;\n",
              "    }\n",
              "\n",
              "    .colab-df-convert:hover {\n",
              "      background-color: #E2EBFA;\n",
              "      box-shadow: 0px 1px 2px rgba(60, 64, 67, 0.3), 0px 1px 3px 1px rgba(60, 64, 67, 0.15);\n",
              "      fill: #174EA6;\n",
              "    }\n",
              "\n",
              "    .colab-df-buttons div {\n",
              "      margin-bottom: 4px;\n",
              "    }\n",
              "\n",
              "    [theme=dark] .colab-df-convert {\n",
              "      background-color: #3B4455;\n",
              "      fill: #D2E3FC;\n",
              "    }\n",
              "\n",
              "    [theme=dark] .colab-df-convert:hover {\n",
              "      background-color: #434B5C;\n",
              "      box-shadow: 0px 1px 3px 1px rgba(0, 0, 0, 0.15);\n",
              "      filter: drop-shadow(0px 1px 2px rgba(0, 0, 0, 0.3));\n",
              "      fill: #FFFFFF;\n",
              "    }\n",
              "  </style>\n",
              "\n",
              "    <script>\n",
              "      const buttonEl =\n",
              "        document.querySelector('#df-a21dee34-621d-4d5a-b7f5-29ed8940430a button.colab-df-convert');\n",
              "      buttonEl.style.display =\n",
              "        google.colab.kernel.accessAllowed ? 'block' : 'none';\n",
              "\n",
              "      async function convertToInteractive(key) {\n",
              "        const element = document.querySelector('#df-a21dee34-621d-4d5a-b7f5-29ed8940430a');\n",
              "        const dataTable =\n",
              "          await google.colab.kernel.invokeFunction('convertToInteractive',\n",
              "                                                    [key], {});\n",
              "        if (!dataTable) return;\n",
              "\n",
              "        const docLinkHtml = 'Like what you see? Visit the ' +\n",
              "          '<a target=\"_blank\" href=https://colab.research.google.com/notebooks/data_table.ipynb>data table notebook</a>'\n",
              "          + ' to learn more about interactive tables.';\n",
              "        element.innerHTML = '';\n",
              "        dataTable['output_type'] = 'display_data';\n",
              "        await google.colab.output.renderOutput(dataTable, element);\n",
              "        const docLink = document.createElement('div');\n",
              "        docLink.innerHTML = docLinkHtml;\n",
              "        element.appendChild(docLink);\n",
              "      }\n",
              "    </script>\n",
              "  </div>\n",
              "\n",
              "\n",
              "<div id=\"df-19d2f8bd-1c51-4dbf-9962-e38b8a34b2e4\">\n",
              "  <button class=\"colab-df-quickchart\" onclick=\"quickchart('df-19d2f8bd-1c51-4dbf-9962-e38b8a34b2e4')\"\n",
              "            title=\"Suggest charts\"\n",
              "            style=\"display:none;\">\n",
              "\n",
              "<svg xmlns=\"http://www.w3.org/2000/svg\" height=\"24px\"viewBox=\"0 0 24 24\"\n",
              "     width=\"24px\">\n",
              "    <g>\n",
              "        <path d=\"M19 3H5c-1.1 0-2 .9-2 2v14c0 1.1.9 2 2 2h14c1.1 0 2-.9 2-2V5c0-1.1-.9-2-2-2zM9 17H7v-7h2v7zm4 0h-2V7h2v10zm4 0h-2v-4h2v4z\"/>\n",
              "    </g>\n",
              "</svg>\n",
              "  </button>\n",
              "\n",
              "<style>\n",
              "  .colab-df-quickchart {\n",
              "      --bg-color: #E8F0FE;\n",
              "      --fill-color: #1967D2;\n",
              "      --hover-bg-color: #E2EBFA;\n",
              "      --hover-fill-color: #174EA6;\n",
              "      --disabled-fill-color: #AAA;\n",
              "      --disabled-bg-color: #DDD;\n",
              "  }\n",
              "\n",
              "  [theme=dark] .colab-df-quickchart {\n",
              "      --bg-color: #3B4455;\n",
              "      --fill-color: #D2E3FC;\n",
              "      --hover-bg-color: #434B5C;\n",
              "      --hover-fill-color: #FFFFFF;\n",
              "      --disabled-bg-color: #3B4455;\n",
              "      --disabled-fill-color: #666;\n",
              "  }\n",
              "\n",
              "  .colab-df-quickchart {\n",
              "    background-color: var(--bg-color);\n",
              "    border: none;\n",
              "    border-radius: 50%;\n",
              "    cursor: pointer;\n",
              "    display: none;\n",
              "    fill: var(--fill-color);\n",
              "    height: 32px;\n",
              "    padding: 0;\n",
              "    width: 32px;\n",
              "  }\n",
              "\n",
              "  .colab-df-quickchart:hover {\n",
              "    background-color: var(--hover-bg-color);\n",
              "    box-shadow: 0 1px 2px rgba(60, 64, 67, 0.3), 0 1px 3px 1px rgba(60, 64, 67, 0.15);\n",
              "    fill: var(--button-hover-fill-color);\n",
              "  }\n",
              "\n",
              "  .colab-df-quickchart-complete:disabled,\n",
              "  .colab-df-quickchart-complete:disabled:hover {\n",
              "    background-color: var(--disabled-bg-color);\n",
              "    fill: var(--disabled-fill-color);\n",
              "    box-shadow: none;\n",
              "  }\n",
              "\n",
              "  .colab-df-spinner {\n",
              "    border: 2px solid var(--fill-color);\n",
              "    border-color: transparent;\n",
              "    border-bottom-color: var(--fill-color);\n",
              "    animation:\n",
              "      spin 1s steps(1) infinite;\n",
              "  }\n",
              "\n",
              "  @keyframes spin {\n",
              "    0% {\n",
              "      border-color: transparent;\n",
              "      border-bottom-color: var(--fill-color);\n",
              "      border-left-color: var(--fill-color);\n",
              "    }\n",
              "    20% {\n",
              "      border-color: transparent;\n",
              "      border-left-color: var(--fill-color);\n",
              "      border-top-color: var(--fill-color);\n",
              "    }\n",
              "    30% {\n",
              "      border-color: transparent;\n",
              "      border-left-color: var(--fill-color);\n",
              "      border-top-color: var(--fill-color);\n",
              "      border-right-color: var(--fill-color);\n",
              "    }\n",
              "    40% {\n",
              "      border-color: transparent;\n",
              "      border-right-color: var(--fill-color);\n",
              "      border-top-color: var(--fill-color);\n",
              "    }\n",
              "    60% {\n",
              "      border-color: transparent;\n",
              "      border-right-color: var(--fill-color);\n",
              "    }\n",
              "    80% {\n",
              "      border-color: transparent;\n",
              "      border-right-color: var(--fill-color);\n",
              "      border-bottom-color: var(--fill-color);\n",
              "    }\n",
              "    90% {\n",
              "      border-color: transparent;\n",
              "      border-bottom-color: var(--fill-color);\n",
              "    }\n",
              "  }\n",
              "</style>\n",
              "\n",
              "  <script>\n",
              "    async function quickchart(key) {\n",
              "      const quickchartButtonEl =\n",
              "        document.querySelector('#' + key + ' button');\n",
              "      quickchartButtonEl.disabled = true;  // To prevent multiple clicks.\n",
              "      quickchartButtonEl.classList.add('colab-df-spinner');\n",
              "      try {\n",
              "        const charts = await google.colab.kernel.invokeFunction(\n",
              "            'suggestCharts', [key], {});\n",
              "      } catch (error) {\n",
              "        console.error('Error during call to suggestCharts:', error);\n",
              "      }\n",
              "      quickchartButtonEl.classList.remove('colab-df-spinner');\n",
              "      quickchartButtonEl.classList.add('colab-df-quickchart-complete');\n",
              "    }\n",
              "    (() => {\n",
              "      let quickchartButtonEl =\n",
              "        document.querySelector('#df-19d2f8bd-1c51-4dbf-9962-e38b8a34b2e4 button');\n",
              "      quickchartButtonEl.style.display =\n",
              "        google.colab.kernel.accessAllowed ? 'block' : 'none';\n",
              "    })();\n",
              "  </script>\n",
              "</div>\n",
              "\n",
              "    </div>\n",
              "  </div>\n"
            ],
            "application/vnd.google.colaboratory.intrinsic+json": {
              "type": "dataframe",
              "variable_name": "df",
              "summary": "{\n  \"name\": \"df\",\n  \"rows\": 10000,\n  \"fields\": [\n    {\n      \"column\": \"RowNumber\",\n      \"properties\": {\n        \"dtype\": \"number\",\n        \"std\": 2886,\n        \"min\": 1,\n        \"max\": 10000,\n        \"num_unique_values\": 10000,\n        \"samples\": [\n          6253,\n          4685,\n          1732\n        ],\n        \"semantic_type\": \"\",\n        \"description\": \"\"\n      }\n    },\n    {\n      \"column\": \"CustomerId\",\n      \"properties\": {\n        \"dtype\": \"number\",\n        \"std\": 71936,\n        \"min\": 15565701,\n        \"max\": 15815690,\n        \"num_unique_values\": 10000,\n        \"samples\": [\n          15687492,\n          15736963,\n          15721730\n        ],\n        \"semantic_type\": \"\",\n        \"description\": \"\"\n      }\n    },\n    {\n      \"column\": \"Surname\",\n      \"properties\": {\n        \"dtype\": \"category\",\n        \"num_unique_values\": 2932,\n        \"samples\": [\n          \"McGuirk\",\n          \"Torkelson\",\n          \"Rapuluchukwu\"\n        ],\n        \"semantic_type\": \"\",\n        \"description\": \"\"\n      }\n    },\n    {\n      \"column\": \"CreditScore\",\n      \"properties\": {\n        \"dtype\": \"number\",\n        \"std\": 96,\n        \"min\": 350,\n        \"max\": 850,\n        \"num_unique_values\": 460,\n        \"samples\": [\n          754,\n          533,\n          744\n        ],\n        \"semantic_type\": \"\",\n        \"description\": \"\"\n      }\n    },\n    {\n      \"column\": \"Geography\",\n      \"properties\": {\n        \"dtype\": \"category\",\n        \"num_unique_values\": 3,\n        \"samples\": [\n          \"France\",\n          \"Spain\",\n          \"Germany\"\n        ],\n        \"semantic_type\": \"\",\n        \"description\": \"\"\n      }\n    },\n    {\n      \"column\": \"Gender\",\n      \"properties\": {\n        \"dtype\": \"category\",\n        \"num_unique_values\": 2,\n        \"samples\": [\n          \"Male\",\n          \"Female\"\n        ],\n        \"semantic_type\": \"\",\n        \"description\": \"\"\n      }\n    },\n    {\n      \"column\": \"Age\",\n      \"properties\": {\n        \"dtype\": \"number\",\n        \"std\": 10,\n        \"min\": 18,\n        \"max\": 92,\n        \"num_unique_values\": 70,\n        \"samples\": [\n          61,\n          42\n        ],\n        \"semantic_type\": \"\",\n        \"description\": \"\"\n      }\n    },\n    {\n      \"column\": \"Tenure\",\n      \"properties\": {\n        \"dtype\": \"number\",\n        \"std\": 2,\n        \"min\": 0,\n        \"max\": 10,\n        \"num_unique_values\": 11,\n        \"samples\": [\n          6,\n          2\n        ],\n        \"semantic_type\": \"\",\n        \"description\": \"\"\n      }\n    },\n    {\n      \"column\": \"Balance\",\n      \"properties\": {\n        \"dtype\": \"number\",\n        \"std\": 62397.405202385955,\n        \"min\": 0.0,\n        \"max\": 250898.09,\n        \"num_unique_values\": 6382,\n        \"samples\": [\n          117707.18,\n          133050.97\n        ],\n        \"semantic_type\": \"\",\n        \"description\": \"\"\n      }\n    },\n    {\n      \"column\": \"NumOfProducts\",\n      \"properties\": {\n        \"dtype\": \"number\",\n        \"std\": 0,\n        \"min\": 1,\n        \"max\": 4,\n        \"num_unique_values\": 4,\n        \"samples\": [\n          3,\n          4\n        ],\n        \"semantic_type\": \"\",\n        \"description\": \"\"\n      }\n    },\n    {\n      \"column\": \"HasCrCard\",\n      \"properties\": {\n        \"dtype\": \"number\",\n        \"std\": 0,\n        \"min\": 0,\n        \"max\": 1,\n        \"num_unique_values\": 2,\n        \"samples\": [\n          0,\n          1\n        ],\n        \"semantic_type\": \"\",\n        \"description\": \"\"\n      }\n    },\n    {\n      \"column\": \"IsActiveMember\",\n      \"properties\": {\n        \"dtype\": \"number\",\n        \"std\": 0,\n        \"min\": 0,\n        \"max\": 1,\n        \"num_unique_values\": 2,\n        \"samples\": [\n          0,\n          1\n        ],\n        \"semantic_type\": \"\",\n        \"description\": \"\"\n      }\n    },\n    {\n      \"column\": \"EstimatedSalary\",\n      \"properties\": {\n        \"dtype\": \"number\",\n        \"std\": 57510.49281769816,\n        \"min\": 11.58,\n        \"max\": 199992.48,\n        \"num_unique_values\": 9999,\n        \"samples\": [\n          100809.99,\n          95273.73\n        ],\n        \"semantic_type\": \"\",\n        \"description\": \"\"\n      }\n    },\n    {\n      \"column\": \"Exited\",\n      \"properties\": {\n        \"dtype\": \"number\",\n        \"std\": 0,\n        \"min\": 0,\n        \"max\": 1,\n        \"num_unique_values\": 2,\n        \"samples\": [\n          0,\n          1\n        ],\n        \"semantic_type\": \"\",\n        \"description\": \"\"\n      }\n    }\n  ]\n}"
            }
          },
          "metadata": {},
          "execution_count": 7
        }
      ]
    },
    {
      "cell_type": "code",
      "source": [
        "X = df.iloc[:, 3:13]\n",
        "y = df.iloc[:,13]"
      ],
      "metadata": {
        "id": "Jyivma5cy3iK"
      },
      "execution_count": null,
      "outputs": []
    },
    {
      "cell_type": "code",
      "source": [
        "print(X.shape)\n",
        "print(y.shape)"
      ],
      "metadata": {
        "colab": {
          "base_uri": "https://localhost:8080/"
        },
        "id": "wt88i8fAzGhy",
        "outputId": "adb1d131-d1cd-4080-f164-b94570dca754"
      },
      "execution_count": null,
      "outputs": [
        {
          "output_type": "stream",
          "name": "stdout",
          "text": [
            "(10000, 10)\n",
            "(10000,)\n"
          ]
        }
      ]
    },
    {
      "cell_type": "code",
      "source": [
        "geography = pd.get_dummies(X[\"Geography\"], drop_first=True)\n",
        "gender = pd.get_dummies(X[\"Gender\"], drop_first=True)"
      ],
      "metadata": {
        "id": "LC3Bz7WBzIk7"
      },
      "execution_count": null,
      "outputs": []
    },
    {
      "cell_type": "code",
      "source": [
        "X = pd.concat([X, geography, gender], axis=1)"
      ],
      "metadata": {
        "id": "nN3rEBg2zWw2"
      },
      "execution_count": null,
      "outputs": []
    },
    {
      "cell_type": "code",
      "source": [
        "X = X.drop([\"Geography\",\"Gender\"], axis=1)"
      ],
      "metadata": {
        "id": "gcD3hP-uzcii"
      },
      "execution_count": null,
      "outputs": []
    },
    {
      "cell_type": "code",
      "source": [
        "X.head()"
      ],
      "metadata": {
        "colab": {
          "base_uri": "https://localhost:8080/",
          "height": 206
        },
        "id": "Mfi6UQeNzlPm",
        "outputId": "586fbe3d-be02-4728-a8f9-905153ae5a07"
      },
      "execution_count": null,
      "outputs": [
        {
          "output_type": "execute_result",
          "data": {
            "text/plain": [
              "   CreditScore  Age  Tenure    Balance  NumOfProducts  HasCrCard  \\\n",
              "0          619   42       2       0.00              1          1   \n",
              "1          608   41       1   83807.86              1          0   \n",
              "2          502   42       8  159660.80              3          1   \n",
              "3          699   39       1       0.00              2          0   \n",
              "4          850   43       2  125510.82              1          1   \n",
              "\n",
              "   IsActiveMember  EstimatedSalary  Germany  Spain   Male  \n",
              "0               1        101348.88    False  False  False  \n",
              "1               1        112542.58    False   True  False  \n",
              "2               0        113931.57    False  False  False  \n",
              "3               0         93826.63    False  False  False  \n",
              "4               1         79084.10    False   True  False  "
            ],
            "text/html": [
              "\n",
              "  <div id=\"df-40429f65-47f2-4478-9bd1-afb89590e8c8\" class=\"colab-df-container\">\n",
              "    <div>\n",
              "<style scoped>\n",
              "    .dataframe tbody tr th:only-of-type {\n",
              "        vertical-align: middle;\n",
              "    }\n",
              "\n",
              "    .dataframe tbody tr th {\n",
              "        vertical-align: top;\n",
              "    }\n",
              "\n",
              "    .dataframe thead th {\n",
              "        text-align: right;\n",
              "    }\n",
              "</style>\n",
              "<table border=\"1\" class=\"dataframe\">\n",
              "  <thead>\n",
              "    <tr style=\"text-align: right;\">\n",
              "      <th></th>\n",
              "      <th>CreditScore</th>\n",
              "      <th>Age</th>\n",
              "      <th>Tenure</th>\n",
              "      <th>Balance</th>\n",
              "      <th>NumOfProducts</th>\n",
              "      <th>HasCrCard</th>\n",
              "      <th>IsActiveMember</th>\n",
              "      <th>EstimatedSalary</th>\n",
              "      <th>Germany</th>\n",
              "      <th>Spain</th>\n",
              "      <th>Male</th>\n",
              "    </tr>\n",
              "  </thead>\n",
              "  <tbody>\n",
              "    <tr>\n",
              "      <th>0</th>\n",
              "      <td>619</td>\n",
              "      <td>42</td>\n",
              "      <td>2</td>\n",
              "      <td>0.00</td>\n",
              "      <td>1</td>\n",
              "      <td>1</td>\n",
              "      <td>1</td>\n",
              "      <td>101348.88</td>\n",
              "      <td>False</td>\n",
              "      <td>False</td>\n",
              "      <td>False</td>\n",
              "    </tr>\n",
              "    <tr>\n",
              "      <th>1</th>\n",
              "      <td>608</td>\n",
              "      <td>41</td>\n",
              "      <td>1</td>\n",
              "      <td>83807.86</td>\n",
              "      <td>1</td>\n",
              "      <td>0</td>\n",
              "      <td>1</td>\n",
              "      <td>112542.58</td>\n",
              "      <td>False</td>\n",
              "      <td>True</td>\n",
              "      <td>False</td>\n",
              "    </tr>\n",
              "    <tr>\n",
              "      <th>2</th>\n",
              "      <td>502</td>\n",
              "      <td>42</td>\n",
              "      <td>8</td>\n",
              "      <td>159660.80</td>\n",
              "      <td>3</td>\n",
              "      <td>1</td>\n",
              "      <td>0</td>\n",
              "      <td>113931.57</td>\n",
              "      <td>False</td>\n",
              "      <td>False</td>\n",
              "      <td>False</td>\n",
              "    </tr>\n",
              "    <tr>\n",
              "      <th>3</th>\n",
              "      <td>699</td>\n",
              "      <td>39</td>\n",
              "      <td>1</td>\n",
              "      <td>0.00</td>\n",
              "      <td>2</td>\n",
              "      <td>0</td>\n",
              "      <td>0</td>\n",
              "      <td>93826.63</td>\n",
              "      <td>False</td>\n",
              "      <td>False</td>\n",
              "      <td>False</td>\n",
              "    </tr>\n",
              "    <tr>\n",
              "      <th>4</th>\n",
              "      <td>850</td>\n",
              "      <td>43</td>\n",
              "      <td>2</td>\n",
              "      <td>125510.82</td>\n",
              "      <td>1</td>\n",
              "      <td>1</td>\n",
              "      <td>1</td>\n",
              "      <td>79084.10</td>\n",
              "      <td>False</td>\n",
              "      <td>True</td>\n",
              "      <td>False</td>\n",
              "    </tr>\n",
              "  </tbody>\n",
              "</table>\n",
              "</div>\n",
              "    <div class=\"colab-df-buttons\">\n",
              "\n",
              "  <div class=\"colab-df-container\">\n",
              "    <button class=\"colab-df-convert\" onclick=\"convertToInteractive('df-40429f65-47f2-4478-9bd1-afb89590e8c8')\"\n",
              "            title=\"Convert this dataframe to an interactive table.\"\n",
              "            style=\"display:none;\">\n",
              "\n",
              "  <svg xmlns=\"http://www.w3.org/2000/svg\" height=\"24px\" viewBox=\"0 -960 960 960\">\n",
              "    <path d=\"M120-120v-720h720v720H120Zm60-500h600v-160H180v160Zm220 220h160v-160H400v160Zm0 220h160v-160H400v160ZM180-400h160v-160H180v160Zm440 0h160v-160H620v160ZM180-180h160v-160H180v160Zm440 0h160v-160H620v160Z\"/>\n",
              "  </svg>\n",
              "    </button>\n",
              "\n",
              "  <style>\n",
              "    .colab-df-container {\n",
              "      display:flex;\n",
              "      gap: 12px;\n",
              "    }\n",
              "\n",
              "    .colab-df-convert {\n",
              "      background-color: #E8F0FE;\n",
              "      border: none;\n",
              "      border-radius: 50%;\n",
              "      cursor: pointer;\n",
              "      display: none;\n",
              "      fill: #1967D2;\n",
              "      height: 32px;\n",
              "      padding: 0 0 0 0;\n",
              "      width: 32px;\n",
              "    }\n",
              "\n",
              "    .colab-df-convert:hover {\n",
              "      background-color: #E2EBFA;\n",
              "      box-shadow: 0px 1px 2px rgba(60, 64, 67, 0.3), 0px 1px 3px 1px rgba(60, 64, 67, 0.15);\n",
              "      fill: #174EA6;\n",
              "    }\n",
              "\n",
              "    .colab-df-buttons div {\n",
              "      margin-bottom: 4px;\n",
              "    }\n",
              "\n",
              "    [theme=dark] .colab-df-convert {\n",
              "      background-color: #3B4455;\n",
              "      fill: #D2E3FC;\n",
              "    }\n",
              "\n",
              "    [theme=dark] .colab-df-convert:hover {\n",
              "      background-color: #434B5C;\n",
              "      box-shadow: 0px 1px 3px 1px rgba(0, 0, 0, 0.15);\n",
              "      filter: drop-shadow(0px 1px 2px rgba(0, 0, 0, 0.3));\n",
              "      fill: #FFFFFF;\n",
              "    }\n",
              "  </style>\n",
              "\n",
              "    <script>\n",
              "      const buttonEl =\n",
              "        document.querySelector('#df-40429f65-47f2-4478-9bd1-afb89590e8c8 button.colab-df-convert');\n",
              "      buttonEl.style.display =\n",
              "        google.colab.kernel.accessAllowed ? 'block' : 'none';\n",
              "\n",
              "      async function convertToInteractive(key) {\n",
              "        const element = document.querySelector('#df-40429f65-47f2-4478-9bd1-afb89590e8c8');\n",
              "        const dataTable =\n",
              "          await google.colab.kernel.invokeFunction('convertToInteractive',\n",
              "                                                    [key], {});\n",
              "        if (!dataTable) return;\n",
              "\n",
              "        const docLinkHtml = 'Like what you see? Visit the ' +\n",
              "          '<a target=\"_blank\" href=https://colab.research.google.com/notebooks/data_table.ipynb>data table notebook</a>'\n",
              "          + ' to learn more about interactive tables.';\n",
              "        element.innerHTML = '';\n",
              "        dataTable['output_type'] = 'display_data';\n",
              "        await google.colab.output.renderOutput(dataTable, element);\n",
              "        const docLink = document.createElement('div');\n",
              "        docLink.innerHTML = docLinkHtml;\n",
              "        element.appendChild(docLink);\n",
              "      }\n",
              "    </script>\n",
              "  </div>\n",
              "\n",
              "\n",
              "<div id=\"df-48bcedfe-98ec-4dba-bc4b-6bc8ae5a185a\">\n",
              "  <button class=\"colab-df-quickchart\" onclick=\"quickchart('df-48bcedfe-98ec-4dba-bc4b-6bc8ae5a185a')\"\n",
              "            title=\"Suggest charts\"\n",
              "            style=\"display:none;\">\n",
              "\n",
              "<svg xmlns=\"http://www.w3.org/2000/svg\" height=\"24px\"viewBox=\"0 0 24 24\"\n",
              "     width=\"24px\">\n",
              "    <g>\n",
              "        <path d=\"M19 3H5c-1.1 0-2 .9-2 2v14c0 1.1.9 2 2 2h14c1.1 0 2-.9 2-2V5c0-1.1-.9-2-2-2zM9 17H7v-7h2v7zm4 0h-2V7h2v10zm4 0h-2v-4h2v4z\"/>\n",
              "    </g>\n",
              "</svg>\n",
              "  </button>\n",
              "\n",
              "<style>\n",
              "  .colab-df-quickchart {\n",
              "      --bg-color: #E8F0FE;\n",
              "      --fill-color: #1967D2;\n",
              "      --hover-bg-color: #E2EBFA;\n",
              "      --hover-fill-color: #174EA6;\n",
              "      --disabled-fill-color: #AAA;\n",
              "      --disabled-bg-color: #DDD;\n",
              "  }\n",
              "\n",
              "  [theme=dark] .colab-df-quickchart {\n",
              "      --bg-color: #3B4455;\n",
              "      --fill-color: #D2E3FC;\n",
              "      --hover-bg-color: #434B5C;\n",
              "      --hover-fill-color: #FFFFFF;\n",
              "      --disabled-bg-color: #3B4455;\n",
              "      --disabled-fill-color: #666;\n",
              "  }\n",
              "\n",
              "  .colab-df-quickchart {\n",
              "    background-color: var(--bg-color);\n",
              "    border: none;\n",
              "    border-radius: 50%;\n",
              "    cursor: pointer;\n",
              "    display: none;\n",
              "    fill: var(--fill-color);\n",
              "    height: 32px;\n",
              "    padding: 0;\n",
              "    width: 32px;\n",
              "  }\n",
              "\n",
              "  .colab-df-quickchart:hover {\n",
              "    background-color: var(--hover-bg-color);\n",
              "    box-shadow: 0 1px 2px rgba(60, 64, 67, 0.3), 0 1px 3px 1px rgba(60, 64, 67, 0.15);\n",
              "    fill: var(--button-hover-fill-color);\n",
              "  }\n",
              "\n",
              "  .colab-df-quickchart-complete:disabled,\n",
              "  .colab-df-quickchart-complete:disabled:hover {\n",
              "    background-color: var(--disabled-bg-color);\n",
              "    fill: var(--disabled-fill-color);\n",
              "    box-shadow: none;\n",
              "  }\n",
              "\n",
              "  .colab-df-spinner {\n",
              "    border: 2px solid var(--fill-color);\n",
              "    border-color: transparent;\n",
              "    border-bottom-color: var(--fill-color);\n",
              "    animation:\n",
              "      spin 1s steps(1) infinite;\n",
              "  }\n",
              "\n",
              "  @keyframes spin {\n",
              "    0% {\n",
              "      border-color: transparent;\n",
              "      border-bottom-color: var(--fill-color);\n",
              "      border-left-color: var(--fill-color);\n",
              "    }\n",
              "    20% {\n",
              "      border-color: transparent;\n",
              "      border-left-color: var(--fill-color);\n",
              "      border-top-color: var(--fill-color);\n",
              "    }\n",
              "    30% {\n",
              "      border-color: transparent;\n",
              "      border-left-color: var(--fill-color);\n",
              "      border-top-color: var(--fill-color);\n",
              "      border-right-color: var(--fill-color);\n",
              "    }\n",
              "    40% {\n",
              "      border-color: transparent;\n",
              "      border-right-color: var(--fill-color);\n",
              "      border-top-color: var(--fill-color);\n",
              "    }\n",
              "    60% {\n",
              "      border-color: transparent;\n",
              "      border-right-color: var(--fill-color);\n",
              "    }\n",
              "    80% {\n",
              "      border-color: transparent;\n",
              "      border-right-color: var(--fill-color);\n",
              "      border-bottom-color: var(--fill-color);\n",
              "    }\n",
              "    90% {\n",
              "      border-color: transparent;\n",
              "      border-bottom-color: var(--fill-color);\n",
              "    }\n",
              "  }\n",
              "</style>\n",
              "\n",
              "  <script>\n",
              "    async function quickchart(key) {\n",
              "      const quickchartButtonEl =\n",
              "        document.querySelector('#' + key + ' button');\n",
              "      quickchartButtonEl.disabled = true;  // To prevent multiple clicks.\n",
              "      quickchartButtonEl.classList.add('colab-df-spinner');\n",
              "      try {\n",
              "        const charts = await google.colab.kernel.invokeFunction(\n",
              "            'suggestCharts', [key], {});\n",
              "      } catch (error) {\n",
              "        console.error('Error during call to suggestCharts:', error);\n",
              "      }\n",
              "      quickchartButtonEl.classList.remove('colab-df-spinner');\n",
              "      quickchartButtonEl.classList.add('colab-df-quickchart-complete');\n",
              "    }\n",
              "    (() => {\n",
              "      let quickchartButtonEl =\n",
              "        document.querySelector('#df-48bcedfe-98ec-4dba-bc4b-6bc8ae5a185a button');\n",
              "      quickchartButtonEl.style.display =\n",
              "        google.colab.kernel.accessAllowed ? 'block' : 'none';\n",
              "    })();\n",
              "  </script>\n",
              "</div>\n",
              "\n",
              "    </div>\n",
              "  </div>\n"
            ],
            "application/vnd.google.colaboratory.intrinsic+json": {
              "type": "dataframe",
              "variable_name": "X",
              "summary": "{\n  \"name\": \"X\",\n  \"rows\": 10000,\n  \"fields\": [\n    {\n      \"column\": \"CreditScore\",\n      \"properties\": {\n        \"dtype\": \"number\",\n        \"std\": 96,\n        \"min\": 350,\n        \"max\": 850,\n        \"num_unique_values\": 460,\n        \"samples\": [\n          754,\n          533,\n          744\n        ],\n        \"semantic_type\": \"\",\n        \"description\": \"\"\n      }\n    },\n    {\n      \"column\": \"Age\",\n      \"properties\": {\n        \"dtype\": \"number\",\n        \"std\": 10,\n        \"min\": 18,\n        \"max\": 92,\n        \"num_unique_values\": 70,\n        \"samples\": [\n          61,\n          42,\n          59\n        ],\n        \"semantic_type\": \"\",\n        \"description\": \"\"\n      }\n    },\n    {\n      \"column\": \"Tenure\",\n      \"properties\": {\n        \"dtype\": \"number\",\n        \"std\": 2,\n        \"min\": 0,\n        \"max\": 10,\n        \"num_unique_values\": 11,\n        \"samples\": [\n          6,\n          2,\n          9\n        ],\n        \"semantic_type\": \"\",\n        \"description\": \"\"\n      }\n    },\n    {\n      \"column\": \"Balance\",\n      \"properties\": {\n        \"dtype\": \"number\",\n        \"std\": 62397.405202385955,\n        \"min\": 0.0,\n        \"max\": 250898.09,\n        \"num_unique_values\": 6382,\n        \"samples\": [\n          117707.18,\n          133050.97,\n          124271.26\n        ],\n        \"semantic_type\": \"\",\n        \"description\": \"\"\n      }\n    },\n    {\n      \"column\": \"NumOfProducts\",\n      \"properties\": {\n        \"dtype\": \"number\",\n        \"std\": 0,\n        \"min\": 1,\n        \"max\": 4,\n        \"num_unique_values\": 4,\n        \"samples\": [\n          3,\n          4,\n          1\n        ],\n        \"semantic_type\": \"\",\n        \"description\": \"\"\n      }\n    },\n    {\n      \"column\": \"HasCrCard\",\n      \"properties\": {\n        \"dtype\": \"number\",\n        \"std\": 0,\n        \"min\": 0,\n        \"max\": 1,\n        \"num_unique_values\": 2,\n        \"samples\": [\n          0,\n          1\n        ],\n        \"semantic_type\": \"\",\n        \"description\": \"\"\n      }\n    },\n    {\n      \"column\": \"IsActiveMember\",\n      \"properties\": {\n        \"dtype\": \"number\",\n        \"std\": 0,\n        \"min\": 0,\n        \"max\": 1,\n        \"num_unique_values\": 2,\n        \"samples\": [\n          0,\n          1\n        ],\n        \"semantic_type\": \"\",\n        \"description\": \"\"\n      }\n    },\n    {\n      \"column\": \"EstimatedSalary\",\n      \"properties\": {\n        \"dtype\": \"number\",\n        \"std\": 57510.49281769816,\n        \"min\": 11.58,\n        \"max\": 199992.48,\n        \"num_unique_values\": 9999,\n        \"samples\": [\n          100809.99,\n          95273.73\n        ],\n        \"semantic_type\": \"\",\n        \"description\": \"\"\n      }\n    },\n    {\n      \"column\": \"Germany\",\n      \"properties\": {\n        \"dtype\": \"boolean\",\n        \"num_unique_values\": 2,\n        \"samples\": [\n          true,\n          false\n        ],\n        \"semantic_type\": \"\",\n        \"description\": \"\"\n      }\n    },\n    {\n      \"column\": \"Spain\",\n      \"properties\": {\n        \"dtype\": \"boolean\",\n        \"num_unique_values\": 2,\n        \"samples\": [\n          true,\n          false\n        ],\n        \"semantic_type\": \"\",\n        \"description\": \"\"\n      }\n    },\n    {\n      \"column\": \"Male\",\n      \"properties\": {\n        \"dtype\": \"boolean\",\n        \"num_unique_values\": 2,\n        \"samples\": [\n          true,\n          false\n        ],\n        \"semantic_type\": \"\",\n        \"description\": \"\"\n      }\n    }\n  ]\n}"
            }
          },
          "metadata": {},
          "execution_count": 13
        }
      ]
    },
    {
      "cell_type": "code",
      "source": [
        "y.head()"
      ],
      "metadata": {
        "colab": {
          "base_uri": "https://localhost:8080/"
        },
        "id": "4KpPcl8wzsVz",
        "outputId": "2ac05c30-dd0d-4b3f-8399-fe67e930cd85"
      },
      "execution_count": null,
      "outputs": [
        {
          "output_type": "execute_result",
          "data": {
            "text/plain": [
              "0    1\n",
              "1    0\n",
              "2    1\n",
              "3    0\n",
              "4    0\n",
              "Name: Exited, dtype: int64"
            ]
          },
          "metadata": {},
          "execution_count": 14
        }
      ]
    },
    {
      "cell_type": "markdown",
      "source": [
        "# Train Test Split\n"
      ],
      "metadata": {
        "id": "v95unQmj0MNV"
      }
    },
    {
      "cell_type": "code",
      "source": [
        "from sklearn.model_selection import train_test_split\n",
        "X_train, X_test, y_train, y_test = train_test_split(X, y, test_size =0.2)"
      ],
      "metadata": {
        "id": "pT-bUJejz39m"
      },
      "execution_count": null,
      "outputs": []
    },
    {
      "cell_type": "markdown",
      "source": [
        "# Hyper parameter tune"
      ],
      "metadata": {
        "id": "7yhFLLf7o4rz"
      }
    },
    {
      "cell_type": "code",
      "source": [
        "from tensorflow.keras.callbacks import ReduceLROnPlateau\n",
        "from keras.callbacks import EarlyStopping\n",
        "from keras.callbacks import ModelCheckpoint\n",
        "from tensorflow.keras.callbacks import TensorBoard\n",
        "import datetime\n",
        "from keras.metrics import Recall,Precision\n",
        "from tensorflow.keras.utils import plot_model\n",
        "from IPython.display import SVG, Image\n",
        "from keras.models import Sequential, load_model\n",
        "from keras.layers import Conv2D, MaxPool2D, Dense, Dropout, Flatten\n",
        "from keras.layers import BatchNormalization\n",
        "from keras.layers import Activation\n",
        "!pip install optuna\n",
        "from optuna import create_study, Trial\n",
        "from tensorflow.keras.optimizers import Adam"
      ],
      "metadata": {
        "colab": {
          "base_uri": "https://localhost:8080/"
        },
        "id": "BKs8PyXbo4JT",
        "outputId": "0cbd632c-4e2a-4c35-e378-78c40dadeb51"
      },
      "execution_count": null,
      "outputs": [
        {
          "output_type": "stream",
          "name": "stdout",
          "text": [
            "Collecting optuna\n",
            "  Downloading optuna-3.6.1-py3-none-any.whl (380 kB)\n",
            "\u001b[2K     \u001b[90m━━━━━━━━━━━━━━━━━━━━━━━━━━━━━━━━━━━━━━━━\u001b[0m \u001b[32m380.1/380.1 kB\u001b[0m \u001b[31m2.9 MB/s\u001b[0m eta \u001b[36m0:00:00\u001b[0m\n",
            "\u001b[?25hCollecting alembic>=1.5.0 (from optuna)\n",
            "  Downloading alembic-1.13.1-py3-none-any.whl (233 kB)\n",
            "\u001b[2K     \u001b[90m━━━━━━━━━━━━━━━━━━━━━━━━━━━━━━━━━━━━━━━━\u001b[0m \u001b[32m233.4/233.4 kB\u001b[0m \u001b[31m14.0 MB/s\u001b[0m eta \u001b[36m0:00:00\u001b[0m\n",
            "\u001b[?25hCollecting colorlog (from optuna)\n",
            "  Downloading colorlog-6.8.2-py3-none-any.whl (11 kB)\n",
            "Requirement already satisfied: numpy in /usr/local/lib/python3.10/dist-packages (from optuna) (1.25.2)\n",
            "Requirement already satisfied: packaging>=20.0 in /usr/local/lib/python3.10/dist-packages (from optuna) (24.0)\n",
            "Requirement already satisfied: sqlalchemy>=1.3.0 in /usr/local/lib/python3.10/dist-packages (from optuna) (2.0.29)\n",
            "Requirement already satisfied: tqdm in /usr/local/lib/python3.10/dist-packages (from optuna) (4.66.2)\n",
            "Requirement already satisfied: PyYAML in /usr/local/lib/python3.10/dist-packages (from optuna) (6.0.1)\n",
            "Collecting Mako (from alembic>=1.5.0->optuna)\n",
            "  Downloading Mako-1.3.3-py3-none-any.whl (78 kB)\n",
            "\u001b[2K     \u001b[90m━━━━━━━━━━━━━━━━━━━━━━━━━━━━━━━━━━━━━━━━\u001b[0m \u001b[32m78.8/78.8 kB\u001b[0m \u001b[31m6.9 MB/s\u001b[0m eta \u001b[36m0:00:00\u001b[0m\n",
            "\u001b[?25hRequirement already satisfied: typing-extensions>=4 in /usr/local/lib/python3.10/dist-packages (from alembic>=1.5.0->optuna) (4.11.0)\n",
            "Requirement already satisfied: greenlet!=0.4.17 in /usr/local/lib/python3.10/dist-packages (from sqlalchemy>=1.3.0->optuna) (3.0.3)\n",
            "Requirement already satisfied: MarkupSafe>=0.9.2 in /usr/local/lib/python3.10/dist-packages (from Mako->alembic>=1.5.0->optuna) (2.1.5)\n",
            "Installing collected packages: Mako, colorlog, alembic, optuna\n",
            "Successfully installed Mako-1.3.3 alembic-1.13.1 colorlog-6.8.2 optuna-3.6.1\n"
          ]
        }
      ]
    },
    {
      "cell_type": "code",
      "source": [
        "# Define objective function\n",
        "def objective(trial):\n",
        "    n_layers = trial.suggest_int(\"n_layers\", 1, 10)\n",
        "    n_units = trial.suggest_int(\"n_units\", 32, 256)\n",
        "    learning_rate = trial.suggest_float(\"learning_rate\", 1e-4, 1e-2)\n",
        "\n",
        "    # Build and train model\n",
        "    model = Sequential()\n",
        "    model.add(Dense(n_units, activation=\"relu\", input_shape=(X_train.shape[1],)))  # Input layer with explicit input shape\n",
        "    for _ in range(n_layers - 1):  # Adjust loop for hidden layers only\n",
        "        model.add(Dense(n_units, activation=\"relu\"))\n",
        "    model.add(Dense(1, activation=\"sigmoid\"))  # Output layer for binary classification\n",
        "    model.compile(loss=\"binary_crossentropy\", optimizer=Adam(learning_rate=learning_rate),  metrics=['accuracy'])\n",
        "    model.fit(X_train, y_train, epochs=10)\n",
        "\n",
        "    # Evaluate on validation set\n",
        "    loss, _ = model.evaluate(X_test, y_test)\n",
        "    return loss\n",
        "\n",
        "\n",
        "# Create Optuna study\n",
        "study = create_study(direction=\"minimize\")\n",
        "\n",
        "# Optimize hyperparameters\n",
        "study.optimize(objective, n_trials=100)\n",
        "\n",
        "# Access best parameters\n",
        "best_params = study.best_params\n",
        "\n",
        "# Print best parameters and score\n",
        "print(f\"Best params: {best_params}\")\n",
        "print(f\"Best validation loss: {study.best_value}\")"
      ],
      "metadata": {
        "colab": {
          "base_uri": "https://localhost:8080/"
        },
        "id": "gxuE1y8SpJ-m",
        "outputId": "5069ea7f-932a-487d-c28c-7813ca8cfe59"
      },
      "execution_count": null,
      "outputs": [
        {
          "output_type": "stream",
          "name": "stderr",
          "text": [
            "[I 2024-04-24 19:47:09,373] A new study created in memory with name: no-name-0f57f5ef-ab20-4c4f-ad9d-ca9c12308c45\n"
          ]
        },
        {
          "output_type": "stream",
          "name": "stdout",
          "text": [
            "Epoch 1/10\n",
            "250/250 [==============================] - 3s 6ms/step - loss: 0.4320 - accuracy: 0.8120\n",
            "Epoch 2/10\n",
            "250/250 [==============================] - 2s 6ms/step - loss: 0.3822 - accuracy: 0.8440\n",
            "Epoch 3/10\n",
            "250/250 [==============================] - 2s 8ms/step - loss: 0.4407 - accuracy: 0.8219\n",
            "Epoch 4/10\n",
            "250/250 [==============================] - 3s 11ms/step - loss: 0.4839 - accuracy: 0.8027\n",
            "Epoch 5/10\n",
            "250/250 [==============================] - 1s 6ms/step - loss: 0.4190 - accuracy: 0.8322\n",
            "Epoch 6/10\n",
            "250/250 [==============================] - 2s 7ms/step - loss: 0.4307 - accuracy: 0.8334\n",
            "Epoch 7/10\n",
            "250/250 [==============================] - 2s 7ms/step - loss: 0.3794 - accuracy: 0.8486\n",
            "Epoch 8/10\n",
            "250/250 [==============================] - 1s 5ms/step - loss: 0.3740 - accuracy: 0.8524\n",
            "Epoch 9/10\n",
            "250/250 [==============================] - 1s 5ms/step - loss: 0.3953 - accuracy: 0.8455\n",
            "Epoch 10/10\n",
            "250/250 [==============================] - 1s 5ms/step - loss: 0.5016 - accuracy: 0.8382\n",
            "63/63 [==============================] - 1s 5ms/step - loss: 0.3987 - accuracy: 0.8445\n"
          ]
        },
        {
          "output_type": "stream",
          "name": "stderr",
          "text": [
            "[I 2024-04-24 19:47:29,154] Trial 0 finished with value: 0.3986971080303192 and parameters: {'n_layers': 7, 'n_units': 201, 'learning_rate': 0.00887838810119435}. Best is trial 0 with value: 0.3986971080303192.\n"
          ]
        },
        {
          "output_type": "stream",
          "name": "stdout",
          "text": [
            "Epoch 1/10\n",
            "250/250 [==============================] - 4s 7ms/step - loss: 0.4350 - accuracy: 0.8129\n",
            "Epoch 2/10\n",
            "250/250 [==============================] - 2s 8ms/step - loss: 0.3703 - accuracy: 0.8464\n",
            "Epoch 3/10\n",
            "250/250 [==============================] - 2s 8ms/step - loss: 0.3662 - accuracy: 0.8533\n",
            "Epoch 4/10\n",
            "250/250 [==============================] - 2s 7ms/step - loss: 0.3651 - accuracy: 0.8504\n",
            "Epoch 5/10\n",
            "250/250 [==============================] - 2s 7ms/step - loss: 0.3515 - accuracy: 0.8561\n",
            "Epoch 6/10\n",
            "250/250 [==============================] - 3s 12ms/step - loss: 0.3575 - accuracy: 0.8556\n",
            "Epoch 7/10\n",
            "250/250 [==============================] - 2s 7ms/step - loss: 0.3747 - accuracy: 0.8484\n",
            "Epoch 8/10\n",
            "250/250 [==============================] - 2s 8ms/step - loss: 0.3529 - accuracy: 0.8608\n",
            "Epoch 9/10\n",
            "250/250 [==============================] - 2s 7ms/step - loss: 0.3438 - accuracy: 0.8627\n",
            "Epoch 10/10\n",
            "250/250 [==============================] - 2s 7ms/step - loss: 0.3372 - accuracy: 0.8620\n",
            "63/63 [==============================] - 0s 3ms/step - loss: 0.3548 - accuracy: 0.8515\n"
          ]
        },
        {
          "output_type": "stream",
          "name": "stderr",
          "text": [
            "[I 2024-04-24 19:47:51,557] Trial 1 finished with value: 0.35483482480049133 and parameters: {'n_layers': 9, 'n_units': 201, 'learning_rate': 0.0045602935792577615}. Best is trial 1 with value: 0.35483482480049133.\n"
          ]
        },
        {
          "output_type": "stream",
          "name": "stdout",
          "text": [
            "Epoch 1/10\n",
            "250/250 [==============================] - 2s 4ms/step - loss: 0.4202 - accuracy: 0.8261\n",
            "Epoch 2/10\n",
            "250/250 [==============================] - 2s 6ms/step - loss: 0.3629 - accuracy: 0.8560\n",
            "Epoch 3/10\n",
            "250/250 [==============================] - 1s 6ms/step - loss: 0.3632 - accuracy: 0.8540\n",
            "Epoch 4/10\n",
            "250/250 [==============================] - 1s 3ms/step - loss: 0.3489 - accuracy: 0.8604\n",
            "Epoch 5/10\n",
            "250/250 [==============================] - 1s 3ms/step - loss: 0.3458 - accuracy: 0.8614\n",
            "Epoch 6/10\n",
            "250/250 [==============================] - 1s 3ms/step - loss: 0.3441 - accuracy: 0.8596\n",
            "Epoch 7/10\n",
            "250/250 [==============================] - 1s 4ms/step - loss: 0.3491 - accuracy: 0.8614\n",
            "Epoch 8/10\n",
            "250/250 [==============================] - 1s 4ms/step - loss: 0.3399 - accuracy: 0.8660\n",
            "Epoch 9/10\n",
            "250/250 [==============================] - 1s 4ms/step - loss: 0.3374 - accuracy: 0.8646\n",
            "Epoch 10/10\n",
            "250/250 [==============================] - 1s 4ms/step - loss: 0.3304 - accuracy: 0.8665\n",
            "63/63 [==============================] - 0s 2ms/step - loss: 0.3516 - accuracy: 0.8535\n"
          ]
        },
        {
          "output_type": "stream",
          "name": "stderr",
          "text": [
            "[I 2024-04-24 19:48:14,130] Trial 2 finished with value: 0.3516133725643158 and parameters: {'n_layers': 6, 'n_units': 105, 'learning_rate': 0.007194019710093121}. Best is trial 2 with value: 0.3516133725643158.\n"
          ]
        },
        {
          "output_type": "stream",
          "name": "stdout",
          "text": [
            "Epoch 1/10\n",
            "250/250 [==============================] - 3s 5ms/step - loss: 0.4035 - accuracy: 0.8365\n",
            "Epoch 2/10\n",
            "250/250 [==============================] - 1s 4ms/step - loss: 0.3511 - accuracy: 0.8574\n",
            "Epoch 3/10\n",
            "250/250 [==============================] - 2s 6ms/step - loss: 0.3438 - accuracy: 0.8594\n",
            "Epoch 4/10\n",
            "250/250 [==============================] - 2s 7ms/step - loss: 0.3411 - accuracy: 0.8625\n",
            "Epoch 5/10\n",
            "250/250 [==============================] - 1s 6ms/step - loss: 0.3373 - accuracy: 0.8651\n",
            "Epoch 6/10\n",
            "250/250 [==============================] - 1s 4ms/step - loss: 0.3314 - accuracy: 0.8656\n",
            "Epoch 7/10\n",
            "250/250 [==============================] - 1s 4ms/step - loss: 0.3248 - accuracy: 0.8661\n",
            "Epoch 8/10\n",
            "250/250 [==============================] - 1s 5ms/step - loss: 0.3254 - accuracy: 0.8660\n",
            "Epoch 9/10\n",
            "250/250 [==============================] - 2s 8ms/step - loss: 0.3166 - accuracy: 0.8706\n",
            "Epoch 10/10\n",
            "250/250 [==============================] - 1s 5ms/step - loss: 0.3174 - accuracy: 0.8714\n",
            "63/63 [==============================] - 0s 3ms/step - loss: 0.3588 - accuracy: 0.8460\n"
          ]
        },
        {
          "output_type": "stream",
          "name": "stderr",
          "text": [
            "[I 2024-04-24 19:48:36,766] Trial 3 finished with value: 0.3588455617427826 and parameters: {'n_layers': 5, 'n_units': 208, 'learning_rate': 0.001979370190058318}. Best is trial 2 with value: 0.3516133725643158.\n"
          ]
        },
        {
          "output_type": "stream",
          "name": "stdout",
          "text": [
            "Epoch 1/10\n",
            "250/250 [==============================] - 4s 8ms/step - loss: 0.4073 - accuracy: 0.8281\n",
            "Epoch 2/10\n",
            "250/250 [==============================] - 2s 8ms/step - loss: 0.3497 - accuracy: 0.8579\n",
            "Epoch 3/10\n",
            "250/250 [==============================] - 3s 11ms/step - loss: 0.3369 - accuracy: 0.8614\n",
            "Epoch 4/10\n",
            "250/250 [==============================] - 2s 9ms/step - loss: 0.3362 - accuracy: 0.8648\n",
            "Epoch 5/10\n",
            "250/250 [==============================] - 2s 8ms/step - loss: 0.3270 - accuracy: 0.8679\n",
            "Epoch 6/10\n",
            "250/250 [==============================] - 2s 8ms/step - loss: 0.3219 - accuracy: 0.8673\n",
            "Epoch 7/10\n",
            "250/250 [==============================] - 2s 8ms/step - loss: 0.3163 - accuracy: 0.8712\n",
            "Epoch 8/10\n",
            "250/250 [==============================] - 2s 7ms/step - loss: 0.3084 - accuracy: 0.8735\n",
            "Epoch 9/10\n",
            "250/250 [==============================] - 3s 12ms/step - loss: 0.3043 - accuracy: 0.8752\n",
            "Epoch 10/10\n",
            "250/250 [==============================] - 2s 10ms/step - loss: 0.2976 - accuracy: 0.8775\n",
            "63/63 [==============================] - 0s 3ms/step - loss: 0.3635 - accuracy: 0.8565\n"
          ]
        },
        {
          "output_type": "stream",
          "name": "stderr",
          "text": [
            "[I 2024-04-24 19:49:01,728] Trial 4 finished with value: 0.36349207162857056 and parameters: {'n_layers': 6, 'n_units': 229, 'learning_rate': 0.0009146599509844332}. Best is trial 2 with value: 0.3516133725643158.\n"
          ]
        },
        {
          "output_type": "stream",
          "name": "stdout",
          "text": [
            "Epoch 1/10\n",
            "250/250 [==============================] - 2s 5ms/step - loss: 0.4039 - accuracy: 0.8341\n",
            "Epoch 2/10\n",
            "250/250 [==============================] - 1s 5ms/step - loss: 0.3727 - accuracy: 0.8484\n",
            "Epoch 3/10\n",
            "250/250 [==============================] - 1s 5ms/step - loss: 0.3617 - accuracy: 0.8529\n",
            "Epoch 4/10\n",
            "250/250 [==============================] - 1s 5ms/step - loss: 0.3579 - accuracy: 0.8562\n",
            "Epoch 5/10\n",
            "250/250 [==============================] - 1s 5ms/step - loss: 0.3443 - accuracy: 0.8614\n",
            "Epoch 6/10\n",
            "250/250 [==============================] - 2s 6ms/step - loss: 0.3417 - accuracy: 0.8616\n",
            "Epoch 7/10\n",
            "250/250 [==============================] - 2s 7ms/step - loss: 0.3392 - accuracy: 0.8616\n",
            "Epoch 8/10\n",
            "250/250 [==============================] - 1s 5ms/step - loss: 0.3446 - accuracy: 0.8591\n",
            "Epoch 9/10\n",
            "250/250 [==============================] - 1s 6ms/step - loss: 0.3386 - accuracy: 0.8622\n",
            "Epoch 10/10\n",
            "250/250 [==============================] - 1s 5ms/step - loss: 0.3332 - accuracy: 0.8622\n",
            "63/63 [==============================] - 1s 8ms/step - loss: 0.3547 - accuracy: 0.8550\n"
          ]
        },
        {
          "output_type": "stream",
          "name": "stderr",
          "text": [
            "[I 2024-04-24 19:49:18,104] Trial 5 finished with value: 0.35473522543907166 and parameters: {'n_layers': 4, 'n_units': 218, 'learning_rate': 0.008037862443573225}. Best is trial 2 with value: 0.3516133725643158.\n"
          ]
        },
        {
          "output_type": "stream",
          "name": "stdout",
          "text": [
            "Epoch 1/10\n",
            "250/250 [==============================] - 3s 4ms/step - loss: 0.4224 - accuracy: 0.8248\n",
            "Epoch 2/10\n",
            "250/250 [==============================] - 2s 6ms/step - loss: 0.3639 - accuracy: 0.8504\n",
            "Epoch 3/10\n",
            "250/250 [==============================] - 2s 8ms/step - loss: 0.3484 - accuracy: 0.8599\n",
            "Epoch 4/10\n",
            "250/250 [==============================] - 1s 4ms/step - loss: 0.3431 - accuracy: 0.8609\n",
            "Epoch 5/10\n",
            "250/250 [==============================] - 1s 4ms/step - loss: 0.3412 - accuracy: 0.8612\n",
            "Epoch 6/10\n",
            "250/250 [==============================] - 1s 4ms/step - loss: 0.3357 - accuracy: 0.8644\n",
            "Epoch 7/10\n",
            "250/250 [==============================] - 1s 5ms/step - loss: 0.3293 - accuracy: 0.8673\n",
            "Epoch 8/10\n",
            "250/250 [==============================] - 1s 5ms/step - loss: 0.3272 - accuracy: 0.8655\n",
            "Epoch 9/10\n",
            "250/250 [==============================] - 1s 4ms/step - loss: 0.3248 - accuracy: 0.8637\n",
            "Epoch 10/10\n",
            "250/250 [==============================] - 1s 4ms/step - loss: 0.3166 - accuracy: 0.8704\n",
            "63/63 [==============================] - 0s 2ms/step - loss: 0.3591 - accuracy: 0.8490\n"
          ]
        },
        {
          "output_type": "stream",
          "name": "stderr",
          "text": [
            "[I 2024-04-24 19:49:41,404] Trial 6 finished with value: 0.3590901494026184 and parameters: {'n_layers': 10, 'n_units': 96, 'learning_rate': 0.00206328133715455}. Best is trial 2 with value: 0.3516133725643158.\n"
          ]
        },
        {
          "output_type": "stream",
          "name": "stdout",
          "text": [
            "Epoch 1/10\n",
            "250/250 [==============================] - 2s 3ms/step - loss: 0.4031 - accuracy: 0.8325\n",
            "Epoch 2/10\n",
            "250/250 [==============================] - 1s 3ms/step - loss: 0.3569 - accuracy: 0.8524\n",
            "Epoch 3/10\n",
            "250/250 [==============================] - 1s 3ms/step - loss: 0.3502 - accuracy: 0.8605\n",
            "Epoch 4/10\n",
            "250/250 [==============================] - 1s 4ms/step - loss: 0.3428 - accuracy: 0.8614\n",
            "Epoch 5/10\n",
            "250/250 [==============================] - 1s 4ms/step - loss: 0.3412 - accuracy: 0.8616\n",
            "Epoch 6/10\n",
            "250/250 [==============================] - 1s 5ms/step - loss: 0.3338 - accuracy: 0.8655\n",
            "Epoch 7/10\n",
            "250/250 [==============================] - 1s 6ms/step - loss: 0.3313 - accuracy: 0.8655\n",
            "Epoch 8/10\n",
            "250/250 [==============================] - 1s 4ms/step - loss: 0.3290 - accuracy: 0.8681\n",
            "Epoch 9/10\n",
            "250/250 [==============================] - 1s 4ms/step - loss: 0.3270 - accuracy: 0.8685\n",
            "Epoch 10/10\n",
            "250/250 [==============================] - 2s 6ms/step - loss: 0.3229 - accuracy: 0.8690\n",
            "63/63 [==============================] - 0s 2ms/step - loss: 0.3595 - accuracy: 0.8525\n"
          ]
        },
        {
          "output_type": "stream",
          "name": "stderr",
          "text": [
            "[I 2024-04-24 19:49:54,127] Trial 7 finished with value: 0.3594660758972168 and parameters: {'n_layers': 7, 'n_units': 76, 'learning_rate': 0.0033714117035678445}. Best is trial 2 with value: 0.3516133725643158.\n"
          ]
        },
        {
          "output_type": "stream",
          "name": "stdout",
          "text": [
            "Epoch 1/10\n",
            "250/250 [==============================] - 1s 2ms/step - loss: 0.3996 - accuracy: 0.8342\n",
            "Epoch 2/10\n",
            "250/250 [==============================] - 0s 2ms/step - loss: 0.3552 - accuracy: 0.8537\n",
            "Epoch 3/10\n",
            "250/250 [==============================] - 0s 2ms/step - loss: 0.3532 - accuracy: 0.8549\n",
            "Epoch 4/10\n",
            "250/250 [==============================] - 1s 2ms/step - loss: 0.3454 - accuracy: 0.8572\n",
            "Epoch 5/10\n",
            "250/250 [==============================] - 0s 2ms/step - loss: 0.3405 - accuracy: 0.8575\n",
            "Epoch 6/10\n",
            "250/250 [==============================] - 0s 2ms/step - loss: 0.3386 - accuracy: 0.8609\n",
            "Epoch 7/10\n",
            "250/250 [==============================] - 0s 2ms/step - loss: 0.3367 - accuracy: 0.8610\n",
            "Epoch 8/10\n",
            "250/250 [==============================] - 1s 2ms/step - loss: 0.3360 - accuracy: 0.8610\n",
            "Epoch 9/10\n",
            "250/250 [==============================] - 1s 2ms/step - loss: 0.3339 - accuracy: 0.8651\n",
            "Epoch 10/10\n",
            "250/250 [==============================] - 1s 2ms/step - loss: 0.3334 - accuracy: 0.8634\n",
            "63/63 [==============================] - 0s 4ms/step - loss: 0.3443 - accuracy: 0.8545\n"
          ]
        },
        {
          "output_type": "stream",
          "name": "stderr",
          "text": [
            "[I 2024-04-24 19:50:00,412] Trial 8 finished with value: 0.3443101644515991 and parameters: {'n_layers': 1, 'n_units': 98, 'learning_rate': 0.008742140890248962}. Best is trial 8 with value: 0.3443101644515991.\n"
          ]
        },
        {
          "output_type": "stream",
          "name": "stdout",
          "text": [
            "Epoch 1/10\n",
            "250/250 [==============================] - 3s 5ms/step - loss: 0.4040 - accuracy: 0.8329\n",
            "Epoch 2/10\n",
            "250/250 [==============================] - 1s 3ms/step - loss: 0.3570 - accuracy: 0.8549\n",
            "Epoch 3/10\n",
            "250/250 [==============================] - 1s 3ms/step - loss: 0.3471 - accuracy: 0.8605\n",
            "Epoch 4/10\n",
            "250/250 [==============================] - 1s 3ms/step - loss: 0.3419 - accuracy: 0.8616\n",
            "Epoch 5/10\n",
            "250/250 [==============================] - 1s 2ms/step - loss: 0.3387 - accuracy: 0.8631\n",
            "Epoch 6/10\n",
            "250/250 [==============================] - 1s 2ms/step - loss: 0.3374 - accuracy: 0.8615\n",
            "Epoch 7/10\n",
            "250/250 [==============================] - 1s 2ms/step - loss: 0.3331 - accuracy: 0.8641\n",
            "Epoch 8/10\n",
            "250/250 [==============================] - 1s 2ms/step - loss: 0.3300 - accuracy: 0.8665\n",
            "Epoch 9/10\n",
            "250/250 [==============================] - 1s 2ms/step - loss: 0.3287 - accuracy: 0.8659\n",
            "Epoch 10/10\n",
            "250/250 [==============================] - 1s 2ms/step - loss: 0.3260 - accuracy: 0.8675\n",
            "63/63 [==============================] - 0s 2ms/step - loss: 0.3528 - accuracy: 0.8505\n"
          ]
        },
        {
          "output_type": "stream",
          "name": "stderr",
          "text": [
            "[I 2024-04-24 19:50:12,958] Trial 9 finished with value: 0.35277673602104187 and parameters: {'n_layers': 3, 'n_units': 60, 'learning_rate': 0.007758020024180745}. Best is trial 8 with value: 0.3443101644515991.\n"
          ]
        },
        {
          "output_type": "stream",
          "name": "stdout",
          "text": [
            "Epoch 1/10\n",
            "250/250 [==============================] - 2s 3ms/step - loss: 0.3971 - accuracy: 0.8350\n",
            "Epoch 2/10\n",
            "250/250 [==============================] - 1s 3ms/step - loss: 0.3530 - accuracy: 0.8544\n",
            "Epoch 3/10\n",
            "250/250 [==============================] - 1s 2ms/step - loss: 0.3521 - accuracy: 0.8570\n",
            "Epoch 4/10\n",
            "250/250 [==============================] - 0s 2ms/step - loss: 0.3453 - accuracy: 0.8597\n",
            "Epoch 5/10\n",
            "250/250 [==============================] - 0s 2ms/step - loss: 0.3416 - accuracy: 0.8604\n",
            "Epoch 6/10\n",
            "250/250 [==============================] - 1s 2ms/step - loss: 0.3386 - accuracy: 0.8604\n",
            "Epoch 7/10\n",
            "250/250 [==============================] - 1s 2ms/step - loss: 0.3349 - accuracy: 0.8634\n",
            "Epoch 8/10\n",
            "250/250 [==============================] - 0s 2ms/step - loss: 0.3337 - accuracy: 0.8624\n",
            "Epoch 9/10\n",
            "250/250 [==============================] - 1s 2ms/step - loss: 0.3344 - accuracy: 0.8622\n",
            "Epoch 10/10\n",
            "250/250 [==============================] - 1s 3ms/step - loss: 0.3324 - accuracy: 0.8645\n",
            "63/63 [==============================] - 0s 2ms/step - loss: 0.3372 - accuracy: 0.8645\n"
          ]
        },
        {
          "output_type": "stream",
          "name": "stderr",
          "text": [
            "[I 2024-04-24 19:50:24,693] Trial 10 finished with value: 0.33723118901252747 and parameters: {'n_layers': 1, 'n_units': 129, 'learning_rate': 0.006129525415913063}. Best is trial 10 with value: 0.33723118901252747.\n"
          ]
        },
        {
          "output_type": "stream",
          "name": "stdout",
          "text": [
            "Epoch 1/10\n",
            "250/250 [==============================] - 1s 2ms/step - loss: 0.3952 - accuracy: 0.8324\n",
            "Epoch 2/10\n",
            "250/250 [==============================] - 1s 3ms/step - loss: 0.3533 - accuracy: 0.8555\n",
            "Epoch 3/10\n",
            "250/250 [==============================] - 1s 3ms/step - loss: 0.3498 - accuracy: 0.8568\n",
            "Epoch 4/10\n",
            "250/250 [==============================] - 1s 3ms/step - loss: 0.3422 - accuracy: 0.8609\n",
            "Epoch 5/10\n",
            "250/250 [==============================] - 1s 3ms/step - loss: 0.3399 - accuracy: 0.8605\n",
            "Epoch 6/10\n",
            "250/250 [==============================] - 1s 2ms/step - loss: 0.3374 - accuracy: 0.8608\n",
            "Epoch 7/10\n",
            "250/250 [==============================] - 0s 2ms/step - loss: 0.3358 - accuracy: 0.8609\n",
            "Epoch 8/10\n",
            "250/250 [==============================] - 1s 2ms/step - loss: 0.3336 - accuracy: 0.8620\n",
            "Epoch 9/10\n",
            "250/250 [==============================] - 0s 2ms/step - loss: 0.3317 - accuracy: 0.8631\n",
            "Epoch 10/10\n",
            "250/250 [==============================] - 0s 2ms/step - loss: 0.3311 - accuracy: 0.8633\n",
            "63/63 [==============================] - 0s 2ms/step - loss: 0.3481 - accuracy: 0.8560\n"
          ]
        },
        {
          "output_type": "stream",
          "name": "stderr",
          "text": [
            "[I 2024-04-24 19:50:31,892] Trial 11 finished with value: 0.3480846881866455 and parameters: {'n_layers': 1, 'n_units': 144, 'learning_rate': 0.006060302151474686}. Best is trial 10 with value: 0.33723118901252747.\n"
          ]
        },
        {
          "output_type": "stream",
          "name": "stdout",
          "text": [
            "Epoch 1/10\n",
            "250/250 [==============================] - 1s 2ms/step - loss: 0.3916 - accuracy: 0.8354\n",
            "Epoch 2/10\n",
            "250/250 [==============================] - 0s 2ms/step - loss: 0.3573 - accuracy: 0.8540\n",
            "Epoch 3/10\n",
            "250/250 [==============================] - 1s 2ms/step - loss: 0.3514 - accuracy: 0.8565\n",
            "Epoch 4/10\n",
            "250/250 [==============================] - 1s 2ms/step - loss: 0.3437 - accuracy: 0.8606\n",
            "Epoch 5/10\n",
            "250/250 [==============================] - 1s 2ms/step - loss: 0.3426 - accuracy: 0.8595\n",
            "Epoch 6/10\n",
            "250/250 [==============================] - 1s 3ms/step - loss: 0.3401 - accuracy: 0.8569\n",
            "Epoch 7/10\n",
            "250/250 [==============================] - 1s 3ms/step - loss: 0.3396 - accuracy: 0.8626\n",
            "Epoch 8/10\n",
            "250/250 [==============================] - 1s 3ms/step - loss: 0.3369 - accuracy: 0.8625\n",
            "Epoch 9/10\n",
            "250/250 [==============================] - 1s 3ms/step - loss: 0.3350 - accuracy: 0.8612\n",
            "Epoch 10/10\n",
            "250/250 [==============================] - 1s 2ms/step - loss: 0.3369 - accuracy: 0.8616\n",
            "63/63 [==============================] - 0s 2ms/step - loss: 0.3432 - accuracy: 0.8630\n"
          ]
        },
        {
          "output_type": "stream",
          "name": "stderr",
          "text": [
            "[I 2024-04-24 19:50:43,159] Trial 12 finished with value: 0.3432357609272003 and parameters: {'n_layers': 1, 'n_units': 143, 'learning_rate': 0.009744089561743503}. Best is trial 10 with value: 0.33723118901252747.\n"
          ]
        },
        {
          "output_type": "stream",
          "name": "stdout",
          "text": [
            "Epoch 1/10\n",
            "250/250 [==============================] - 1s 2ms/step - loss: 0.4002 - accuracy: 0.8411\n",
            "Epoch 2/10\n",
            "250/250 [==============================] - 1s 3ms/step - loss: 0.3566 - accuracy: 0.8530\n",
            "Epoch 3/10\n",
            "250/250 [==============================] - 1s 3ms/step - loss: 0.3498 - accuracy: 0.8572\n",
            "Epoch 4/10\n",
            "250/250 [==============================] - 1s 3ms/step - loss: 0.3453 - accuracy: 0.8612\n",
            "Epoch 5/10\n",
            "250/250 [==============================] - 1s 2ms/step - loss: 0.3447 - accuracy: 0.8597\n",
            "Epoch 6/10\n",
            "250/250 [==============================] - 1s 2ms/step - loss: 0.3388 - accuracy: 0.8622\n",
            "Epoch 7/10\n",
            "250/250 [==============================] - 1s 3ms/step - loss: 0.3390 - accuracy: 0.8641\n",
            "Epoch 8/10\n",
            "250/250 [==============================] - 1s 3ms/step - loss: 0.3347 - accuracy: 0.8640\n",
            "Epoch 9/10\n",
            "250/250 [==============================] - 1s 4ms/step - loss: 0.3320 - accuracy: 0.8635\n",
            "Epoch 10/10\n",
            "250/250 [==============================] - 1s 5ms/step - loss: 0.3300 - accuracy: 0.8671\n",
            "63/63 [==============================] - 0s 4ms/step - loss: 0.3539 - accuracy: 0.8645\n"
          ]
        },
        {
          "output_type": "stream",
          "name": "stderr",
          "text": [
            "[I 2024-04-24 19:50:52,465] Trial 13 finished with value: 0.3539005517959595 and parameters: {'n_layers': 2, 'n_units': 150, 'learning_rate': 0.009835559930536631}. Best is trial 10 with value: 0.33723118901252747.\n"
          ]
        },
        {
          "output_type": "stream",
          "name": "stdout",
          "text": [
            "Epoch 1/10\n",
            "250/250 [==============================] - 2s 3ms/step - loss: 0.3943 - accuracy: 0.8353\n",
            "Epoch 2/10\n",
            "250/250 [==============================] - 1s 3ms/step - loss: 0.3585 - accuracy: 0.8571\n",
            "Epoch 3/10\n",
            "250/250 [==============================] - 1s 3ms/step - loss: 0.3481 - accuracy: 0.8576\n",
            "Epoch 4/10\n",
            "250/250 [==============================] - 1s 3ms/step - loss: 0.3425 - accuracy: 0.8595\n",
            "Epoch 5/10\n",
            "250/250 [==============================] - 1s 3ms/step - loss: 0.3423 - accuracy: 0.8619\n",
            "Epoch 6/10\n",
            "250/250 [==============================] - 1s 3ms/step - loss: 0.3355 - accuracy: 0.8600\n",
            "Epoch 7/10\n",
            "250/250 [==============================] - 1s 3ms/step - loss: 0.3349 - accuracy: 0.8609\n",
            "Epoch 8/10\n",
            "250/250 [==============================] - 1s 3ms/step - loss: 0.3283 - accuracy: 0.8684\n",
            "Epoch 9/10\n",
            "250/250 [==============================] - 1s 3ms/step - loss: 0.3283 - accuracy: 0.8673\n",
            "Epoch 10/10\n",
            "250/250 [==============================] - 1s 4ms/step - loss: 0.3252 - accuracy: 0.8670\n",
            "63/63 [==============================] - 0s 3ms/step - loss: 0.3616 - accuracy: 0.8510\n"
          ]
        },
        {
          "output_type": "stream",
          "name": "stderr",
          "text": [
            "[I 2024-04-24 19:51:04,881] Trial 14 finished with value: 0.36163926124572754 and parameters: {'n_layers': 3, 'n_units': 151, 'learning_rate': 0.005881157356016604}. Best is trial 10 with value: 0.33723118901252747.\n"
          ]
        },
        {
          "output_type": "stream",
          "name": "stdout",
          "text": [
            "Epoch 1/10\n",
            "250/250 [==============================] - 1s 2ms/step - loss: 0.4001 - accuracy: 0.8300\n",
            "Epoch 2/10\n",
            "250/250 [==============================] - 1s 2ms/step - loss: 0.3559 - accuracy: 0.8550\n",
            "Epoch 3/10\n",
            "250/250 [==============================] - 1s 2ms/step - loss: 0.3519 - accuracy: 0.8555\n",
            "Epoch 4/10\n",
            "250/250 [==============================] - 1s 2ms/step - loss: 0.3437 - accuracy: 0.8606\n",
            "Epoch 5/10\n",
            "250/250 [==============================] - 0s 2ms/step - loss: 0.3428 - accuracy: 0.8583\n",
            "Epoch 6/10\n",
            "250/250 [==============================] - 1s 2ms/step - loss: 0.3406 - accuracy: 0.8606\n",
            "Epoch 7/10\n",
            "250/250 [==============================] - 1s 2ms/step - loss: 0.3374 - accuracy: 0.8622\n",
            "Epoch 8/10\n",
            "250/250 [==============================] - 0s 2ms/step - loss: 0.3360 - accuracy: 0.8621\n",
            "Epoch 9/10\n",
            "250/250 [==============================] - 1s 2ms/step - loss: 0.3335 - accuracy: 0.8635\n",
            "Epoch 10/10\n",
            "250/250 [==============================] - 0s 2ms/step - loss: 0.3312 - accuracy: 0.8636\n",
            "63/63 [==============================] - 0s 2ms/step - loss: 0.3459 - accuracy: 0.8545\n"
          ]
        },
        {
          "output_type": "stream",
          "name": "stderr",
          "text": [
            "[I 2024-04-24 19:51:11,218] Trial 15 finished with value: 0.3459400236606598 and parameters: {'n_layers': 1, 'n_units': 172, 'learning_rate': 0.00458816116139052}. Best is trial 10 with value: 0.33723118901252747.\n"
          ]
        },
        {
          "output_type": "stream",
          "name": "stdout",
          "text": [
            "Epoch 1/10\n",
            "250/250 [==============================] - 2s 4ms/step - loss: 0.3925 - accuracy: 0.8376\n",
            "Epoch 2/10\n",
            "250/250 [==============================] - 1s 3ms/step - loss: 0.3610 - accuracy: 0.8553\n",
            "Epoch 3/10\n",
            "250/250 [==============================] - 1s 3ms/step - loss: 0.3461 - accuracy: 0.8594\n",
            "Epoch 4/10\n",
            "250/250 [==============================] - 1s 3ms/step - loss: 0.3436 - accuracy: 0.8596\n",
            "Epoch 5/10\n",
            "250/250 [==============================] - 1s 4ms/step - loss: 0.3388 - accuracy: 0.8645\n",
            "Epoch 6/10\n",
            "250/250 [==============================] - 1s 5ms/step - loss: 0.3376 - accuracy: 0.8610\n",
            "Epoch 7/10\n",
            "250/250 [==============================] - 1s 4ms/step - loss: 0.3332 - accuracy: 0.8666\n",
            "Epoch 8/10\n",
            "250/250 [==============================] - 1s 3ms/step - loss: 0.3343 - accuracy: 0.8649\n",
            "Epoch 9/10\n",
            "250/250 [==============================] - 1s 3ms/step - loss: 0.3289 - accuracy: 0.8670\n",
            "Epoch 10/10\n",
            "250/250 [==============================] - 1s 3ms/step - loss: 0.3264 - accuracy: 0.8668\n",
            "63/63 [==============================] - 0s 2ms/step - loss: 0.3568 - accuracy: 0.8525\n"
          ]
        },
        {
          "output_type": "stream",
          "name": "stderr",
          "text": [
            "[I 2024-04-24 19:51:20,970] Trial 16 finished with value: 0.35680216550827026 and parameters: {'n_layers': 3, 'n_units': 123, 'learning_rate': 0.006421678058084596}. Best is trial 10 with value: 0.33723118901252747.\n"
          ]
        },
        {
          "output_type": "stream",
          "name": "stdout",
          "text": [
            "Epoch 1/10\n",
            "250/250 [==============================] - 2s 4ms/step - loss: 0.3950 - accuracy: 0.8361\n",
            "Epoch 2/10\n",
            "250/250 [==============================] - 1s 4ms/step - loss: 0.3552 - accuracy: 0.8551\n",
            "Epoch 3/10\n",
            "250/250 [==============================] - 1s 5ms/step - loss: 0.3508 - accuracy: 0.8561\n",
            "Epoch 4/10\n",
            "250/250 [==============================] - 1s 4ms/step - loss: 0.3463 - accuracy: 0.8602\n",
            "Epoch 5/10\n",
            "250/250 [==============================] - 1s 4ms/step - loss: 0.3384 - accuracy: 0.8611\n",
            "Epoch 6/10\n",
            "250/250 [==============================] - 1s 4ms/step - loss: 0.3397 - accuracy: 0.8606\n",
            "Epoch 7/10\n",
            "250/250 [==============================] - 2s 7ms/step - loss: 0.3357 - accuracy: 0.8621\n",
            "Epoch 8/10\n",
            "250/250 [==============================] - 2s 7ms/step - loss: 0.3350 - accuracy: 0.8622\n",
            "Epoch 9/10\n",
            "250/250 [==============================] - 1s 4ms/step - loss: 0.3297 - accuracy: 0.8645\n",
            "Epoch 10/10\n",
            "250/250 [==============================] - 1s 4ms/step - loss: 0.3308 - accuracy: 0.8637\n",
            "63/63 [==============================] - 0s 2ms/step - loss: 0.3528 - accuracy: 0.8600\n"
          ]
        },
        {
          "output_type": "stream",
          "name": "stderr",
          "text": [
            "[I 2024-04-24 19:51:33,508] Trial 17 finished with value: 0.35279911756515503 and parameters: {'n_layers': 2, 'n_units': 255, 'learning_rate': 0.009501167235141782}. Best is trial 10 with value: 0.33723118901252747.\n"
          ]
        },
        {
          "output_type": "stream",
          "name": "stdout",
          "text": [
            "Epoch 1/10\n",
            "250/250 [==============================] - 2s 3ms/step - loss: 0.4124 - accuracy: 0.8244\n",
            "Epoch 2/10\n",
            "250/250 [==============================] - 1s 3ms/step - loss: 0.3516 - accuracy: 0.8551\n",
            "Epoch 3/10\n",
            "250/250 [==============================] - 1s 3ms/step - loss: 0.3384 - accuracy: 0.8627\n",
            "Epoch 4/10\n",
            "250/250 [==============================] - 1s 2ms/step - loss: 0.3354 - accuracy: 0.8624\n",
            "Epoch 5/10\n",
            "250/250 [==============================] - 1s 3ms/step - loss: 0.3317 - accuracy: 0.8621\n",
            "Epoch 6/10\n",
            "250/250 [==============================] - 1s 2ms/step - loss: 0.3264 - accuracy: 0.8651\n",
            "Epoch 7/10\n",
            "250/250 [==============================] - 1s 3ms/step - loss: 0.3270 - accuracy: 0.8659\n",
            "Epoch 8/10\n",
            "250/250 [==============================] - 1s 3ms/step - loss: 0.3223 - accuracy: 0.8673\n",
            "Epoch 9/10\n",
            "250/250 [==============================] - 1s 2ms/step - loss: 0.3213 - accuracy: 0.8695\n",
            "Epoch 10/10\n",
            "250/250 [==============================] - 1s 3ms/step - loss: 0.3208 - accuracy: 0.8692\n",
            "63/63 [==============================] - 0s 2ms/step - loss: 0.3459 - accuracy: 0.8565\n"
          ]
        },
        {
          "output_type": "stream",
          "name": "stderr",
          "text": [
            "[I 2024-04-24 19:51:45,505] Trial 18 finished with value: 0.3458828330039978 and parameters: {'n_layers': 4, 'n_units': 36, 'learning_rate': 0.0032408036167017066}. Best is trial 10 with value: 0.33723118901252747.\n"
          ]
        },
        {
          "output_type": "stream",
          "name": "stdout",
          "text": [
            "Epoch 1/10\n",
            "250/250 [==============================] - 1s 3ms/step - loss: 0.3943 - accuracy: 0.8374\n",
            "Epoch 2/10\n",
            "250/250 [==============================] - 1s 3ms/step - loss: 0.3563 - accuracy: 0.8559\n",
            "Epoch 3/10\n",
            "250/250 [==============================] - 1s 3ms/step - loss: 0.3520 - accuracy: 0.8584\n",
            "Epoch 4/10\n",
            "250/250 [==============================] - 1s 3ms/step - loss: 0.3454 - accuracy: 0.8618\n",
            "Epoch 5/10\n",
            "250/250 [==============================] - 1s 2ms/step - loss: 0.3424 - accuracy: 0.8614\n",
            "Epoch 6/10\n",
            "250/250 [==============================] - 1s 3ms/step - loss: 0.3376 - accuracy: 0.8610\n",
            "Epoch 7/10\n",
            "250/250 [==============================] - 1s 2ms/step - loss: 0.3343 - accuracy: 0.8661\n",
            "Epoch 8/10\n",
            "250/250 [==============================] - 1s 3ms/step - loss: 0.3328 - accuracy: 0.8643\n",
            "Epoch 9/10\n",
            "250/250 [==============================] - 1s 3ms/step - loss: 0.3303 - accuracy: 0.8636\n",
            "Epoch 10/10\n",
            "250/250 [==============================] - 1s 4ms/step - loss: 0.3253 - accuracy: 0.8666\n",
            "63/63 [==============================] - 0s 2ms/step - loss: 0.3493 - accuracy: 0.8570\n"
          ]
        },
        {
          "output_type": "stream",
          "name": "stderr",
          "text": [
            "[I 2024-04-24 19:51:57,081] Trial 19 finished with value: 0.3492647409439087 and parameters: {'n_layers': 2, 'n_units': 177, 'learning_rate': 0.006863770975295065}. Best is trial 10 with value: 0.33723118901252747.\n"
          ]
        },
        {
          "output_type": "stream",
          "name": "stdout",
          "text": [
            "Epoch 1/10\n",
            "250/250 [==============================] - 3s 3ms/step - loss: 0.4055 - accuracy: 0.8320\n",
            "Epoch 2/10\n",
            "250/250 [==============================] - 1s 3ms/step - loss: 0.3581 - accuracy: 0.8547\n",
            "Epoch 3/10\n",
            "250/250 [==============================] - 1s 3ms/step - loss: 0.3455 - accuracy: 0.8599\n",
            "Epoch 4/10\n",
            "250/250 [==============================] - 1s 3ms/step - loss: 0.3412 - accuracy: 0.8633\n",
            "Epoch 5/10\n",
            "250/250 [==============================] - 1s 3ms/step - loss: 0.3386 - accuracy: 0.8643\n",
            "Epoch 6/10\n",
            "250/250 [==============================] - 1s 3ms/step - loss: 0.3373 - accuracy: 0.8645\n",
            "Epoch 7/10\n",
            "250/250 [==============================] - 1s 4ms/step - loss: 0.3340 - accuracy: 0.8646\n",
            "Epoch 8/10\n",
            "250/250 [==============================] - 1s 5ms/step - loss: 0.3305 - accuracy: 0.8646\n",
            "Epoch 9/10\n",
            "250/250 [==============================] - 1s 6ms/step - loss: 0.3295 - accuracy: 0.8669\n",
            "Epoch 10/10\n",
            "250/250 [==============================] - 1s 3ms/step - loss: 0.3267 - accuracy: 0.8651\n",
            "63/63 [==============================] - 0s 2ms/step - loss: 0.3511 - accuracy: 0.8510\n"
          ]
        },
        {
          "output_type": "stream",
          "name": "stderr",
          "text": [
            "[I 2024-04-24 19:52:10,039] Trial 20 finished with value: 0.3510719835758209 and parameters: {'n_layers': 4, 'n_units': 116, 'learning_rate': 0.005596645337510031}. Best is trial 10 with value: 0.33723118901252747.\n"
          ]
        },
        {
          "output_type": "stream",
          "name": "stdout",
          "text": [
            "Epoch 1/10\n",
            "250/250 [==============================] - 1s 2ms/step - loss: 0.4004 - accuracy: 0.8317\n",
            "Epoch 2/10\n",
            "250/250 [==============================] - 1s 2ms/step - loss: 0.3566 - accuracy: 0.8540\n",
            "Epoch 3/10\n",
            "250/250 [==============================] - 1s 2ms/step - loss: 0.3488 - accuracy: 0.8571\n",
            "Epoch 4/10\n",
            "250/250 [==============================] - 1s 2ms/step - loss: 0.3455 - accuracy: 0.8584\n",
            "Epoch 5/10\n",
            "250/250 [==============================] - 1s 2ms/step - loss: 0.3411 - accuracy: 0.8605\n",
            "Epoch 6/10\n",
            "250/250 [==============================] - 0s 2ms/step - loss: 0.3402 - accuracy: 0.8618\n",
            "Epoch 7/10\n",
            "250/250 [==============================] - 1s 2ms/step - loss: 0.3379 - accuracy: 0.8620\n",
            "Epoch 8/10\n",
            "250/250 [==============================] - 0s 2ms/step - loss: 0.3351 - accuracy: 0.8615\n",
            "Epoch 9/10\n",
            "250/250 [==============================] - 1s 2ms/step - loss: 0.3349 - accuracy: 0.8622\n",
            "Epoch 10/10\n",
            "250/250 [==============================] - 0s 2ms/step - loss: 0.3334 - accuracy: 0.8606\n",
            "63/63 [==============================] - 0s 2ms/step - loss: 0.3548 - accuracy: 0.8590\n"
          ]
        },
        {
          "output_type": "stream",
          "name": "stderr",
          "text": [
            "[I 2024-04-24 19:52:16,220] Trial 21 finished with value: 0.3548271656036377 and parameters: {'n_layers': 1, 'n_units': 85, 'learning_rate': 0.00858909166059804}. Best is trial 10 with value: 0.33723118901252747.\n"
          ]
        },
        {
          "output_type": "stream",
          "name": "stdout",
          "text": [
            "Epoch 1/10\n",
            "250/250 [==============================] - 1s 3ms/step - loss: 0.3962 - accuracy: 0.8321\n",
            "Epoch 2/10\n",
            "250/250 [==============================] - 1s 3ms/step - loss: 0.3558 - accuracy: 0.8559\n",
            "Epoch 3/10\n",
            "250/250 [==============================] - 1s 3ms/step - loss: 0.3491 - accuracy: 0.8546\n",
            "Epoch 4/10\n",
            "250/250 [==============================] - 1s 5ms/step - loss: 0.3443 - accuracy: 0.8562\n",
            "Epoch 5/10\n",
            "250/250 [==============================] - 1s 3ms/step - loss: 0.3417 - accuracy: 0.8577\n",
            "Epoch 6/10\n",
            "250/250 [==============================] - 1s 2ms/step - loss: 0.3395 - accuracy: 0.8586\n",
            "Epoch 7/10\n",
            "250/250 [==============================] - 1s 2ms/step - loss: 0.3384 - accuracy: 0.8606\n",
            "Epoch 8/10\n",
            "250/250 [==============================] - 1s 2ms/step - loss: 0.3352 - accuracy: 0.8644\n",
            "Epoch 9/10\n",
            "250/250 [==============================] - 1s 2ms/step - loss: 0.3342 - accuracy: 0.8625\n",
            "Epoch 10/10\n",
            "250/250 [==============================] - 1s 2ms/step - loss: 0.3316 - accuracy: 0.8599\n",
            "63/63 [==============================] - 0s 2ms/step - loss: 0.3481 - accuracy: 0.8550\n"
          ]
        },
        {
          "output_type": "stream",
          "name": "stderr",
          "text": [
            "[I 2024-04-24 19:52:27,458] Trial 22 finished with value: 0.3480628430843353 and parameters: {'n_layers': 1, 'n_units': 127, 'learning_rate': 0.00893938436094395}. Best is trial 10 with value: 0.33723118901252747.\n"
          ]
        },
        {
          "output_type": "stream",
          "name": "stdout",
          "text": [
            "Epoch 1/10\n",
            "250/250 [==============================] - 2s 4ms/step - loss: 0.3965 - accuracy: 0.8378\n",
            "Epoch 2/10\n",
            "250/250 [==============================] - 1s 3ms/step - loss: 0.3586 - accuracy: 0.8547\n",
            "Epoch 3/10\n",
            "250/250 [==============================] - 1s 3ms/step - loss: 0.3464 - accuracy: 0.8566\n",
            "Epoch 4/10\n",
            "250/250 [==============================] - 1s 4ms/step - loss: 0.3436 - accuracy: 0.8606\n",
            "Epoch 5/10\n",
            "250/250 [==============================] - 1s 4ms/step - loss: 0.3418 - accuracy: 0.8589\n",
            "Epoch 6/10\n",
            "250/250 [==============================] - 1s 5ms/step - loss: 0.3367 - accuracy: 0.8616\n",
            "Epoch 7/10\n",
            "250/250 [==============================] - 1s 3ms/step - loss: 0.3348 - accuracy: 0.8625\n",
            "Epoch 8/10\n",
            "250/250 [==============================] - 1s 4ms/step - loss: 0.3333 - accuracy: 0.8646\n",
            "Epoch 9/10\n",
            "250/250 [==============================] - 1s 3ms/step - loss: 0.3345 - accuracy: 0.8624\n",
            "Epoch 10/10\n",
            "250/250 [==============================] - 1s 3ms/step - loss: 0.3312 - accuracy: 0.8664\n",
            "63/63 [==============================] - 0s 2ms/step - loss: 0.3450 - accuracy: 0.8605\n"
          ]
        },
        {
          "output_type": "stream",
          "name": "stderr",
          "text": [
            "[I 2024-04-24 19:52:39,058] Trial 23 finished with value: 0.3449605107307434 and parameters: {'n_layers': 2, 'n_units': 174, 'learning_rate': 0.00992044310688143}. Best is trial 10 with value: 0.33723118901252747.\n"
          ]
        },
        {
          "output_type": "stream",
          "name": "stdout",
          "text": [
            "Epoch 1/10\n",
            "250/250 [==============================] - 1s 2ms/step - loss: 0.4019 - accuracy: 0.8292\n",
            "Epoch 2/10\n",
            "250/250 [==============================] - 0s 2ms/step - loss: 0.3547 - accuracy: 0.8531\n",
            "Epoch 3/10\n",
            "250/250 [==============================] - 0s 2ms/step - loss: 0.3506 - accuracy: 0.8545\n",
            "Epoch 4/10\n",
            "250/250 [==============================] - 1s 2ms/step - loss: 0.3454 - accuracy: 0.8576\n",
            "Epoch 5/10\n",
            "250/250 [==============================] - 1s 2ms/step - loss: 0.3429 - accuracy: 0.8580\n",
            "Epoch 6/10\n",
            "250/250 [==============================] - 1s 2ms/step - loss: 0.3389 - accuracy: 0.8606\n",
            "Epoch 7/10\n",
            "250/250 [==============================] - 1s 3ms/step - loss: 0.3372 - accuracy: 0.8605\n",
            "Epoch 8/10\n",
            "250/250 [==============================] - 1s 3ms/step - loss: 0.3352 - accuracy: 0.8635\n",
            "Epoch 9/10\n",
            "250/250 [==============================] - 1s 3ms/step - loss: 0.3361 - accuracy: 0.8630\n",
            "Epoch 10/10\n",
            "250/250 [==============================] - 1s 3ms/step - loss: 0.3329 - accuracy: 0.8624\n",
            "63/63 [==============================] - 0s 3ms/step - loss: 0.3465 - accuracy: 0.8580\n"
          ]
        },
        {
          "output_type": "stream",
          "name": "stderr",
          "text": [
            "[I 2024-04-24 19:52:46,311] Trial 24 finished with value: 0.34647196531295776 and parameters: {'n_layers': 1, 'n_units': 64, 'learning_rate': 0.00804990855232094}. Best is trial 10 with value: 0.33723118901252747.\n"
          ]
        },
        {
          "output_type": "stream",
          "name": "stdout",
          "text": [
            "Epoch 1/10\n",
            "250/250 [==============================] - 2s 3ms/step - loss: 0.3889 - accuracy: 0.8374\n",
            "Epoch 2/10\n",
            "250/250 [==============================] - 1s 2ms/step - loss: 0.3543 - accuracy: 0.8556\n",
            "Epoch 3/10\n",
            "250/250 [==============================] - 1s 2ms/step - loss: 0.3467 - accuracy: 0.8580\n",
            "Epoch 4/10\n",
            "250/250 [==============================] - 1s 2ms/step - loss: 0.3433 - accuracy: 0.8596\n",
            "Epoch 5/10\n",
            "250/250 [==============================] - 1s 3ms/step - loss: 0.3422 - accuracy: 0.8611\n",
            "Epoch 6/10\n",
            "250/250 [==============================] - 1s 2ms/step - loss: 0.3382 - accuracy: 0.8608\n",
            "Epoch 7/10\n",
            "250/250 [==============================] - 1s 2ms/step - loss: 0.3356 - accuracy: 0.8630\n",
            "Epoch 8/10\n",
            "250/250 [==============================] - 1s 2ms/step - loss: 0.3325 - accuracy: 0.8634\n",
            "Epoch 9/10\n",
            "250/250 [==============================] - 1s 2ms/step - loss: 0.3304 - accuracy: 0.8683\n",
            "Epoch 10/10\n",
            "250/250 [==============================] - 1s 2ms/step - loss: 0.3270 - accuracy: 0.8673\n",
            "63/63 [==============================] - 0s 3ms/step - loss: 0.3535 - accuracy: 0.8570\n"
          ]
        },
        {
          "output_type": "stream",
          "name": "stderr",
          "text": [
            "[I 2024-04-24 19:52:58,239] Trial 25 finished with value: 0.3535481095314026 and parameters: {'n_layers': 2, 'n_units': 130, 'learning_rate': 0.00743214000413802}. Best is trial 10 with value: 0.33723118901252747.\n"
          ]
        },
        {
          "output_type": "stream",
          "name": "stdout",
          "text": [
            "Epoch 1/10\n",
            "250/250 [==============================] - 2s 3ms/step - loss: 0.3933 - accuracy: 0.8404\n",
            "Epoch 2/10\n",
            "250/250 [==============================] - 1s 3ms/step - loss: 0.3612 - accuracy: 0.8544\n",
            "Epoch 3/10\n",
            "250/250 [==============================] - 1s 2ms/step - loss: 0.3490 - accuracy: 0.8571\n",
            "Epoch 4/10\n",
            "250/250 [==============================] - 1s 3ms/step - loss: 0.3450 - accuracy: 0.8581\n",
            "Epoch 5/10\n",
            "250/250 [==============================] - 1s 3ms/step - loss: 0.3418 - accuracy: 0.8635\n",
            "Epoch 6/10\n",
            "250/250 [==============================] - 1s 3ms/step - loss: 0.3366 - accuracy: 0.8639\n",
            "Epoch 7/10\n",
            "250/250 [==============================] - 1s 3ms/step - loss: 0.3368 - accuracy: 0.8629\n",
            "Epoch 8/10\n",
            "250/250 [==============================] - 1s 4ms/step - loss: 0.3348 - accuracy: 0.8593\n",
            "Epoch 9/10\n",
            "250/250 [==============================] - 1s 3ms/step - loss: 0.3332 - accuracy: 0.8654\n",
            "Epoch 10/10\n",
            "250/250 [==============================] - 1s 2ms/step - loss: 0.3265 - accuracy: 0.8664\n",
            "63/63 [==============================] - 0s 2ms/step - loss: 0.3533 - accuracy: 0.8510\n"
          ]
        },
        {
          "output_type": "stream",
          "name": "stderr",
          "text": [
            "[I 2024-04-24 19:53:07,062] Trial 26 finished with value: 0.35331252217292786 and parameters: {'n_layers': 3, 'n_units': 104, 'learning_rate': 0.009062178623960797}. Best is trial 10 with value: 0.33723118901252747.\n"
          ]
        },
        {
          "output_type": "stream",
          "name": "stdout",
          "text": [
            "Epoch 1/10\n",
            "250/250 [==============================] - 1s 2ms/step - loss: 0.3947 - accuracy: 0.8342\n",
            "Epoch 2/10\n",
            "250/250 [==============================] - 1s 2ms/step - loss: 0.3557 - accuracy: 0.8537\n",
            "Epoch 3/10\n",
            "250/250 [==============================] - 1s 3ms/step - loss: 0.3484 - accuracy: 0.8556\n",
            "Epoch 4/10\n",
            "250/250 [==============================] - 1s 3ms/step - loss: 0.3434 - accuracy: 0.8600\n",
            "Epoch 5/10\n",
            "250/250 [==============================] - 1s 3ms/step - loss: 0.3428 - accuracy: 0.8587\n",
            "Epoch 6/10\n",
            "250/250 [==============================] - 1s 3ms/step - loss: 0.3401 - accuracy: 0.8597\n",
            "Epoch 7/10\n",
            "250/250 [==============================] - 0s 2ms/step - loss: 0.3361 - accuracy: 0.8626\n",
            "Epoch 8/10\n",
            "250/250 [==============================] - 0s 2ms/step - loss: 0.3349 - accuracy: 0.8600\n",
            "Epoch 9/10\n",
            "250/250 [==============================] - 1s 2ms/step - loss: 0.3333 - accuracy: 0.8614\n",
            "Epoch 10/10\n",
            "250/250 [==============================] - 0s 2ms/step - loss: 0.3314 - accuracy: 0.8656\n",
            "63/63 [==============================] - 0s 2ms/step - loss: 0.3516 - accuracy: 0.8555\n"
          ]
        },
        {
          "output_type": "stream",
          "name": "stderr",
          "text": [
            "[I 2024-04-24 19:53:14,252] Trial 27 finished with value: 0.3516227900981903 and parameters: {'n_layers': 1, 'n_units': 157, 'learning_rate': 0.005152135353432168}. Best is trial 10 with value: 0.33723118901252747.\n"
          ]
        },
        {
          "output_type": "stream",
          "name": "stdout",
          "text": [
            "Epoch 1/10\n",
            "250/250 [==============================] - 2s 3ms/step - loss: 0.4099 - accuracy: 0.8313\n",
            "Epoch 2/10\n",
            "250/250 [==============================] - 1s 3ms/step - loss: 0.3699 - accuracy: 0.8480\n",
            "Epoch 3/10\n",
            "250/250 [==============================] - 1s 3ms/step - loss: 0.3527 - accuracy: 0.8574\n",
            "Epoch 4/10\n",
            "250/250 [==============================] - 1s 3ms/step - loss: 0.3515 - accuracy: 0.8583\n",
            "Epoch 5/10\n",
            "250/250 [==============================] - 1s 3ms/step - loss: 0.3484 - accuracy: 0.8609\n",
            "Epoch 6/10\n",
            "250/250 [==============================] - 1s 3ms/step - loss: 0.3441 - accuracy: 0.8577\n",
            "Epoch 7/10\n",
            "250/250 [==============================] - 1s 3ms/step - loss: 0.3402 - accuracy: 0.8626\n",
            "Epoch 8/10\n",
            "250/250 [==============================] - 1s 6ms/step - loss: 0.3402 - accuracy: 0.8609\n",
            "Epoch 9/10\n",
            "250/250 [==============================] - 1s 5ms/step - loss: 0.3356 - accuracy: 0.8654\n",
            "Epoch 10/10\n",
            "250/250 [==============================] - 1s 4ms/step - loss: 0.3337 - accuracy: 0.8637\n",
            "63/63 [==============================] - 0s 3ms/step - loss: 0.3462 - accuracy: 0.8565\n"
          ]
        },
        {
          "output_type": "stream",
          "name": "stderr",
          "text": [
            "[I 2024-04-24 19:53:26,289] Trial 28 finished with value: 0.3462039828300476 and parameters: {'n_layers': 5, 'n_units': 136, 'learning_rate': 0.008370976628393482}. Best is trial 10 with value: 0.33723118901252747.\n"
          ]
        },
        {
          "output_type": "stream",
          "name": "stdout",
          "text": [
            "Epoch 1/10\n",
            "250/250 [==============================] - 2s 3ms/step - loss: 0.4283 - accuracy: 0.8194\n",
            "Epoch 2/10\n",
            "250/250 [==============================] - 1s 4ms/step - loss: 0.3747 - accuracy: 0.8508\n",
            "Epoch 3/10\n",
            "250/250 [==============================] - 1s 4ms/step - loss: 0.3602 - accuracy: 0.8543\n",
            "Epoch 4/10\n",
            "250/250 [==============================] - 1s 3ms/step - loss: 0.3529 - accuracy: 0.8585\n",
            "Epoch 5/10\n",
            "250/250 [==============================] - 1s 3ms/step - loss: 0.3501 - accuracy: 0.8627\n",
            "Epoch 6/10\n",
            "250/250 [==============================] - 1s 3ms/step - loss: 0.3428 - accuracy: 0.8561\n",
            "Epoch 7/10\n",
            "250/250 [==============================] - 1s 3ms/step - loss: 0.3406 - accuracy: 0.8627\n",
            "Epoch 8/10\n",
            "250/250 [==============================] - 1s 4ms/step - loss: 0.3413 - accuracy: 0.8626\n",
            "Epoch 9/10\n",
            "250/250 [==============================] - 1s 6ms/step - loss: 0.3354 - accuracy: 0.8645\n",
            "Epoch 10/10\n",
            "250/250 [==============================] - 2s 6ms/step - loss: 0.3336 - accuracy: 0.8644\n",
            "63/63 [==============================] - 0s 2ms/step - loss: 0.3666 - accuracy: 0.8510\n"
          ]
        },
        {
          "output_type": "stream",
          "name": "stderr",
          "text": [
            "[I 2024-04-24 19:53:38,837] Trial 29 finished with value: 0.3666301965713501 and parameters: {'n_layers': 8, 'n_units': 34, 'learning_rate': 0.008998792840437716}. Best is trial 10 with value: 0.33723118901252747.\n"
          ]
        },
        {
          "output_type": "stream",
          "name": "stdout",
          "text": [
            "Epoch 1/10\n",
            "250/250 [==============================] - 1s 2ms/step - loss: 0.3922 - accuracy: 0.8404\n",
            "Epoch 2/10\n",
            "250/250 [==============================] - 1s 2ms/step - loss: 0.3523 - accuracy: 0.8559\n",
            "Epoch 3/10\n",
            "250/250 [==============================] - 1s 3ms/step - loss: 0.3442 - accuracy: 0.8609\n",
            "Epoch 4/10\n",
            "250/250 [==============================] - 1s 3ms/step - loss: 0.3375 - accuracy: 0.8656\n",
            "Epoch 5/10\n",
            "250/250 [==============================] - 1s 3ms/step - loss: 0.3359 - accuracy: 0.8633\n",
            "Epoch 6/10\n",
            "250/250 [==============================] - 1s 2ms/step - loss: 0.3343 - accuracy: 0.8641\n",
            "Epoch 7/10\n",
            "250/250 [==============================] - 1s 2ms/step - loss: 0.3314 - accuracy: 0.8635\n",
            "Epoch 8/10\n",
            "250/250 [==============================] - 1s 3ms/step - loss: 0.3296 - accuracy: 0.8650\n",
            "Epoch 9/10\n",
            "250/250 [==============================] - 1s 3ms/step - loss: 0.3260 - accuracy: 0.8671\n",
            "Epoch 10/10\n",
            "250/250 [==============================] - 1s 3ms/step - loss: 0.3236 - accuracy: 0.8674\n",
            "63/63 [==============================] - 0s 2ms/step - loss: 0.3439 - accuracy: 0.8615\n"
          ]
        },
        {
          "output_type": "stream",
          "name": "stderr",
          "text": [
            "[I 2024-04-24 19:53:50,283] Trial 30 finished with value: 0.3439174294471741 and parameters: {'n_layers': 2, 'n_units': 89, 'learning_rate': 0.006757992203955355}. Best is trial 10 with value: 0.33723118901252747.\n"
          ]
        },
        {
          "output_type": "stream",
          "name": "stdout",
          "text": [
            "Epoch 1/10\n",
            "250/250 [==============================] - 1s 2ms/step - loss: 0.3890 - accuracy: 0.8407\n",
            "Epoch 2/10\n",
            "250/250 [==============================] - 1s 2ms/step - loss: 0.3552 - accuracy: 0.8545\n",
            "Epoch 3/10\n",
            "250/250 [==============================] - 1s 3ms/step - loss: 0.3467 - accuracy: 0.8585\n",
            "Epoch 4/10\n",
            "250/250 [==============================] - 1s 2ms/step - loss: 0.3409 - accuracy: 0.8589\n",
            "Epoch 5/10\n",
            "250/250 [==============================] - 1s 2ms/step - loss: 0.3365 - accuracy: 0.8620\n",
            "Epoch 6/10\n",
            "250/250 [==============================] - 1s 2ms/step - loss: 0.3321 - accuracy: 0.8639\n",
            "Epoch 7/10\n",
            "250/250 [==============================] - 1s 2ms/step - loss: 0.3284 - accuracy: 0.8659\n",
            "Epoch 8/10\n",
            "250/250 [==============================] - 1s 2ms/step - loss: 0.3277 - accuracy: 0.8673\n",
            "Epoch 9/10\n",
            "250/250 [==============================] - 1s 2ms/step - loss: 0.3281 - accuracy: 0.8674\n",
            "Epoch 10/10\n",
            "250/250 [==============================] - 1s 2ms/step - loss: 0.3230 - accuracy: 0.8654\n",
            "63/63 [==============================] - 0s 2ms/step - loss: 0.3514 - accuracy: 0.8590\n"
          ]
        },
        {
          "output_type": "stream",
          "name": "stderr",
          "text": [
            "[I 2024-04-24 19:53:57,380] Trial 31 finished with value: 0.35136091709136963 and parameters: {'n_layers': 2, 'n_units': 89, 'learning_rate': 0.006699457856345013}. Best is trial 10 with value: 0.33723118901252747.\n"
          ]
        },
        {
          "output_type": "stream",
          "name": "stdout",
          "text": [
            "Epoch 1/10\n",
            "250/250 [==============================] - 1s 2ms/step - loss: 0.4153 - accuracy: 0.8226\n",
            "Epoch 2/10\n",
            "250/250 [==============================] - 1s 2ms/step - loss: 0.3572 - accuracy: 0.8541\n",
            "Epoch 3/10\n",
            "250/250 [==============================] - 1s 3ms/step - loss: 0.3485 - accuracy: 0.8577\n",
            "Epoch 4/10\n",
            "250/250 [==============================] - 1s 4ms/step - loss: 0.3458 - accuracy: 0.8602\n",
            "Epoch 5/10\n",
            "250/250 [==============================] - 1s 3ms/step - loss: 0.3411 - accuracy: 0.8600\n",
            "Epoch 6/10\n",
            "250/250 [==============================] - 1s 4ms/step - loss: 0.3439 - accuracy: 0.8587\n",
            "Epoch 7/10\n",
            "250/250 [==============================] - 1s 2ms/step - loss: 0.3401 - accuracy: 0.8585\n",
            "Epoch 8/10\n",
            "250/250 [==============================] - 1s 2ms/step - loss: 0.3390 - accuracy: 0.8618\n",
            "Epoch 9/10\n",
            "250/250 [==============================] - 1s 3ms/step - loss: 0.3375 - accuracy: 0.8621\n",
            "Epoch 10/10\n",
            "250/250 [==============================] - 1s 3ms/step - loss: 0.3366 - accuracy: 0.8616\n",
            "63/63 [==============================] - 0s 2ms/step - loss: 0.3490 - accuracy: 0.8600\n"
          ]
        },
        {
          "output_type": "stream",
          "name": "stderr",
          "text": [
            "[I 2024-04-24 19:54:08,746] Trial 32 finished with value: 0.34901002049446106 and parameters: {'n_layers': 1, 'n_units': 66, 'learning_rate': 0.003988864631854315}. Best is trial 10 with value: 0.33723118901252747.\n"
          ]
        },
        {
          "output_type": "stream",
          "name": "stdout",
          "text": [
            "Epoch 1/10\n",
            "250/250 [==============================] - 1s 3ms/step - loss: 0.3926 - accuracy: 0.8397\n",
            "Epoch 2/10\n",
            "250/250 [==============================] - 1s 3ms/step - loss: 0.3572 - accuracy: 0.8555\n",
            "Epoch 3/10\n",
            "250/250 [==============================] - 1s 2ms/step - loss: 0.3465 - accuracy: 0.8553\n",
            "Epoch 4/10\n",
            "250/250 [==============================] - 1s 3ms/step - loss: 0.3410 - accuracy: 0.8627\n",
            "Epoch 5/10\n",
            "250/250 [==============================] - 1s 4ms/step - loss: 0.3404 - accuracy: 0.8629\n",
            "Epoch 6/10\n",
            "250/250 [==============================] - 1s 4ms/step - loss: 0.3332 - accuracy: 0.8641\n",
            "Epoch 7/10\n",
            "250/250 [==============================] - 1s 4ms/step - loss: 0.3339 - accuracy: 0.8629\n",
            "Epoch 8/10\n",
            "250/250 [==============================] - 1s 3ms/step - loss: 0.3301 - accuracy: 0.8652\n",
            "Epoch 9/10\n",
            "250/250 [==============================] - 1s 3ms/step - loss: 0.3303 - accuracy: 0.8652\n",
            "Epoch 10/10\n",
            "250/250 [==============================] - 1s 3ms/step - loss: 0.3259 - accuracy: 0.8640\n",
            "63/63 [==============================] - 0s 2ms/step - loss: 0.3635 - accuracy: 0.8380\n"
          ]
        },
        {
          "output_type": "stream",
          "name": "stderr",
          "text": [
            "[I 2024-04-24 19:54:18,031] Trial 33 finished with value: 0.3635058104991913 and parameters: {'n_layers': 2, 'n_units': 108, 'learning_rate': 0.007449898197794147}. Best is trial 10 with value: 0.33723118901252747.\n"
          ]
        },
        {
          "output_type": "stream",
          "name": "stdout",
          "text": [
            "Epoch 1/10\n",
            "250/250 [==============================] - 2s 3ms/step - loss: 0.4012 - accuracy: 0.8344\n",
            "Epoch 2/10\n",
            "250/250 [==============================] - 1s 3ms/step - loss: 0.3625 - accuracy: 0.8535\n",
            "Epoch 3/10\n",
            "250/250 [==============================] - 1s 3ms/step - loss: 0.3522 - accuracy: 0.8561\n",
            "Epoch 4/10\n",
            "250/250 [==============================] - 1s 3ms/step - loss: 0.3431 - accuracy: 0.8590\n",
            "Epoch 5/10\n",
            "250/250 [==============================] - 1s 3ms/step - loss: 0.3399 - accuracy: 0.8589\n",
            "Epoch 6/10\n",
            "250/250 [==============================] - 1s 4ms/step - loss: 0.3417 - accuracy: 0.8600\n",
            "Epoch 7/10\n",
            "250/250 [==============================] - 1s 3ms/step - loss: 0.3373 - accuracy: 0.8612\n",
            "Epoch 8/10\n",
            "250/250 [==============================] - 1s 3ms/step - loss: 0.3351 - accuracy: 0.8634\n",
            "Epoch 9/10\n",
            "250/250 [==============================] - 1s 3ms/step - loss: 0.3303 - accuracy: 0.8650\n",
            "Epoch 10/10\n",
            "250/250 [==============================] - 1s 4ms/step - loss: 0.3307 - accuracy: 0.8633\n",
            "63/63 [==============================] - 0s 3ms/step - loss: 0.3499 - accuracy: 0.8545\n"
          ]
        },
        {
          "output_type": "stream",
          "name": "stderr",
          "text": [
            "[I 2024-04-24 19:54:27,650] Trial 34 finished with value: 0.3498550057411194 and parameters: {'n_layers': 3, 'n_units': 110, 'learning_rate': 0.00941173063215152}. Best is trial 10 with value: 0.33723118901252747.\n"
          ]
        },
        {
          "output_type": "stream",
          "name": "stdout",
          "text": [
            "Epoch 1/10\n",
            "250/250 [==============================] - 1s 2ms/step - loss: 0.4242 - accuracy: 0.8151\n",
            "Epoch 2/10\n",
            "250/250 [==============================] - 1s 2ms/step - loss: 0.3576 - accuracy: 0.8540\n",
            "Epoch 3/10\n",
            "250/250 [==============================] - 1s 2ms/step - loss: 0.3475 - accuracy: 0.8593\n",
            "Epoch 4/10\n",
            "250/250 [==============================] - 1s 2ms/step - loss: 0.3444 - accuracy: 0.8585\n",
            "Epoch 5/10\n",
            "250/250 [==============================] - 1s 2ms/step - loss: 0.3440 - accuracy: 0.8595\n",
            "Epoch 6/10\n",
            "250/250 [==============================] - 0s 2ms/step - loss: 0.3405 - accuracy: 0.8589\n",
            "Epoch 7/10\n",
            "250/250 [==============================] - 1s 2ms/step - loss: 0.3396 - accuracy: 0.8599\n",
            "Epoch 8/10\n",
            "250/250 [==============================] - 1s 2ms/step - loss: 0.3383 - accuracy: 0.8618\n",
            "Epoch 9/10\n",
            "250/250 [==============================] - 1s 2ms/step - loss: 0.3372 - accuracy: 0.8626\n",
            "Epoch 10/10\n",
            "250/250 [==============================] - 1s 2ms/step - loss: 0.3344 - accuracy: 0.8635\n",
            "63/63 [==============================] - 0s 2ms/step - loss: 0.3486 - accuracy: 0.8565\n"
          ]
        },
        {
          "output_type": "stream",
          "name": "stderr",
          "text": [
            "[I 2024-04-24 19:54:34,419] Trial 35 finished with value: 0.3485943078994751 and parameters: {'n_layers': 1, 'n_units': 49, 'learning_rate': 0.005423881440592116}. Best is trial 10 with value: 0.33723118901252747.\n"
          ]
        },
        {
          "output_type": "stream",
          "name": "stdout",
          "text": [
            "Epoch 1/10\n",
            "250/250 [==============================] - 1s 2ms/step - loss: 0.3930 - accuracy: 0.8366\n",
            "Epoch 2/10\n",
            "250/250 [==============================] - 1s 3ms/step - loss: 0.3544 - accuracy: 0.8545\n",
            "Epoch 3/10\n",
            "250/250 [==============================] - 1s 3ms/step - loss: 0.3527 - accuracy: 0.8570\n",
            "Epoch 4/10\n",
            "250/250 [==============================] - 1s 2ms/step - loss: 0.3412 - accuracy: 0.8608\n",
            "Epoch 5/10\n",
            "250/250 [==============================] - 1s 3ms/step - loss: 0.3433 - accuracy: 0.8620\n",
            "Epoch 6/10\n",
            "250/250 [==============================] - 1s 4ms/step - loss: 0.3369 - accuracy: 0.8605\n",
            "Epoch 7/10\n",
            "250/250 [==============================] - 1s 4ms/step - loss: 0.3343 - accuracy: 0.8641\n",
            "Epoch 8/10\n",
            "250/250 [==============================] - 1s 4ms/step - loss: 0.3329 - accuracy: 0.8636\n",
            "Epoch 9/10\n",
            "250/250 [==============================] - 1s 2ms/step - loss: 0.3309 - accuracy: 0.8651\n",
            "Epoch 10/10\n",
            "250/250 [==============================] - 1s 2ms/step - loss: 0.3269 - accuracy: 0.8651\n",
            "63/63 [==============================] - 0s 2ms/step - loss: 0.3470 - accuracy: 0.8580\n"
          ]
        },
        {
          "output_type": "stream",
          "name": "stderr",
          "text": [
            "[I 2024-04-24 19:54:43,143] Trial 36 finished with value: 0.34695059061050415 and parameters: {'n_layers': 2, 'n_units': 164, 'learning_rate': 0.00701529693380396}. Best is trial 10 with value: 0.33723118901252747.\n"
          ]
        },
        {
          "output_type": "stream",
          "name": "stdout",
          "text": [
            "Epoch 1/10\n",
            "250/250 [==============================] - 2s 3ms/step - loss: 0.4036 - accuracy: 0.8347\n",
            "Epoch 2/10\n",
            "250/250 [==============================] - 1s 3ms/step - loss: 0.3560 - accuracy: 0.8547\n",
            "Epoch 3/10\n",
            "250/250 [==============================] - 1s 3ms/step - loss: 0.3474 - accuracy: 0.8608\n",
            "Epoch 4/10\n",
            "250/250 [==============================] - 1s 3ms/step - loss: 0.3451 - accuracy: 0.8580\n",
            "Epoch 5/10\n",
            "250/250 [==============================] - 1s 3ms/step - loss: 0.3379 - accuracy: 0.8635\n",
            "Epoch 6/10\n",
            "250/250 [==============================] - 1s 3ms/step - loss: 0.3397 - accuracy: 0.8615\n",
            "Epoch 7/10\n",
            "250/250 [==============================] - 1s 3ms/step - loss: 0.3346 - accuracy: 0.8648\n",
            "Epoch 8/10\n",
            "250/250 [==============================] - 1s 3ms/step - loss: 0.3300 - accuracy: 0.8622\n",
            "Epoch 9/10\n",
            "250/250 [==============================] - 1s 3ms/step - loss: 0.3293 - accuracy: 0.8651\n",
            "Epoch 10/10\n",
            "250/250 [==============================] - 1s 4ms/step - loss: 0.3260 - accuracy: 0.8659\n",
            "63/63 [==============================] - 0s 3ms/step - loss: 0.3516 - accuracy: 0.8550\n"
          ]
        },
        {
          "output_type": "stream",
          "name": "stderr",
          "text": [
            "[I 2024-04-24 19:54:52,911] Trial 37 finished with value: 0.35162827372550964 and parameters: {'n_layers': 4, 'n_units': 95, 'learning_rate': 0.006262183964319756}. Best is trial 10 with value: 0.33723118901252747.\n"
          ]
        },
        {
          "output_type": "stream",
          "name": "stdout",
          "text": [
            "Epoch 1/10\n",
            "250/250 [==============================] - 2s 2ms/step - loss: 0.3976 - accuracy: 0.8294\n",
            "Epoch 2/10\n",
            "250/250 [==============================] - 1s 2ms/step - loss: 0.3565 - accuracy: 0.8539\n",
            "Epoch 3/10\n",
            "250/250 [==============================] - 1s 2ms/step - loss: 0.3511 - accuracy: 0.8558\n",
            "Epoch 4/10\n",
            "250/250 [==============================] - 1s 2ms/step - loss: 0.3502 - accuracy: 0.8569\n",
            "Epoch 5/10\n",
            "250/250 [==============================] - 1s 2ms/step - loss: 0.3449 - accuracy: 0.8624\n",
            "Epoch 6/10\n",
            "250/250 [==============================] - 1s 2ms/step - loss: 0.3416 - accuracy: 0.8585\n",
            "Epoch 7/10\n",
            "250/250 [==============================] - 1s 2ms/step - loss: 0.3412 - accuracy: 0.8574\n",
            "Epoch 8/10\n",
            "250/250 [==============================] - 1s 2ms/step - loss: 0.3362 - accuracy: 0.8604\n",
            "Epoch 9/10\n",
            "250/250 [==============================] - 1s 2ms/step - loss: 0.3352 - accuracy: 0.8621\n",
            "Epoch 10/10\n",
            "250/250 [==============================] - 1s 3ms/step - loss: 0.3341 - accuracy: 0.8651\n",
            "63/63 [==============================] - 0s 3ms/step - loss: 0.3519 - accuracy: 0.8590\n"
          ]
        },
        {
          "output_type": "stream",
          "name": "stderr",
          "text": [
            "[I 2024-04-24 19:55:01,077] Trial 38 finished with value: 0.351889967918396 and parameters: {'n_layers': 1, 'n_units': 83, 'learning_rate': 0.0083789123212034}. Best is trial 10 with value: 0.33723118901252747.\n"
          ]
        },
        {
          "output_type": "stream",
          "name": "stdout",
          "text": [
            "Epoch 1/10\n",
            "250/250 [==============================] - 4s 9ms/step - loss: 0.4292 - accuracy: 0.8263\n",
            "Epoch 2/10\n",
            "250/250 [==============================] - 2s 10ms/step - loss: 0.3862 - accuracy: 0.8351\n",
            "Epoch 3/10\n",
            "250/250 [==============================] - 2s 6ms/step - loss: 0.3732 - accuracy: 0.8510\n",
            "Epoch 4/10\n",
            "250/250 [==============================] - 2s 7ms/step - loss: 0.3698 - accuracy: 0.8525\n",
            "Epoch 5/10\n",
            "250/250 [==============================] - 2s 8ms/step - loss: 0.3537 - accuracy: 0.8558\n",
            "Epoch 6/10\n",
            "250/250 [==============================] - 2s 7ms/step - loss: 0.3661 - accuracy: 0.8481\n",
            "Epoch 7/10\n",
            "250/250 [==============================] - 2s 6ms/step - loss: 0.3663 - accuracy: 0.8547\n",
            "Epoch 8/10\n",
            "250/250 [==============================] - 2s 7ms/step - loss: 0.3446 - accuracy: 0.8599\n",
            "Epoch 9/10\n",
            "250/250 [==============================] - 3s 10ms/step - loss: 0.3349 - accuracy: 0.8608\n",
            "Epoch 10/10\n",
            "250/250 [==============================] - 2s 7ms/step - loss: 0.3311 - accuracy: 0.8629\n",
            "63/63 [==============================] - 0s 4ms/step - loss: 0.3926 - accuracy: 0.8560\n"
          ]
        },
        {
          "output_type": "stream",
          "name": "stderr",
          "text": [
            "[I 2024-04-24 19:55:23,056] Trial 39 finished with value: 0.39264294505119324 and parameters: {'n_layers': 7, 'n_units': 194, 'learning_rate': 0.004621978176169}. Best is trial 10 with value: 0.33723118901252747.\n"
          ]
        },
        {
          "output_type": "stream",
          "name": "stdout",
          "text": [
            "Epoch 1/10\n",
            "250/250 [==============================] - 3s 5ms/step - loss: 0.4139 - accuracy: 0.8289\n",
            "Epoch 2/10\n",
            "250/250 [==============================] - 1s 4ms/step - loss: 0.3678 - accuracy: 0.8553\n",
            "Epoch 3/10\n",
            "250/250 [==============================] - 1s 4ms/step - loss: 0.3736 - accuracy: 0.8476\n",
            "Epoch 4/10\n",
            "250/250 [==============================] - 1s 5ms/step - loss: 0.3616 - accuracy: 0.8571\n",
            "Epoch 5/10\n",
            "250/250 [==============================] - 1s 4ms/step - loss: 0.3513 - accuracy: 0.8549\n",
            "Epoch 6/10\n",
            "250/250 [==============================] - 2s 7ms/step - loss: 0.3690 - accuracy: 0.8497\n",
            "Epoch 7/10\n",
            "250/250 [==============================] - 2s 6ms/step - loss: 0.3498 - accuracy: 0.8602\n",
            "Epoch 8/10\n",
            "250/250 [==============================] - 1s 5ms/step - loss: 0.3410 - accuracy: 0.8599\n",
            "Epoch 9/10\n",
            "250/250 [==============================] - 1s 5ms/step - loss: 0.3411 - accuracy: 0.8600\n",
            "Epoch 10/10\n",
            "250/250 [==============================] - 1s 5ms/step - loss: 0.3356 - accuracy: 0.8640\n",
            "63/63 [==============================] - 0s 3ms/step - loss: 0.3507 - accuracy: 0.8510\n"
          ]
        },
        {
          "output_type": "stream",
          "name": "stderr",
          "text": [
            "[I 2024-04-24 19:55:38,060] Trial 40 finished with value: 0.350668340921402 and parameters: {'n_layers': 6, 'n_units': 140, 'learning_rate': 0.007759802543204952}. Best is trial 10 with value: 0.33723118901252747.\n"
          ]
        },
        {
          "output_type": "stream",
          "name": "stdout",
          "text": [
            "Epoch 1/10\n",
            "250/250 [==============================] - 1s 3ms/step - loss: 0.3998 - accuracy: 0.8332\n",
            "Epoch 2/10\n",
            "250/250 [==============================] - 1s 3ms/step - loss: 0.3586 - accuracy: 0.8558\n",
            "Epoch 3/10\n",
            "250/250 [==============================] - 1s 3ms/step - loss: 0.3476 - accuracy: 0.8575\n",
            "Epoch 4/10\n",
            "250/250 [==============================] - 1s 4ms/step - loss: 0.3433 - accuracy: 0.8618\n",
            "Epoch 5/10\n",
            "250/250 [==============================] - 1s 3ms/step - loss: 0.3395 - accuracy: 0.8635\n",
            "Epoch 6/10\n",
            "250/250 [==============================] - 1s 3ms/step - loss: 0.3392 - accuracy: 0.8646\n",
            "Epoch 7/10\n",
            "250/250 [==============================] - 1s 4ms/step - loss: 0.3379 - accuracy: 0.8648\n",
            "Epoch 8/10\n",
            "250/250 [==============================] - 1s 4ms/step - loss: 0.3349 - accuracy: 0.8636\n",
            "Epoch 9/10\n",
            "250/250 [==============================] - 1s 5ms/step - loss: 0.3328 - accuracy: 0.8640\n",
            "Epoch 10/10\n",
            "250/250 [==============================] - 1s 3ms/step - loss: 0.3281 - accuracy: 0.8658\n",
            "63/63 [==============================] - 0s 2ms/step - loss: 0.3605 - accuracy: 0.8470\n"
          ]
        },
        {
          "output_type": "stream",
          "name": "stderr",
          "text": [
            "[I 2024-04-24 19:55:48,083] Trial 41 finished with value: 0.3604718744754791 and parameters: {'n_layers': 2, 'n_units': 187, 'learning_rate': 0.009885340622741432}. Best is trial 10 with value: 0.33723118901252747.\n"
          ]
        },
        {
          "output_type": "stream",
          "name": "stdout",
          "text": [
            "Epoch 1/10\n",
            "250/250 [==============================] - 2s 4ms/step - loss: 0.3924 - accuracy: 0.8376\n",
            "Epoch 2/10\n",
            "250/250 [==============================] - 1s 3ms/step - loss: 0.3597 - accuracy: 0.8521\n",
            "Epoch 3/10\n",
            "250/250 [==============================] - 1s 3ms/step - loss: 0.3515 - accuracy: 0.8564\n",
            "Epoch 4/10\n",
            "250/250 [==============================] - 1s 3ms/step - loss: 0.3466 - accuracy: 0.8602\n",
            "Epoch 5/10\n",
            "250/250 [==============================] - 1s 4ms/step - loss: 0.3456 - accuracy: 0.8601\n",
            "Epoch 6/10\n",
            "250/250 [==============================] - 1s 3ms/step - loss: 0.3466 - accuracy: 0.8580\n",
            "Epoch 7/10\n",
            "250/250 [==============================] - 1s 3ms/step - loss: 0.3373 - accuracy: 0.8616\n",
            "Epoch 8/10\n",
            "250/250 [==============================] - 1s 3ms/step - loss: 0.3351 - accuracy: 0.8645\n",
            "Epoch 9/10\n",
            "250/250 [==============================] - 1s 3ms/step - loss: 0.3321 - accuracy: 0.8633\n",
            "Epoch 10/10\n",
            "250/250 [==============================] - 1s 4ms/step - loss: 0.3317 - accuracy: 0.8656\n",
            "63/63 [==============================] - 0s 3ms/step - loss: 0.3492 - accuracy: 0.8565\n"
          ]
        },
        {
          "output_type": "stream",
          "name": "stderr",
          "text": [
            "[I 2024-04-24 19:55:57,779] Trial 42 finished with value: 0.3492294251918793 and parameters: {'n_layers': 2, 'n_units': 209, 'learning_rate': 0.009334293387188703}. Best is trial 10 with value: 0.33723118901252747.\n"
          ]
        },
        {
          "output_type": "stream",
          "name": "stdout",
          "text": [
            "Epoch 1/10\n",
            "250/250 [==============================] - 4s 5ms/step - loss: 0.4651 - accuracy: 0.8189\n",
            "Epoch 2/10\n",
            "250/250 [==============================] - 1s 5ms/step - loss: 0.4096 - accuracy: 0.8321\n",
            "Epoch 3/10\n",
            "250/250 [==============================] - 1s 5ms/step - loss: 0.3661 - accuracy: 0.8482\n",
            "Epoch 4/10\n",
            "250/250 [==============================] - 1s 6ms/step - loss: 0.4259 - accuracy: 0.8514\n",
            "Epoch 5/10\n",
            "250/250 [==============================] - 1s 6ms/step - loss: 0.3762 - accuracy: 0.8424\n",
            "Epoch 6/10\n",
            "250/250 [==============================] - 1s 6ms/step - loss: 0.3732 - accuracy: 0.8425\n",
            "Epoch 7/10\n",
            "250/250 [==============================] - 2s 7ms/step - loss: 0.3640 - accuracy: 0.8522\n",
            "Epoch 8/10\n",
            "250/250 [==============================] - 2s 8ms/step - loss: 0.3523 - accuracy: 0.8537\n",
            "Epoch 9/10\n",
            "250/250 [==============================] - 1s 6ms/step - loss: 0.3384 - accuracy: 0.8624\n",
            "Epoch 10/10\n",
            "250/250 [==============================] - 1s 5ms/step - loss: 0.3349 - accuracy: 0.8640\n",
            "63/63 [==============================] - 0s 3ms/step - loss: 0.3645 - accuracy: 0.8505\n"
          ]
        },
        {
          "output_type": "stream",
          "name": "stderr",
          "text": [
            "[I 2024-04-24 19:56:21,822] Trial 43 finished with value: 0.36449918150901794 and parameters: {'n_layers': 10, 'n_units': 119, 'learning_rate': 0.009735646900782043}. Best is trial 10 with value: 0.33723118901252747.\n"
          ]
        },
        {
          "output_type": "stream",
          "name": "stdout",
          "text": [
            "Epoch 1/10\n",
            "250/250 [==============================] - 3s 6ms/step - loss: 0.4050 - accuracy: 0.8340\n",
            "Epoch 2/10\n",
            "250/250 [==============================] - 1s 3ms/step - loss: 0.3613 - accuracy: 0.8541\n",
            "Epoch 3/10\n",
            "250/250 [==============================] - 1s 3ms/step - loss: 0.3544 - accuracy: 0.8545\n",
            "Epoch 4/10\n",
            "250/250 [==============================] - 1s 3ms/step - loss: 0.3487 - accuracy: 0.8606\n",
            "Epoch 5/10\n",
            "250/250 [==============================] - 1s 4ms/step - loss: 0.3423 - accuracy: 0.8619\n",
            "Epoch 6/10\n",
            "250/250 [==============================] - 1s 4ms/step - loss: 0.3425 - accuracy: 0.8576\n",
            "Epoch 7/10\n",
            "250/250 [==============================] - 1s 4ms/step - loss: 0.3385 - accuracy: 0.8608\n",
            "Epoch 8/10\n",
            "250/250 [==============================] - 1s 3ms/step - loss: 0.3411 - accuracy: 0.8605\n",
            "Epoch 9/10\n",
            "250/250 [==============================] - 1s 3ms/step - loss: 0.3361 - accuracy: 0.8624\n",
            "Epoch 10/10\n",
            "250/250 [==============================] - 1s 4ms/step - loss: 0.3393 - accuracy: 0.8649\n",
            "63/63 [==============================] - 0s 2ms/step - loss: 0.3574 - accuracy: 0.8580\n"
          ]
        },
        {
          "output_type": "stream",
          "name": "stderr",
          "text": [
            "[I 2024-04-24 19:56:34,176] Trial 44 finished with value: 0.35744038224220276 and parameters: {'n_layers': 3, 'n_units': 162, 'learning_rate': 0.00997096009474832}. Best is trial 10 with value: 0.33723118901252747.\n"
          ]
        },
        {
          "output_type": "stream",
          "name": "stdout",
          "text": [
            "Epoch 1/10\n",
            "250/250 [==============================] - 3s 5ms/step - loss: 0.4204 - accuracy: 0.8236\n",
            "Epoch 2/10\n",
            "250/250 [==============================] - 1s 4ms/step - loss: 0.3654 - accuracy: 0.8525\n",
            "Epoch 3/10\n",
            "250/250 [==============================] - 1s 4ms/step - loss: 0.3553 - accuracy: 0.8572\n",
            "Epoch 4/10\n",
            "250/250 [==============================] - 1s 4ms/step - loss: 0.3498 - accuracy: 0.8581\n",
            "Epoch 5/10\n",
            "250/250 [==============================] - 1s 3ms/step - loss: 0.3453 - accuracy: 0.8587\n",
            "Epoch 6/10\n",
            "250/250 [==============================] - 1s 4ms/step - loss: 0.3507 - accuracy: 0.8604\n",
            "Epoch 7/10\n",
            "250/250 [==============================] - 1s 3ms/step - loss: 0.3444 - accuracy: 0.8584\n",
            "Epoch 8/10\n",
            "250/250 [==============================] - 1s 3ms/step - loss: 0.3372 - accuracy: 0.8610\n",
            "Epoch 9/10\n",
            "250/250 [==============================] - 1s 4ms/step - loss: 0.3375 - accuracy: 0.8636\n",
            "Epoch 10/10\n",
            "250/250 [==============================] - 1s 3ms/step - loss: 0.3316 - accuracy: 0.8637\n",
            "63/63 [==============================] - 0s 2ms/step - loss: 0.3482 - accuracy: 0.8495\n"
          ]
        },
        {
          "output_type": "stream",
          "name": "stderr",
          "text": [
            "[I 2024-04-24 19:56:46,544] Trial 45 finished with value: 0.34815192222595215 and parameters: {'n_layers': 5, 'n_units': 100, 'learning_rate': 0.008811932364566037}. Best is trial 10 with value: 0.33723118901252747.\n"
          ]
        },
        {
          "output_type": "stream",
          "name": "stdout",
          "text": [
            "Epoch 1/10\n",
            "250/250 [==============================] - 4s 6ms/step - loss: 0.4326 - accuracy: 0.8185\n",
            "Epoch 2/10\n",
            "250/250 [==============================] - 1s 4ms/step - loss: 0.3841 - accuracy: 0.8503\n",
            "Epoch 3/10\n",
            "250/250 [==============================] - 1s 4ms/step - loss: 0.3662 - accuracy: 0.8495\n",
            "Epoch 4/10\n",
            "250/250 [==============================] - 1s 4ms/step - loss: 0.3641 - accuracy: 0.8529\n",
            "Epoch 5/10\n",
            "250/250 [==============================] - 1s 4ms/step - loss: 0.3520 - accuracy: 0.8570\n",
            "Epoch 6/10\n",
            "250/250 [==============================] - 1s 3ms/step - loss: 0.3501 - accuracy: 0.8584\n",
            "Epoch 7/10\n",
            "250/250 [==============================] - 1s 3ms/step - loss: 0.3480 - accuracy: 0.8593\n",
            "Epoch 8/10\n",
            "250/250 [==============================] - 1s 4ms/step - loss: 0.3558 - accuracy: 0.8484\n",
            "Epoch 9/10\n",
            "250/250 [==============================] - 1s 4ms/step - loss: 0.3446 - accuracy: 0.8576\n",
            "Epoch 10/10\n",
            "250/250 [==============================] - 1s 4ms/step - loss: 0.3402 - accuracy: 0.8579\n",
            "63/63 [==============================] - 0s 2ms/step - loss: 0.3810 - accuracy: 0.8530\n"
          ]
        },
        {
          "output_type": "stream",
          "name": "stderr",
          "text": [
            "[I 2024-04-24 19:56:59,393] Trial 46 finished with value: 0.38098493218421936 and parameters: {'n_layers': 9, 'n_units': 74, 'learning_rate': 0.00823582797144093}. Best is trial 10 with value: 0.33723118901252747.\n"
          ]
        },
        {
          "output_type": "stream",
          "name": "stdout",
          "text": [
            "Epoch 1/10\n",
            "250/250 [==============================] - 1s 2ms/step - loss: 0.3889 - accuracy: 0.8361\n",
            "Epoch 2/10\n",
            "250/250 [==============================] - 1s 3ms/step - loss: 0.3567 - accuracy: 0.8541\n",
            "Epoch 3/10\n",
            "250/250 [==============================] - 1s 3ms/step - loss: 0.3535 - accuracy: 0.8568\n",
            "Epoch 4/10\n",
            "250/250 [==============================] - 1s 3ms/step - loss: 0.3480 - accuracy: 0.8564\n",
            "Epoch 5/10\n",
            "250/250 [==============================] - 1s 3ms/step - loss: 0.3475 - accuracy: 0.8576\n",
            "Epoch 6/10\n",
            "250/250 [==============================] - 1s 2ms/step - loss: 0.3424 - accuracy: 0.8593\n",
            "Epoch 7/10\n",
            "250/250 [==============================] - 1s 2ms/step - loss: 0.3419 - accuracy: 0.8586\n",
            "Epoch 8/10\n",
            "250/250 [==============================] - 1s 3ms/step - loss: 0.3397 - accuracy: 0.8605\n",
            "Epoch 9/10\n",
            "250/250 [==============================] - 1s 2ms/step - loss: 0.3374 - accuracy: 0.8610\n",
            "Epoch 10/10\n",
            "250/250 [==============================] - 1s 2ms/step - loss: 0.3360 - accuracy: 0.8602\n",
            "63/63 [==============================] - 0s 2ms/step - loss: 0.3473 - accuracy: 0.8670\n"
          ]
        },
        {
          "output_type": "stream",
          "name": "stderr",
          "text": [
            "[I 2024-04-24 19:57:10,649] Trial 47 finished with value: 0.3473202884197235 and parameters: {'n_layers': 1, 'n_units': 176, 'learning_rate': 0.00937553733957335}. Best is trial 10 with value: 0.33723118901252747.\n"
          ]
        },
        {
          "output_type": "stream",
          "name": "stdout",
          "text": [
            "Epoch 1/10\n",
            "250/250 [==============================] - 2s 3ms/step - loss: 0.3996 - accuracy: 0.8367\n",
            "Epoch 2/10\n",
            "250/250 [==============================] - 1s 3ms/step - loss: 0.3464 - accuracy: 0.8596\n",
            "Epoch 3/10\n",
            "250/250 [==============================] - 1s 3ms/step - loss: 0.3412 - accuracy: 0.8612\n",
            "Epoch 4/10\n",
            "250/250 [==============================] - 1s 4ms/step - loss: 0.3378 - accuracy: 0.8619\n",
            "Epoch 5/10\n",
            "250/250 [==============================] - 1s 4ms/step - loss: 0.3292 - accuracy: 0.8646\n",
            "Epoch 6/10\n",
            "250/250 [==============================] - 1s 4ms/step - loss: 0.3254 - accuracy: 0.8661\n",
            "Epoch 7/10\n",
            "250/250 [==============================] - 1s 3ms/step - loss: 0.3203 - accuracy: 0.8684\n",
            "Epoch 8/10\n",
            "250/250 [==============================] - 1s 3ms/step - loss: 0.3152 - accuracy: 0.8710\n",
            "Epoch 9/10\n",
            "250/250 [==============================] - 1s 3ms/step - loss: 0.3107 - accuracy: 0.8717\n",
            "Epoch 10/10\n",
            "250/250 [==============================] - 1s 4ms/step - loss: 0.3084 - accuracy: 0.8712\n",
            "63/63 [==============================] - 0s 2ms/step - loss: 0.3570 - accuracy: 0.8510\n"
          ]
        },
        {
          "output_type": "stream",
          "name": "stderr",
          "text": [
            "[I 2024-04-24 19:57:20,674] Trial 48 finished with value: 0.3570404052734375 and parameters: {'n_layers': 3, 'n_units': 148, 'learning_rate': 0.0016793079751204459}. Best is trial 10 with value: 0.33723118901252747.\n"
          ]
        },
        {
          "output_type": "stream",
          "name": "stdout",
          "text": [
            "Epoch 1/10\n",
            "250/250 [==============================] - 2s 3ms/step - loss: 0.3915 - accuracy: 0.8382\n",
            "Epoch 2/10\n",
            "250/250 [==============================] - 1s 3ms/step - loss: 0.3591 - accuracy: 0.8571\n",
            "Epoch 3/10\n",
            "250/250 [==============================] - 1s 3ms/step - loss: 0.3460 - accuracy: 0.8584\n",
            "Epoch 4/10\n",
            "250/250 [==============================] - 1s 2ms/step - loss: 0.3432 - accuracy: 0.8594\n",
            "Epoch 5/10\n",
            "250/250 [==============================] - 1s 2ms/step - loss: 0.3381 - accuracy: 0.8625\n",
            "Epoch 6/10\n",
            "250/250 [==============================] - 1s 3ms/step - loss: 0.3360 - accuracy: 0.8611\n",
            "Epoch 7/10\n",
            "250/250 [==============================] - 1s 3ms/step - loss: 0.3324 - accuracy: 0.8611\n",
            "Epoch 8/10\n",
            "250/250 [==============================] - 1s 4ms/step - loss: 0.3327 - accuracy: 0.8620\n",
            "Epoch 9/10\n",
            "250/250 [==============================] - 1s 4ms/step - loss: 0.3294 - accuracy: 0.8636\n",
            "Epoch 10/10\n",
            "250/250 [==============================] - 1s 4ms/step - loss: 0.3296 - accuracy: 0.8650\n",
            "63/63 [==============================] - 0s 2ms/step - loss: 0.3446 - accuracy: 0.8610\n"
          ]
        },
        {
          "output_type": "stream",
          "name": "stderr",
          "text": [
            "[I 2024-04-24 19:57:30,224] Trial 49 finished with value: 0.34457993507385254 and parameters: {'n_layers': 2, 'n_units': 132, 'learning_rate': 0.007428951624604773}. Best is trial 10 with value: 0.33723118901252747.\n"
          ]
        },
        {
          "output_type": "stream",
          "name": "stdout",
          "text": [
            "Epoch 1/10\n",
            "250/250 [==============================] - 1s 2ms/step - loss: 0.3945 - accuracy: 0.8374\n",
            "Epoch 2/10\n",
            "250/250 [==============================] - 0s 2ms/step - loss: 0.3547 - accuracy: 0.8540\n",
            "Epoch 3/10\n",
            "250/250 [==============================] - 1s 2ms/step - loss: 0.3476 - accuracy: 0.8601\n",
            "Epoch 4/10\n",
            "250/250 [==============================] - 1s 3ms/step - loss: 0.3425 - accuracy: 0.8595\n",
            "Epoch 5/10\n",
            "250/250 [==============================] - 1s 2ms/step - loss: 0.3425 - accuracy: 0.8585\n",
            "Epoch 6/10\n",
            "250/250 [==============================] - 1s 2ms/step - loss: 0.3377 - accuracy: 0.8635\n",
            "Epoch 7/10\n",
            "250/250 [==============================] - 1s 3ms/step - loss: 0.3348 - accuracy: 0.8626\n",
            "Epoch 8/10\n",
            "250/250 [==============================] - 1s 3ms/step - loss: 0.3351 - accuracy: 0.8602\n",
            "Epoch 9/10\n",
            "250/250 [==============================] - 1s 2ms/step - loss: 0.3316 - accuracy: 0.8624\n",
            "Epoch 10/10\n",
            "250/250 [==============================] - 1s 2ms/step - loss: 0.3311 - accuracy: 0.8629\n",
            "63/63 [==============================] - 0s 3ms/step - loss: 0.3409 - accuracy: 0.8610\n"
          ]
        },
        {
          "output_type": "stream",
          "name": "stderr",
          "text": [
            "[I 2024-04-24 19:57:41,872] Trial 50 finished with value: 0.34087029099464417 and parameters: {'n_layers': 1, 'n_units': 131, 'learning_rate': 0.006493734913067048}. Best is trial 10 with value: 0.33723118901252747.\n"
          ]
        },
        {
          "output_type": "stream",
          "name": "stdout",
          "text": [
            "Epoch 1/10\n",
            "250/250 [==============================] - 1s 2ms/step - loss: 0.3934 - accuracy: 0.8370\n",
            "Epoch 2/10\n",
            "250/250 [==============================] - 1s 2ms/step - loss: 0.3555 - accuracy: 0.8533\n",
            "Epoch 3/10\n",
            "250/250 [==============================] - 1s 2ms/step - loss: 0.3504 - accuracy: 0.8571\n",
            "Epoch 4/10\n",
            "250/250 [==============================] - 1s 2ms/step - loss: 0.3437 - accuracy: 0.8594\n",
            "Epoch 5/10\n",
            "250/250 [==============================] - 1s 3ms/step - loss: 0.3419 - accuracy: 0.8599\n",
            "Epoch 6/10\n",
            "250/250 [==============================] - 0s 2ms/step - loss: 0.3369 - accuracy: 0.8594\n",
            "Epoch 7/10\n",
            "250/250 [==============================] - 0s 2ms/step - loss: 0.3370 - accuracy: 0.8606\n",
            "Epoch 8/10\n",
            "250/250 [==============================] - 1s 2ms/step - loss: 0.3333 - accuracy: 0.8635\n",
            "Epoch 9/10\n",
            "250/250 [==============================] - 1s 3ms/step - loss: 0.3321 - accuracy: 0.8614\n",
            "Epoch 10/10\n",
            "250/250 [==============================] - 1s 2ms/step - loss: 0.3332 - accuracy: 0.8602\n",
            "63/63 [==============================] - 0s 3ms/step - loss: 0.3445 - accuracy: 0.8620\n"
          ]
        },
        {
          "output_type": "stream",
          "name": "stderr",
          "text": [
            "[I 2024-04-24 19:57:53,405] Trial 51 finished with value: 0.34453949332237244 and parameters: {'n_layers': 1, 'n_units': 132, 'learning_rate': 0.006585984411970701}. Best is trial 10 with value: 0.33723118901252747.\n"
          ]
        },
        {
          "output_type": "stream",
          "name": "stdout",
          "text": [
            "Epoch 1/10\n",
            "250/250 [==============================] - 1s 2ms/step - loss: 0.3982 - accuracy: 0.8381\n",
            "Epoch 2/10\n",
            "250/250 [==============================] - 0s 2ms/step - loss: 0.3560 - accuracy: 0.8545\n",
            "Epoch 3/10\n",
            "250/250 [==============================] - 0s 2ms/step - loss: 0.3470 - accuracy: 0.8547\n",
            "Epoch 4/10\n",
            "250/250 [==============================] - 1s 2ms/step - loss: 0.3444 - accuracy: 0.8608\n",
            "Epoch 5/10\n",
            "250/250 [==============================] - 1s 2ms/step - loss: 0.3418 - accuracy: 0.8594\n",
            "Epoch 6/10\n",
            "250/250 [==============================] - 1s 2ms/step - loss: 0.3383 - accuracy: 0.8608\n",
            "Epoch 7/10\n",
            "250/250 [==============================] - 1s 3ms/step - loss: 0.3380 - accuracy: 0.8605\n",
            "Epoch 8/10\n",
            "250/250 [==============================] - 1s 2ms/step - loss: 0.3357 - accuracy: 0.8624\n",
            "Epoch 9/10\n",
            "250/250 [==============================] - 0s 2ms/step - loss: 0.3340 - accuracy: 0.8630\n",
            "Epoch 10/10\n",
            "250/250 [==============================] - 1s 2ms/step - loss: 0.3315 - accuracy: 0.8634\n",
            "63/63 [==============================] - 1s 5ms/step - loss: 0.3379 - accuracy: 0.8645\n"
          ]
        },
        {
          "output_type": "stream",
          "name": "stderr",
          "text": [
            "[I 2024-04-24 19:58:05,363] Trial 52 finished with value: 0.33791545033454895 and parameters: {'n_layers': 1, 'n_units': 115, 'learning_rate': 0.006627877665695403}. Best is trial 10 with value: 0.33723118901252747.\n"
          ]
        },
        {
          "output_type": "stream",
          "name": "stdout",
          "text": [
            "Epoch 1/10\n",
            "250/250 [==============================] - 1s 2ms/step - loss: 0.3936 - accuracy: 0.8330\n",
            "Epoch 2/10\n",
            "250/250 [==============================] - 1s 2ms/step - loss: 0.3544 - accuracy: 0.8561\n",
            "Epoch 3/10\n",
            "250/250 [==============================] - 1s 2ms/step - loss: 0.3503 - accuracy: 0.8562\n",
            "Epoch 4/10\n",
            "250/250 [==============================] - 1s 3ms/step - loss: 0.3475 - accuracy: 0.8590\n",
            "Epoch 5/10\n",
            "250/250 [==============================] - 1s 3ms/step - loss: 0.3449 - accuracy: 0.8594\n",
            "Epoch 6/10\n",
            "250/250 [==============================] - 1s 2ms/step - loss: 0.3373 - accuracy: 0.8622\n",
            "Epoch 7/10\n",
            "250/250 [==============================] - 1s 2ms/step - loss: 0.3370 - accuracy: 0.8631\n",
            "Epoch 8/10\n",
            "250/250 [==============================] - 0s 2ms/step - loss: 0.3353 - accuracy: 0.8609\n",
            "Epoch 9/10\n",
            "250/250 [==============================] - 1s 2ms/step - loss: 0.3324 - accuracy: 0.8627\n",
            "Epoch 10/10\n",
            "250/250 [==============================] - 1s 2ms/step - loss: 0.3321 - accuracy: 0.8644\n",
            "63/63 [==============================] - 0s 2ms/step - loss: 0.3578 - accuracy: 0.8585\n"
          ]
        },
        {
          "output_type": "stream",
          "name": "stderr",
          "text": [
            "[I 2024-04-24 19:58:12,469] Trial 53 finished with value: 0.35777735710144043 and parameters: {'n_layers': 1, 'n_units': 119, 'learning_rate': 0.005782685119657381}. Best is trial 10 with value: 0.33723118901252747.\n"
          ]
        },
        {
          "output_type": "stream",
          "name": "stdout",
          "text": [
            "Epoch 1/10\n",
            "250/250 [==============================] - 1s 2ms/step - loss: 0.3958 - accuracy: 0.8347\n",
            "Epoch 2/10\n",
            "250/250 [==============================] - 1s 2ms/step - loss: 0.3543 - accuracy: 0.8558\n",
            "Epoch 3/10\n",
            "250/250 [==============================] - 0s 2ms/step - loss: 0.3491 - accuracy: 0.8576\n",
            "Epoch 4/10\n",
            "250/250 [==============================] - 1s 2ms/step - loss: 0.3431 - accuracy: 0.8580\n",
            "Epoch 5/10\n",
            "250/250 [==============================] - 1s 2ms/step - loss: 0.3399 - accuracy: 0.8554\n",
            "Epoch 6/10\n",
            "250/250 [==============================] - 1s 3ms/step - loss: 0.3359 - accuracy: 0.8608\n",
            "Epoch 7/10\n",
            "250/250 [==============================] - 1s 3ms/step - loss: 0.3366 - accuracy: 0.8594\n",
            "Epoch 8/10\n",
            "250/250 [==============================] - 1s 3ms/step - loss: 0.3352 - accuracy: 0.8611\n",
            "Epoch 9/10\n",
            "250/250 [==============================] - 1s 3ms/step - loss: 0.3336 - accuracy: 0.8618\n",
            "Epoch 10/10\n",
            "250/250 [==============================] - 1s 2ms/step - loss: 0.3306 - accuracy: 0.8622\n",
            "63/63 [==============================] - 0s 2ms/step - loss: 0.3465 - accuracy: 0.8535\n"
          ]
        },
        {
          "output_type": "stream",
          "name": "stderr",
          "text": [
            "[I 2024-04-24 19:58:23,815] Trial 54 finished with value: 0.34647858142852783 and parameters: {'n_layers': 1, 'n_units': 112, 'learning_rate': 0.006149180937217837}. Best is trial 10 with value: 0.33723118901252747.\n"
          ]
        },
        {
          "output_type": "stream",
          "name": "stdout",
          "text": [
            "Epoch 1/10\n",
            "250/250 [==============================] - 1s 2ms/step - loss: 0.4043 - accuracy: 0.8303\n",
            "Epoch 2/10\n",
            "250/250 [==============================] - 1s 2ms/step - loss: 0.3544 - accuracy: 0.8547\n",
            "Epoch 3/10\n",
            "250/250 [==============================] - 1s 2ms/step - loss: 0.3501 - accuracy: 0.8568\n",
            "Epoch 4/10\n",
            "250/250 [==============================] - 1s 2ms/step - loss: 0.3452 - accuracy: 0.8587\n",
            "Epoch 5/10\n",
            "250/250 [==============================] - 1s 2ms/step - loss: 0.3432 - accuracy: 0.8577\n",
            "Epoch 6/10\n",
            "250/250 [==============================] - 1s 3ms/step - loss: 0.3381 - accuracy: 0.8629\n",
            "Epoch 7/10\n",
            "250/250 [==============================] - 1s 2ms/step - loss: 0.3373 - accuracy: 0.8591\n",
            "Epoch 8/10\n",
            "250/250 [==============================] - 1s 2ms/step - loss: 0.3349 - accuracy: 0.8622\n",
            "Epoch 9/10\n",
            "250/250 [==============================] - 1s 3ms/step - loss: 0.3324 - accuracy: 0.8625\n",
            "Epoch 10/10\n",
            "250/250 [==============================] - 1s 4ms/step - loss: 0.3311 - accuracy: 0.8633\n",
            "63/63 [==============================] - 0s 2ms/step - loss: 0.3424 - accuracy: 0.8620\n"
          ]
        },
        {
          "output_type": "stream",
          "name": "stderr",
          "text": [
            "[I 2024-04-24 19:58:35,230] Trial 55 finished with value: 0.34243157505989075 and parameters: {'n_layers': 1, 'n_units': 93, 'learning_rate': 0.00511846654852926}. Best is trial 10 with value: 0.33723118901252747.\n"
          ]
        },
        {
          "output_type": "stream",
          "name": "stdout",
          "text": [
            "Epoch 1/10\n",
            "250/250 [==============================] - 1s 2ms/step - loss: 0.4092 - accuracy: 0.8292\n",
            "Epoch 2/10\n",
            "250/250 [==============================] - 0s 2ms/step - loss: 0.3564 - accuracy: 0.8551\n",
            "Epoch 3/10\n",
            "250/250 [==============================] - 1s 3ms/step - loss: 0.3498 - accuracy: 0.8612\n",
            "Epoch 4/10\n",
            "250/250 [==============================] - 1s 2ms/step - loss: 0.3444 - accuracy: 0.8618\n",
            "Epoch 5/10\n",
            "250/250 [==============================] - 0s 2ms/step - loss: 0.3445 - accuracy: 0.8589\n",
            "Epoch 6/10\n",
            "250/250 [==============================] - 1s 2ms/step - loss: 0.3412 - accuracy: 0.8604\n",
            "Epoch 7/10\n",
            "250/250 [==============================] - 1s 2ms/step - loss: 0.3373 - accuracy: 0.8624\n",
            "Epoch 8/10\n",
            "250/250 [==============================] - 1s 2ms/step - loss: 0.3366 - accuracy: 0.8614\n",
            "Epoch 9/10\n",
            "250/250 [==============================] - 0s 2ms/step - loss: 0.3330 - accuracy: 0.8627\n",
            "Epoch 10/10\n",
            "250/250 [==============================] - 1s 3ms/step - loss: 0.3328 - accuracy: 0.8616\n",
            "63/63 [==============================] - 0s 2ms/step - loss: 0.3442 - accuracy: 0.8625\n"
          ]
        },
        {
          "output_type": "stream",
          "name": "stderr",
          "text": [
            "[I 2024-04-24 19:58:46,616] Trial 56 finished with value: 0.3442460000514984 and parameters: {'n_layers': 1, 'n_units': 96, 'learning_rate': 0.004013044418358373}. Best is trial 10 with value: 0.33723118901252747.\n"
          ]
        },
        {
          "output_type": "stream",
          "name": "stdout",
          "text": [
            "Epoch 1/10\n",
            "250/250 [==============================] - 2s 2ms/step - loss: 0.6009 - accuracy: 0.6919\n",
            "Epoch 2/10\n",
            "250/250 [==============================] - 1s 2ms/step - loss: 0.5021 - accuracy: 0.7937\n",
            "Epoch 3/10\n",
            "250/250 [==============================] - 1s 3ms/step - loss: 0.4647 - accuracy: 0.8019\n",
            "Epoch 4/10\n",
            "250/250 [==============================] - 1s 3ms/step - loss: 0.4461 - accuracy: 0.8070\n",
            "Epoch 5/10\n",
            "250/250 [==============================] - 1s 3ms/step - loss: 0.4346 - accuracy: 0.8144\n",
            "Epoch 6/10\n",
            "250/250 [==============================] - 1s 3ms/step - loss: 0.4266 - accuracy: 0.8191\n",
            "Epoch 7/10\n",
            "250/250 [==============================] - 1s 2ms/step - loss: 0.4205 - accuracy: 0.8217\n",
            "Epoch 8/10\n",
            "250/250 [==============================] - 1s 3ms/step - loss: 0.4155 - accuracy: 0.8234\n",
            "Epoch 9/10\n",
            "250/250 [==============================] - 1s 3ms/step - loss: 0.4110 - accuracy: 0.8257\n",
            "Epoch 10/10\n",
            "250/250 [==============================] - 1s 3ms/step - loss: 0.4070 - accuracy: 0.8276\n",
            "63/63 [==============================] - 0s 2ms/step - loss: 0.4158 - accuracy: 0.8175\n"
          ]
        },
        {
          "output_type": "stream",
          "name": "stderr",
          "text": [
            "[I 2024-04-24 19:58:59,320] Trial 57 finished with value: 0.41583406925201416 and parameters: {'n_layers': 1, 'n_units': 77, 'learning_rate': 0.0001219335126887832}. Best is trial 10 with value: 0.33723118901252747.\n"
          ]
        },
        {
          "output_type": "stream",
          "name": "stdout",
          "text": [
            "Epoch 1/10\n",
            "250/250 [==============================] - 2s 4ms/step - loss: 0.3890 - accuracy: 0.8367\n",
            "Epoch 2/10\n",
            "250/250 [==============================] - 1s 3ms/step - loss: 0.3519 - accuracy: 0.8543\n",
            "Epoch 3/10\n",
            "250/250 [==============================] - 1s 3ms/step - loss: 0.3424 - accuracy: 0.8596\n",
            "Epoch 4/10\n",
            "250/250 [==============================] - 1s 3ms/step - loss: 0.3396 - accuracy: 0.8611\n",
            "Epoch 5/10\n",
            "250/250 [==============================] - 1s 3ms/step - loss: 0.3372 - accuracy: 0.8577\n",
            "Epoch 6/10\n",
            "250/250 [==============================] - 1s 3ms/step - loss: 0.3312 - accuracy: 0.8636\n",
            "Epoch 7/10\n",
            "250/250 [==============================] - 1s 3ms/step - loss: 0.3303 - accuracy: 0.8641\n",
            "Epoch 8/10\n",
            "250/250 [==============================] - 1s 5ms/step - loss: 0.3302 - accuracy: 0.8651\n",
            "Epoch 9/10\n",
            "250/250 [==============================] - 1s 5ms/step - loss: 0.3266 - accuracy: 0.8655\n",
            "Epoch 10/10\n",
            "250/250 [==============================] - 1s 4ms/step - loss: 0.3236 - accuracy: 0.8651\n",
            "63/63 [==============================] - 0s 2ms/step - loss: 0.3555 - accuracy: 0.8595\n"
          ]
        },
        {
          "output_type": "stream",
          "name": "stderr",
          "text": [
            "[I 2024-04-24 19:59:10,943] Trial 58 finished with value: 0.3554518222808838 and parameters: {'n_layers': 2, 'n_units': 124, 'learning_rate': 0.005432721490956837}. Best is trial 10 with value: 0.33723118901252747.\n"
          ]
        },
        {
          "output_type": "stream",
          "name": "stdout",
          "text": [
            "Epoch 1/10\n",
            "250/250 [==============================] - 2s 3ms/step - loss: 0.3905 - accuracy: 0.8394\n",
            "Epoch 2/10\n",
            "250/250 [==============================] - 1s 4ms/step - loss: 0.3558 - accuracy: 0.8565\n",
            "Epoch 3/10\n",
            "250/250 [==============================] - 1s 3ms/step - loss: 0.3474 - accuracy: 0.8599\n",
            "Epoch 4/10\n",
            "250/250 [==============================] - 1s 3ms/step - loss: 0.3407 - accuracy: 0.8614\n",
            "Epoch 5/10\n",
            "250/250 [==============================] - 1s 3ms/step - loss: 0.3358 - accuracy: 0.8611\n",
            "Epoch 6/10\n",
            "250/250 [==============================] - 1s 3ms/step - loss: 0.3380 - accuracy: 0.8616\n",
            "Epoch 7/10\n",
            "250/250 [==============================] - 1s 4ms/step - loss: 0.3300 - accuracy: 0.8659\n",
            "Epoch 8/10\n",
            "250/250 [==============================] - 1s 4ms/step - loss: 0.3275 - accuracy: 0.8677\n",
            "Epoch 9/10\n",
            "250/250 [==============================] - 1s 5ms/step - loss: 0.3215 - accuracy: 0.8692\n",
            "Epoch 10/10\n",
            "250/250 [==============================] - 1s 6ms/step - loss: 0.3211 - accuracy: 0.8664\n",
            "63/63 [==============================] - 0s 3ms/step - loss: 0.3587 - accuracy: 0.8560\n"
          ]
        },
        {
          "output_type": "stream",
          "name": "stderr",
          "text": [
            "[I 2024-04-24 19:59:22,817] Trial 59 finished with value: 0.35869479179382324 and parameters: {'n_layers': 3, 'n_units': 138, 'learning_rate': 0.004908192272536272}. Best is trial 10 with value: 0.33723118901252747.\n"
          ]
        },
        {
          "output_type": "stream",
          "name": "stdout",
          "text": [
            "Epoch 1/10\n",
            "250/250 [==============================] - 2s 3ms/step - loss: 0.3901 - accuracy: 0.8394\n",
            "Epoch 2/10\n",
            "250/250 [==============================] - 1s 3ms/step - loss: 0.3554 - accuracy: 0.8574\n",
            "Epoch 3/10\n",
            "250/250 [==============================] - 1s 3ms/step - loss: 0.3435 - accuracy: 0.8601\n",
            "Epoch 4/10\n",
            "250/250 [==============================] - 1s 3ms/step - loss: 0.3387 - accuracy: 0.8602\n",
            "Epoch 5/10\n",
            "250/250 [==============================] - 1s 3ms/step - loss: 0.3347 - accuracy: 0.8655\n",
            "Epoch 6/10\n",
            "250/250 [==============================] - 1s 3ms/step - loss: 0.3309 - accuracy: 0.8622\n",
            "Epoch 7/10\n",
            "250/250 [==============================] - 1s 3ms/step - loss: 0.3287 - accuracy: 0.8656\n",
            "Epoch 8/10\n",
            "250/250 [==============================] - 1s 3ms/step - loss: 0.3247 - accuracy: 0.8656\n",
            "Epoch 9/10\n",
            "250/250 [==============================] - 1s 3ms/step - loss: 0.3210 - accuracy: 0.8661\n",
            "Epoch 10/10\n",
            "250/250 [==============================] - 1s 3ms/step - loss: 0.3188 - accuracy: 0.8681\n",
            "63/63 [==============================] - 0s 2ms/step - loss: 0.3497 - accuracy: 0.8610\n"
          ]
        },
        {
          "output_type": "stream",
          "name": "stderr",
          "text": [
            "[I 2024-04-24 19:59:31,483] Trial 60 finished with value: 0.34973129630088806 and parameters: {'n_layers': 2, 'n_units': 143, 'learning_rate': 0.003959152638433699}. Best is trial 10 with value: 0.33723118901252747.\n"
          ]
        },
        {
          "output_type": "stream",
          "name": "stdout",
          "text": [
            "Epoch 1/10\n",
            "250/250 [==============================] - 2s 4ms/step - loss: 0.4131 - accuracy: 0.8270\n",
            "Epoch 2/10\n",
            "250/250 [==============================] - 1s 3ms/step - loss: 0.3575 - accuracy: 0.8541\n",
            "Epoch 3/10\n",
            "250/250 [==============================] - 1s 3ms/step - loss: 0.3487 - accuracy: 0.8593\n",
            "Epoch 4/10\n",
            "250/250 [==============================] - 1s 3ms/step - loss: 0.3441 - accuracy: 0.8585\n",
            "Epoch 5/10\n",
            "250/250 [==============================] - 1s 2ms/step - loss: 0.3416 - accuracy: 0.8599\n",
            "Epoch 6/10\n",
            "250/250 [==============================] - 1s 3ms/step - loss: 0.3387 - accuracy: 0.8593\n",
            "Epoch 7/10\n",
            "250/250 [==============================] - 1s 3ms/step - loss: 0.3367 - accuracy: 0.8589\n",
            "Epoch 8/10\n",
            "250/250 [==============================] - 1s 3ms/step - loss: 0.3354 - accuracy: 0.8620\n",
            "Epoch 9/10\n",
            "250/250 [==============================] - 1s 2ms/step - loss: 0.3331 - accuracy: 0.8645\n",
            "Epoch 10/10\n",
            "250/250 [==============================] - 1s 2ms/step - loss: 0.3305 - accuracy: 0.8629\n",
            "63/63 [==============================] - 0s 2ms/step - loss: 0.3420 - accuracy: 0.8635\n"
          ]
        },
        {
          "output_type": "stream",
          "name": "stderr",
          "text": [
            "[I 2024-04-24 19:59:39,664] Trial 61 finished with value: 0.3420410454273224 and parameters: {'n_layers': 1, 'n_units': 93, 'learning_rate': 0.004021489297301567}. Best is trial 10 with value: 0.33723118901252747.\n"
          ]
        },
        {
          "output_type": "stream",
          "name": "stdout",
          "text": [
            "Epoch 1/10\n",
            "250/250 [==============================] - 1s 2ms/step - loss: 0.4152 - accuracy: 0.8280\n",
            "Epoch 2/10\n",
            "250/250 [==============================] - 1s 3ms/step - loss: 0.3602 - accuracy: 0.8539\n",
            "Epoch 3/10\n",
            "250/250 [==============================] - 1s 2ms/step - loss: 0.3494 - accuracy: 0.8570\n",
            "Epoch 4/10\n",
            "250/250 [==============================] - 1s 2ms/step - loss: 0.3480 - accuracy: 0.8559\n",
            "Epoch 5/10\n",
            "250/250 [==============================] - 1s 2ms/step - loss: 0.3423 - accuracy: 0.8584\n",
            "Epoch 6/10\n",
            "250/250 [==============================] - 1s 2ms/step - loss: 0.3395 - accuracy: 0.8643\n",
            "Epoch 7/10\n",
            "250/250 [==============================] - 1s 2ms/step - loss: 0.3385 - accuracy: 0.8602\n",
            "Epoch 8/10\n",
            "250/250 [==============================] - 1s 3ms/step - loss: 0.3353 - accuracy: 0.8619\n",
            "Epoch 9/10\n",
            "250/250 [==============================] - 1s 3ms/step - loss: 0.3337 - accuracy: 0.8624\n",
            "Epoch 10/10\n",
            "250/250 [==============================] - 1s 3ms/step - loss: 0.3302 - accuracy: 0.8649\n",
            "63/63 [==============================] - 0s 2ms/step - loss: 0.3466 - accuracy: 0.8640\n"
          ]
        },
        {
          "output_type": "stream",
          "name": "stderr",
          "text": [
            "[I 2024-04-24 19:59:50,952] Trial 62 finished with value: 0.3466113209724426 and parameters: {'n_layers': 1, 'n_units': 90, 'learning_rate': 0.0032720021621956414}. Best is trial 10 with value: 0.33723118901252747.\n"
          ]
        },
        {
          "output_type": "stream",
          "name": "stdout",
          "text": [
            "Epoch 1/10\n",
            "250/250 [==============================] - 1s 2ms/step - loss: 0.4042 - accuracy: 0.8332\n",
            "Epoch 2/10\n",
            "250/250 [==============================] - 1s 2ms/step - loss: 0.3530 - accuracy: 0.8570\n",
            "Epoch 3/10\n",
            "250/250 [==============================] - 1s 2ms/step - loss: 0.3477 - accuracy: 0.8589\n",
            "Epoch 4/10\n",
            "250/250 [==============================] - 1s 2ms/step - loss: 0.3441 - accuracy: 0.8605\n",
            "Epoch 5/10\n",
            "250/250 [==============================] - 1s 2ms/step - loss: 0.3428 - accuracy: 0.8591\n",
            "Epoch 6/10\n",
            "250/250 [==============================] - 1s 2ms/step - loss: 0.3398 - accuracy: 0.8591\n",
            "Epoch 7/10\n",
            "250/250 [==============================] - 1s 3ms/step - loss: 0.3396 - accuracy: 0.8602\n",
            "Epoch 8/10\n",
            "250/250 [==============================] - 1s 2ms/step - loss: 0.3372 - accuracy: 0.8609\n",
            "Epoch 9/10\n",
            "250/250 [==============================] - 1s 2ms/step - loss: 0.3307 - accuracy: 0.8643\n",
            "Epoch 10/10\n",
            "250/250 [==============================] - 1s 3ms/step - loss: 0.3315 - accuracy: 0.8654\n",
            "63/63 [==============================] - 0s 2ms/step - loss: 0.3495 - accuracy: 0.8565\n"
          ]
        },
        {
          "output_type": "stream",
          "name": "stderr",
          "text": [
            "[I 2024-04-24 20:00:02,233] Trial 63 finished with value: 0.34952256083488464 and parameters: {'n_layers': 1, 'n_units': 103, 'learning_rate': 0.0049401132805306095}. Best is trial 10 with value: 0.33723118901252747.\n"
          ]
        },
        {
          "output_type": "stream",
          "name": "stdout",
          "text": [
            "Epoch 1/10\n",
            "250/250 [==============================] - 2s 3ms/step - loss: 0.3886 - accuracy: 0.8393\n",
            "Epoch 2/10\n",
            "250/250 [==============================] - 1s 4ms/step - loss: 0.3532 - accuracy: 0.8555\n",
            "Epoch 3/10\n",
            "250/250 [==============================] - 1s 3ms/step - loss: 0.3455 - accuracy: 0.8596\n",
            "Epoch 4/10\n",
            "250/250 [==============================] - 1s 3ms/step - loss: 0.3400 - accuracy: 0.8608\n",
            "Epoch 5/10\n",
            "250/250 [==============================] - 1s 3ms/step - loss: 0.3391 - accuracy: 0.8620\n",
            "Epoch 6/10\n",
            "250/250 [==============================] - 1s 3ms/step - loss: 0.3370 - accuracy: 0.8616\n",
            "Epoch 7/10\n",
            "250/250 [==============================] - 1s 3ms/step - loss: 0.3332 - accuracy: 0.8629\n",
            "Epoch 8/10\n",
            "250/250 [==============================] - 1s 3ms/step - loss: 0.3313 - accuracy: 0.8636\n",
            "Epoch 9/10\n",
            "250/250 [==============================] - 1s 4ms/step - loss: 0.3275 - accuracy: 0.8654\n",
            "Epoch 10/10\n",
            "250/250 [==============================] - 1s 4ms/step - loss: 0.3237 - accuracy: 0.8656\n",
            "63/63 [==============================] - 0s 2ms/step - loss: 0.3538 - accuracy: 0.8560\n"
          ]
        },
        {
          "output_type": "stream",
          "name": "stderr",
          "text": [
            "[I 2024-04-24 20:00:13,727] Trial 64 finished with value: 0.35378557443618774 and parameters: {'n_layers': 2, 'n_units': 114, 'learning_rate': 0.005869368614993573}. Best is trial 10 with value: 0.33723118901252747.\n"
          ]
        },
        {
          "output_type": "stream",
          "name": "stdout",
          "text": [
            "Epoch 1/10\n",
            "250/250 [==============================] - 1s 3ms/step - loss: 0.4310 - accuracy: 0.8149\n",
            "Epoch 2/10\n",
            "250/250 [==============================] - 1s 2ms/step - loss: 0.3697 - accuracy: 0.8497\n",
            "Epoch 3/10\n",
            "250/250 [==============================] - 1s 2ms/step - loss: 0.3509 - accuracy: 0.8561\n",
            "Epoch 4/10\n",
            "250/250 [==============================] - 1s 2ms/step - loss: 0.3471 - accuracy: 0.8571\n",
            "Epoch 5/10\n",
            "250/250 [==============================] - 1s 2ms/step - loss: 0.3453 - accuracy: 0.8586\n",
            "Epoch 6/10\n",
            "250/250 [==============================] - 1s 2ms/step - loss: 0.3415 - accuracy: 0.8601\n",
            "Epoch 7/10\n",
            "250/250 [==============================] - 1s 2ms/step - loss: 0.3409 - accuracy: 0.8606\n",
            "Epoch 8/10\n",
            "250/250 [==============================] - 1s 2ms/step - loss: 0.3390 - accuracy: 0.8620\n",
            "Epoch 9/10\n",
            "250/250 [==============================] - 1s 2ms/step - loss: 0.3385 - accuracy: 0.8609\n",
            "Epoch 10/10\n",
            "250/250 [==============================] - 1s 2ms/step - loss: 0.3364 - accuracy: 0.8619\n",
            "63/63 [==============================] - 0s 2ms/step - loss: 0.3494 - accuracy: 0.8505\n"
          ]
        },
        {
          "output_type": "stream",
          "name": "stderr",
          "text": [
            "[I 2024-04-24 20:00:20,494] Trial 65 finished with value: 0.3494468033313751 and parameters: {'n_layers': 1, 'n_units': 54, 'learning_rate': 0.002722442476865791}. Best is trial 10 with value: 0.33723118901252747.\n"
          ]
        },
        {
          "output_type": "stream",
          "name": "stdout",
          "text": [
            "Epoch 1/10\n",
            "250/250 [==============================] - 2s 4ms/step - loss: 0.3919 - accuracy: 0.8406\n",
            "Epoch 2/10\n",
            "250/250 [==============================] - 1s 5ms/step - loss: 0.3498 - accuracy: 0.8566\n",
            "Epoch 3/10\n",
            "250/250 [==============================] - 1s 4ms/step - loss: 0.3440 - accuracy: 0.8608\n",
            "Epoch 4/10\n",
            "250/250 [==============================] - 1s 4ms/step - loss: 0.3405 - accuracy: 0.8620\n",
            "Epoch 5/10\n",
            "250/250 [==============================] - 1s 2ms/step - loss: 0.3379 - accuracy: 0.8591\n",
            "Epoch 6/10\n",
            "250/250 [==============================] - 1s 2ms/step - loss: 0.3331 - accuracy: 0.8640\n",
            "Epoch 7/10\n",
            "250/250 [==============================] - 1s 3ms/step - loss: 0.3336 - accuracy: 0.8631\n",
            "Epoch 8/10\n",
            "250/250 [==============================] - 1s 2ms/step - loss: 0.3276 - accuracy: 0.8644\n",
            "Epoch 9/10\n",
            "250/250 [==============================] - 1s 2ms/step - loss: 0.3297 - accuracy: 0.8654\n",
            "Epoch 10/10\n",
            "250/250 [==============================] - 1s 3ms/step - loss: 0.3243 - accuracy: 0.8641\n",
            "63/63 [==============================] - 0s 2ms/step - loss: 0.3522 - accuracy: 0.8575\n"
          ]
        },
        {
          "output_type": "stream",
          "name": "stderr",
          "text": [
            "[I 2024-04-24 20:00:29,635] Trial 66 finished with value: 0.35217005014419556 and parameters: {'n_layers': 2, 'n_units': 81, 'learning_rate': 0.006386323174163274}. Best is trial 10 with value: 0.33723118901252747.\n"
          ]
        },
        {
          "output_type": "stream",
          "name": "stdout",
          "text": [
            "Epoch 1/10\n",
            "250/250 [==============================] - 1s 2ms/step - loss: 0.3994 - accuracy: 0.8339\n",
            "Epoch 2/10\n",
            "250/250 [==============================] - 1s 2ms/step - loss: 0.3560 - accuracy: 0.8514\n",
            "Epoch 3/10\n",
            "250/250 [==============================] - 1s 2ms/step - loss: 0.3477 - accuracy: 0.8597\n",
            "Epoch 4/10\n",
            "250/250 [==============================] - 0s 2ms/step - loss: 0.3461 - accuracy: 0.8585\n",
            "Epoch 5/10\n",
            "250/250 [==============================] - 1s 2ms/step - loss: 0.3425 - accuracy: 0.8580\n",
            "Epoch 6/10\n",
            "250/250 [==============================] - 1s 3ms/step - loss: 0.3402 - accuracy: 0.8584\n",
            "Epoch 7/10\n",
            "250/250 [==============================] - 1s 2ms/step - loss: 0.3382 - accuracy: 0.8626\n",
            "Epoch 8/10\n",
            "250/250 [==============================] - 1s 2ms/step - loss: 0.3359 - accuracy: 0.8614\n",
            "Epoch 9/10\n",
            "250/250 [==============================] - 1s 3ms/step - loss: 0.3352 - accuracy: 0.8601\n",
            "Epoch 10/10\n",
            "250/250 [==============================] - 1s 3ms/step - loss: 0.3333 - accuracy: 0.8631\n",
            "63/63 [==============================] - 0s 3ms/step - loss: 0.3473 - accuracy: 0.8560\n"
          ]
        },
        {
          "output_type": "stream",
          "name": "stderr",
          "text": [
            "[I 2024-04-24 20:00:36,985] Trial 67 finished with value: 0.34729811549186707 and parameters: {'n_layers': 1, 'n_units': 71, 'learning_rate': 0.007139975075346449}. Best is trial 10 with value: 0.33723118901252747.\n"
          ]
        },
        {
          "output_type": "stream",
          "name": "stdout",
          "text": [
            "Epoch 1/10\n",
            "250/250 [==============================] - 1s 2ms/step - loss: 0.4003 - accuracy: 0.8338\n",
            "Epoch 2/10\n",
            "250/250 [==============================] - 1s 2ms/step - loss: 0.3558 - accuracy: 0.8549\n",
            "Epoch 3/10\n",
            "250/250 [==============================] - 1s 2ms/step - loss: 0.3490 - accuracy: 0.8590\n",
            "Epoch 4/10\n",
            "250/250 [==============================] - 1s 2ms/step - loss: 0.3440 - accuracy: 0.8583\n",
            "Epoch 5/10\n",
            "250/250 [==============================] - 1s 2ms/step - loss: 0.3418 - accuracy: 0.8601\n",
            "Epoch 6/10\n",
            "250/250 [==============================] - 1s 2ms/step - loss: 0.3382 - accuracy: 0.8625\n",
            "Epoch 7/10\n",
            "250/250 [==============================] - 1s 2ms/step - loss: 0.3341 - accuracy: 0.8629\n",
            "Epoch 8/10\n",
            "250/250 [==============================] - 1s 2ms/step - loss: 0.3326 - accuracy: 0.8615\n",
            "Epoch 9/10\n",
            "250/250 [==============================] - 1s 3ms/step - loss: 0.3321 - accuracy: 0.8658\n",
            "Epoch 10/10\n",
            "250/250 [==============================] - 1s 2ms/step - loss: 0.3317 - accuracy: 0.8639\n",
            "63/63 [==============================] - 0s 2ms/step - loss: 0.3400 - accuracy: 0.8640\n"
          ]
        },
        {
          "output_type": "stream",
          "name": "stderr",
          "text": [
            "[I 2024-04-24 20:00:43,981] Trial 68 finished with value: 0.33998826146125793 and parameters: {'n_layers': 1, 'n_units': 124, 'learning_rate': 0.004248765252970907}. Best is trial 10 with value: 0.33723118901252747.\n"
          ]
        },
        {
          "output_type": "stream",
          "name": "stdout",
          "text": [
            "Epoch 1/10\n",
            "250/250 [==============================] - 1s 3ms/step - loss: 0.4111 - accuracy: 0.8294\n",
            "Epoch 2/10\n",
            "250/250 [==============================] - 1s 3ms/step - loss: 0.3581 - accuracy: 0.8530\n",
            "Epoch 3/10\n",
            "250/250 [==============================] - 0s 2ms/step - loss: 0.3494 - accuracy: 0.8534\n",
            "Epoch 4/10\n",
            "250/250 [==============================] - 1s 2ms/step - loss: 0.3443 - accuracy: 0.8621\n",
            "Epoch 5/10\n",
            "250/250 [==============================] - 1s 2ms/step - loss: 0.3424 - accuracy: 0.8589\n",
            "Epoch 6/10\n",
            "250/250 [==============================] - 1s 3ms/step - loss: 0.3412 - accuracy: 0.8629\n",
            "Epoch 7/10\n",
            "250/250 [==============================] - 1s 3ms/step - loss: 0.3376 - accuracy: 0.8629\n",
            "Epoch 8/10\n",
            "250/250 [==============================] - 1s 4ms/step - loss: 0.3351 - accuracy: 0.8601\n",
            "Epoch 9/10\n",
            "250/250 [==============================] - 1s 3ms/step - loss: 0.3313 - accuracy: 0.8648\n",
            "Epoch 10/10\n",
            "250/250 [==============================] - 1s 2ms/step - loss: 0.3319 - accuracy: 0.8659\n",
            "63/63 [==============================] - 0s 2ms/step - loss: 0.3432 - accuracy: 0.8565\n"
          ]
        },
        {
          "output_type": "stream",
          "name": "stderr",
          "text": [
            "[I 2024-04-24 20:00:51,790] Trial 69 finished with value: 0.3431878685951233 and parameters: {'n_layers': 1, 'n_units': 124, 'learning_rate': 0.004215391844337586}. Best is trial 10 with value: 0.33723118901252747.\n"
          ]
        },
        {
          "output_type": "stream",
          "name": "stdout",
          "text": [
            "Epoch 1/10\n",
            "250/250 [==============================] - 1s 3ms/step - loss: 0.4033 - accuracy: 0.8309\n",
            "Epoch 2/10\n",
            "250/250 [==============================] - 1s 3ms/step - loss: 0.3567 - accuracy: 0.8561\n",
            "Epoch 3/10\n",
            "250/250 [==============================] - 1s 2ms/step - loss: 0.3465 - accuracy: 0.8611\n",
            "Epoch 4/10\n",
            "250/250 [==============================] - 1s 2ms/step - loss: 0.3450 - accuracy: 0.8599\n",
            "Epoch 5/10\n",
            "250/250 [==============================] - 0s 2ms/step - loss: 0.3428 - accuracy: 0.8602\n",
            "Epoch 6/10\n",
            "250/250 [==============================] - 1s 2ms/step - loss: 0.3382 - accuracy: 0.8608\n",
            "Epoch 7/10\n",
            "250/250 [==============================] - 1s 2ms/step - loss: 0.3354 - accuracy: 0.8631\n",
            "Epoch 8/10\n",
            "250/250 [==============================] - 1s 2ms/step - loss: 0.3330 - accuracy: 0.8625\n",
            "Epoch 9/10\n",
            "250/250 [==============================] - 1s 2ms/step - loss: 0.3319 - accuracy: 0.8626\n",
            "Epoch 10/10\n",
            "250/250 [==============================] - 0s 2ms/step - loss: 0.3313 - accuracy: 0.8651\n",
            "63/63 [==============================] - 0s 2ms/step - loss: 0.3431 - accuracy: 0.8615\n"
          ]
        },
        {
          "output_type": "stream",
          "name": "stderr",
          "text": [
            "[I 2024-04-24 20:00:58,302] Trial 70 finished with value: 0.34313273429870605 and parameters: {'n_layers': 1, 'n_units': 123, 'learning_rate': 0.003660929223152564}. Best is trial 10 with value: 0.33723118901252747.\n"
          ]
        },
        {
          "output_type": "stream",
          "name": "stdout",
          "text": [
            "Epoch 1/10\n",
            "250/250 [==============================] - 1s 2ms/step - loss: 0.4067 - accuracy: 0.8279\n",
            "Epoch 2/10\n",
            "250/250 [==============================] - 0s 2ms/step - loss: 0.3533 - accuracy: 0.8576\n",
            "Epoch 3/10\n",
            "250/250 [==============================] - 1s 3ms/step - loss: 0.3492 - accuracy: 0.8580\n",
            "Epoch 4/10\n",
            "250/250 [==============================] - 1s 3ms/step - loss: 0.3443 - accuracy: 0.8591\n",
            "Epoch 5/10\n",
            "250/250 [==============================] - 1s 3ms/step - loss: 0.3410 - accuracy: 0.8605\n",
            "Epoch 6/10\n",
            "250/250 [==============================] - 1s 3ms/step - loss: 0.3372 - accuracy: 0.8625\n",
            "Epoch 7/10\n",
            "250/250 [==============================] - 1s 4ms/step - loss: 0.3345 - accuracy: 0.8625\n",
            "Epoch 8/10\n",
            "250/250 [==============================] - 1s 2ms/step - loss: 0.3343 - accuracy: 0.8634\n",
            "Epoch 9/10\n",
            "250/250 [==============================] - 1s 2ms/step - loss: 0.3312 - accuracy: 0.8620\n",
            "Epoch 10/10\n",
            "250/250 [==============================] - 1s 3ms/step - loss: 0.3291 - accuracy: 0.8622\n",
            "63/63 [==============================] - 0s 2ms/step - loss: 0.3488 - accuracy: 0.8650\n"
          ]
        },
        {
          "output_type": "stream",
          "name": "stderr",
          "text": [
            "[I 2024-04-24 20:01:06,299] Trial 71 finished with value: 0.3487603962421417 and parameters: {'n_layers': 1, 'n_units': 125, 'learning_rate': 0.00429076884783889}. Best is trial 10 with value: 0.33723118901252747.\n"
          ]
        },
        {
          "output_type": "stream",
          "name": "stdout",
          "text": [
            "Epoch 1/10\n",
            "250/250 [==============================] - 1s 3ms/step - loss: 0.4094 - accuracy: 0.8245\n",
            "Epoch 2/10\n",
            "250/250 [==============================] - 1s 2ms/step - loss: 0.3578 - accuracy: 0.8537\n",
            "Epoch 3/10\n",
            "250/250 [==============================] - 1s 2ms/step - loss: 0.3478 - accuracy: 0.8584\n",
            "Epoch 4/10\n",
            "250/250 [==============================] - 1s 2ms/step - loss: 0.3461 - accuracy: 0.8580\n",
            "Epoch 5/10\n",
            "250/250 [==============================] - 1s 3ms/step - loss: 0.3427 - accuracy: 0.8597\n",
            "Epoch 6/10\n",
            "250/250 [==============================] - 1s 3ms/step - loss: 0.3413 - accuracy: 0.8605\n",
            "Epoch 7/10\n",
            "250/250 [==============================] - 1s 2ms/step - loss: 0.3396 - accuracy: 0.8641\n",
            "Epoch 8/10\n",
            "250/250 [==============================] - 1s 2ms/step - loss: 0.3386 - accuracy: 0.8600\n",
            "Epoch 9/10\n",
            "250/250 [==============================] - 1s 2ms/step - loss: 0.3371 - accuracy: 0.8602\n",
            "Epoch 10/10\n",
            "250/250 [==============================] - 1s 3ms/step - loss: 0.3355 - accuracy: 0.8618\n",
            "63/63 [==============================] - 0s 2ms/step - loss: 0.3486 - accuracy: 0.8610\n"
          ]
        },
        {
          "output_type": "stream",
          "name": "stderr",
          "text": [
            "[I 2024-04-24 20:01:13,614] Trial 72 finished with value: 0.3486402630805969 and parameters: {'n_layers': 1, 'n_units': 107, 'learning_rate': 0.0037068915001282773}. Best is trial 10 with value: 0.33723118901252747.\n"
          ]
        },
        {
          "output_type": "stream",
          "name": "stdout",
          "text": [
            "Epoch 1/10\n",
            "250/250 [==============================] - 2s 4ms/step - loss: 0.4111 - accuracy: 0.8300\n",
            "Epoch 2/10\n",
            "250/250 [==============================] - 1s 3ms/step - loss: 0.3593 - accuracy: 0.8525\n",
            "Epoch 3/10\n",
            "250/250 [==============================] - 1s 3ms/step - loss: 0.3498 - accuracy: 0.8550\n",
            "Epoch 4/10\n",
            "250/250 [==============================] - 1s 2ms/step - loss: 0.3454 - accuracy: 0.8577\n",
            "Epoch 5/10\n",
            "250/250 [==============================] - 1s 2ms/step - loss: 0.3431 - accuracy: 0.8595\n",
            "Epoch 6/10\n",
            "250/250 [==============================] - 1s 2ms/step - loss: 0.3397 - accuracy: 0.8604\n",
            "Epoch 7/10\n",
            "250/250 [==============================] - 1s 3ms/step - loss: 0.3383 - accuracy: 0.8605\n",
            "Epoch 8/10\n",
            "250/250 [==============================] - 1s 2ms/step - loss: 0.3380 - accuracy: 0.8602\n",
            "Epoch 9/10\n",
            "250/250 [==============================] - 1s 2ms/step - loss: 0.3339 - accuracy: 0.8652\n",
            "Epoch 10/10\n",
            "250/250 [==============================] - 1s 2ms/step - loss: 0.3305 - accuracy: 0.8637\n",
            "63/63 [==============================] - 0s 2ms/step - loss: 0.3559 - accuracy: 0.8535\n"
          ]
        },
        {
          "output_type": "stream",
          "name": "stderr",
          "text": [
            "[I 2024-04-24 20:01:25,068] Trial 73 finished with value: 0.35590097308158875 and parameters: {'n_layers': 1, 'n_units': 119, 'learning_rate': 0.0029606203216284497}. Best is trial 10 with value: 0.33723118901252747.\n"
          ]
        },
        {
          "output_type": "stream",
          "name": "stdout",
          "text": [
            "Epoch 1/10\n",
            "250/250 [==============================] - 2s 3ms/step - loss: 0.3953 - accuracy: 0.8378\n",
            "Epoch 2/10\n",
            "250/250 [==============================] - 1s 3ms/step - loss: 0.3531 - accuracy: 0.8587\n",
            "Epoch 3/10\n",
            "250/250 [==============================] - 1s 4ms/step - loss: 0.3465 - accuracy: 0.8591\n",
            "Epoch 4/10\n",
            "250/250 [==============================] - 1s 5ms/step - loss: 0.3412 - accuracy: 0.8608\n",
            "Epoch 5/10\n",
            "250/250 [==============================] - 1s 4ms/step - loss: 0.3354 - accuracy: 0.8637\n",
            "Epoch 6/10\n",
            "250/250 [==============================] - 1s 3ms/step - loss: 0.3324 - accuracy: 0.8619\n",
            "Epoch 7/10\n",
            "250/250 [==============================] - 1s 3ms/step - loss: 0.3335 - accuracy: 0.8624\n",
            "Epoch 8/10\n",
            "250/250 [==============================] - 1s 2ms/step - loss: 0.3259 - accuracy: 0.8658\n",
            "Epoch 9/10\n",
            "250/250 [==============================] - 1s 2ms/step - loss: 0.3227 - accuracy: 0.8658\n",
            "Epoch 10/10\n",
            "250/250 [==============================] - 1s 3ms/step - loss: 0.3209 - accuracy: 0.8669\n",
            "63/63 [==============================] - 0s 2ms/step - loss: 0.3567 - accuracy: 0.8560\n"
          ]
        },
        {
          "output_type": "stream",
          "name": "stderr",
          "text": [
            "[I 2024-04-24 20:01:34,551] Trial 74 finished with value: 0.35669878125190735 and parameters: {'n_layers': 2, 'n_units': 152, 'learning_rate': 0.00438770498183709}. Best is trial 10 with value: 0.33723118901252747.\n"
          ]
        },
        {
          "output_type": "stream",
          "name": "stdout",
          "text": [
            "Epoch 1/10\n",
            "250/250 [==============================] - 1s 2ms/step - loss: 0.3965 - accuracy: 0.8349\n",
            "Epoch 2/10\n",
            "250/250 [==============================] - 1s 2ms/step - loss: 0.3552 - accuracy: 0.8528\n",
            "Epoch 3/10\n",
            "250/250 [==============================] - 1s 2ms/step - loss: 0.3469 - accuracy: 0.8590\n",
            "Epoch 4/10\n",
            "250/250 [==============================] - 1s 3ms/step - loss: 0.3445 - accuracy: 0.8583\n",
            "Epoch 5/10\n",
            "250/250 [==============================] - 1s 3ms/step - loss: 0.3408 - accuracy: 0.8574\n",
            "Epoch 6/10\n",
            "250/250 [==============================] - 1s 2ms/step - loss: 0.3354 - accuracy: 0.8635\n",
            "Epoch 7/10\n",
            "250/250 [==============================] - 1s 2ms/step - loss: 0.3356 - accuracy: 0.8601\n",
            "Epoch 8/10\n",
            "250/250 [==============================] - 1s 2ms/step - loss: 0.3322 - accuracy: 0.8640\n",
            "Epoch 9/10\n",
            "250/250 [==============================] - 1s 2ms/step - loss: 0.3317 - accuracy: 0.8655\n",
            "Epoch 10/10\n",
            "250/250 [==============================] - 1s 3ms/step - loss: 0.3321 - accuracy: 0.8640\n",
            "63/63 [==============================] - 0s 2ms/step - loss: 0.3408 - accuracy: 0.8565\n"
          ]
        },
        {
          "output_type": "stream",
          "name": "stderr",
          "text": [
            "[I 2024-04-24 20:01:45,876] Trial 75 finished with value: 0.3408380150794983 and parameters: {'n_layers': 1, 'n_units': 130, 'learning_rate': 0.005243893455551851}. Best is trial 10 with value: 0.33723118901252747.\n"
          ]
        },
        {
          "output_type": "stream",
          "name": "stdout",
          "text": [
            "Epoch 1/10\n",
            "250/250 [==============================] - 1s 2ms/step - loss: 0.4004 - accuracy: 0.8338\n",
            "Epoch 2/10\n",
            "250/250 [==============================] - 1s 2ms/step - loss: 0.3551 - accuracy: 0.8561\n",
            "Epoch 3/10\n",
            "250/250 [==============================] - 1s 2ms/step - loss: 0.3505 - accuracy: 0.8575\n",
            "Epoch 4/10\n",
            "250/250 [==============================] - 0s 2ms/step - loss: 0.3470 - accuracy: 0.8584\n",
            "Epoch 5/10\n",
            "250/250 [==============================] - 1s 2ms/step - loss: 0.3435 - accuracy: 0.8580\n",
            "Epoch 6/10\n",
            "250/250 [==============================] - 0s 2ms/step - loss: 0.3404 - accuracy: 0.8611\n",
            "Epoch 7/10\n",
            "250/250 [==============================] - 1s 2ms/step - loss: 0.3379 - accuracy: 0.8605\n",
            "Epoch 8/10\n",
            "250/250 [==============================] - 1s 2ms/step - loss: 0.3358 - accuracy: 0.8620\n",
            "Epoch 9/10\n",
            "250/250 [==============================] - 1s 2ms/step - loss: 0.3325 - accuracy: 0.8626\n",
            "Epoch 10/10\n",
            "250/250 [==============================] - 1s 2ms/step - loss: 0.3307 - accuracy: 0.8627\n",
            "63/63 [==============================] - 0s 2ms/step - loss: 0.3473 - accuracy: 0.8615\n"
          ]
        },
        {
          "output_type": "stream",
          "name": "stderr",
          "text": [
            "[I 2024-04-24 20:01:57,171] Trial 76 finished with value: 0.34726762771606445 and parameters: {'n_layers': 1, 'n_units': 131, 'learning_rate': 0.005205021441244773}. Best is trial 10 with value: 0.33723118901252747.\n"
          ]
        },
        {
          "output_type": "stream",
          "name": "stdout",
          "text": [
            "Epoch 1/10\n",
            "250/250 [==============================] - 2s 4ms/step - loss: 0.3904 - accuracy: 0.8400\n",
            "Epoch 2/10\n",
            "250/250 [==============================] - 1s 4ms/step - loss: 0.3534 - accuracy: 0.8570\n",
            "Epoch 3/10\n",
            "250/250 [==============================] - 1s 4ms/step - loss: 0.3477 - accuracy: 0.8601\n",
            "Epoch 4/10\n",
            "250/250 [==============================] - 1s 4ms/step - loss: 0.3414 - accuracy: 0.8641\n",
            "Epoch 5/10\n",
            "250/250 [==============================] - 1s 4ms/step - loss: 0.3380 - accuracy: 0.8622\n",
            "Epoch 6/10\n",
            "250/250 [==============================] - 1s 5ms/step - loss: 0.3315 - accuracy: 0.8621\n",
            "Epoch 7/10\n",
            "250/250 [==============================] - 2s 6ms/step - loss: 0.3314 - accuracy: 0.8633\n",
            "Epoch 8/10\n",
            "250/250 [==============================] - 2s 6ms/step - loss: 0.3251 - accuracy: 0.8651\n",
            "Epoch 9/10\n",
            "250/250 [==============================] - 1s 5ms/step - loss: 0.3239 - accuracy: 0.8660\n",
            "Epoch 10/10\n",
            "250/250 [==============================] - 1s 4ms/step - loss: 0.3187 - accuracy: 0.8673\n",
            "63/63 [==============================] - 0s 3ms/step - loss: 0.3447 - accuracy: 0.8610\n"
          ]
        },
        {
          "output_type": "stream",
          "name": "stderr",
          "text": [
            "[I 2024-04-24 20:02:19,241] Trial 77 finished with value: 0.34471556544303894 and parameters: {'n_layers': 2, 'n_units': 253, 'learning_rate': 0.003632012352895439}. Best is trial 10 with value: 0.33723118901252747.\n"
          ]
        },
        {
          "output_type": "stream",
          "name": "stdout",
          "text": [
            "Epoch 1/10\n",
            "250/250 [==============================] - 1s 2ms/step - loss: 0.4015 - accuracy: 0.8367\n",
            "Epoch 2/10\n",
            "250/250 [==============================] - 1s 3ms/step - loss: 0.3555 - accuracy: 0.8565\n",
            "Epoch 3/10\n",
            "250/250 [==============================] - 1s 2ms/step - loss: 0.3502 - accuracy: 0.8564\n",
            "Epoch 4/10\n",
            "250/250 [==============================] - 1s 3ms/step - loss: 0.3462 - accuracy: 0.8556\n",
            "Epoch 5/10\n",
            "250/250 [==============================] - 1s 3ms/step - loss: 0.3435 - accuracy: 0.8599\n",
            "Epoch 6/10\n",
            "250/250 [==============================] - 1s 3ms/step - loss: 0.3410 - accuracy: 0.8574\n",
            "Epoch 7/10\n",
            "250/250 [==============================] - 1s 2ms/step - loss: 0.3411 - accuracy: 0.8596\n",
            "Epoch 8/10\n",
            "250/250 [==============================] - 1s 2ms/step - loss: 0.3367 - accuracy: 0.8611\n",
            "Epoch 9/10\n",
            "250/250 [==============================] - 1s 2ms/step - loss: 0.3336 - accuracy: 0.8630\n",
            "Epoch 10/10\n",
            "250/250 [==============================] - 1s 2ms/step - loss: 0.3324 - accuracy: 0.8630\n",
            "63/63 [==============================] - 0s 2ms/step - loss: 0.3546 - accuracy: 0.8590\n"
          ]
        },
        {
          "output_type": "stream",
          "name": "stderr",
          "text": [
            "[I 2024-04-24 20:02:26,562] Trial 78 finished with value: 0.35461702942848206 and parameters: {'n_layers': 1, 'n_units': 112, 'learning_rate': 0.0047194645809811205}. Best is trial 10 with value: 0.33723118901252747.\n"
          ]
        },
        {
          "output_type": "stream",
          "name": "stdout",
          "text": [
            "Epoch 1/10\n",
            "250/250 [==============================] - 2s 3ms/step - loss: 0.3918 - accuracy: 0.8357\n",
            "Epoch 2/10\n",
            "250/250 [==============================] - 1s 2ms/step - loss: 0.3466 - accuracy: 0.8589\n",
            "Epoch 3/10\n",
            "250/250 [==============================] - 1s 4ms/step - loss: 0.3423 - accuracy: 0.8596\n",
            "Epoch 4/10\n",
            "250/250 [==============================] - 1s 4ms/step - loss: 0.3340 - accuracy: 0.8614\n",
            "Epoch 5/10\n",
            "250/250 [==============================] - 1s 4ms/step - loss: 0.3310 - accuracy: 0.8640\n",
            "Epoch 6/10\n",
            "250/250 [==============================] - 1s 3ms/step - loss: 0.3254 - accuracy: 0.8656\n",
            "Epoch 7/10\n",
            "250/250 [==============================] - 1s 3ms/step - loss: 0.3237 - accuracy: 0.8648\n",
            "Epoch 8/10\n",
            "250/250 [==============================] - 1s 3ms/step - loss: 0.3229 - accuracy: 0.8626\n",
            "Epoch 9/10\n",
            "250/250 [==============================] - 1s 2ms/step - loss: 0.3183 - accuracy: 0.8691\n",
            "Epoch 10/10\n",
            "250/250 [==============================] - 1s 3ms/step - loss: 0.3158 - accuracy: 0.8673\n",
            "63/63 [==============================] - 0s 2ms/step - loss: 0.3485 - accuracy: 0.8580\n"
          ]
        },
        {
          "output_type": "stream",
          "name": "stderr",
          "text": [
            "[I 2024-04-24 20:02:35,702] Trial 79 finished with value: 0.34854650497436523 and parameters: {'n_layers': 2, 'n_units': 138, 'learning_rate': 0.0025327006430146443}. Best is trial 10 with value: 0.33723118901252747.\n"
          ]
        },
        {
          "output_type": "stream",
          "name": "stdout",
          "text": [
            "Epoch 1/10\n",
            "250/250 [==============================] - 1s 2ms/step - loss: 0.4011 - accuracy: 0.8334\n",
            "Epoch 2/10\n",
            "250/250 [==============================] - 1s 3ms/step - loss: 0.3561 - accuracy: 0.8540\n",
            "Epoch 3/10\n",
            "250/250 [==============================] - 1s 3ms/step - loss: 0.3514 - accuracy: 0.8547\n",
            "Epoch 4/10\n",
            "250/250 [==============================] - 1s 2ms/step - loss: 0.3474 - accuracy: 0.8615\n",
            "Epoch 5/10\n",
            "250/250 [==============================] - 0s 2ms/step - loss: 0.3421 - accuracy: 0.8571\n",
            "Epoch 6/10\n",
            "250/250 [==============================] - 1s 2ms/step - loss: 0.3403 - accuracy: 0.8615\n",
            "Epoch 7/10\n",
            "250/250 [==============================] - 1s 2ms/step - loss: 0.3378 - accuracy: 0.8618\n",
            "Epoch 8/10\n",
            "250/250 [==============================] - 1s 2ms/step - loss: 0.3376 - accuracy: 0.8604\n",
            "Epoch 9/10\n",
            "250/250 [==============================] - 1s 2ms/step - loss: 0.3335 - accuracy: 0.8622\n",
            "Epoch 10/10\n",
            "250/250 [==============================] - 1s 3ms/step - loss: 0.3354 - accuracy: 0.8626\n",
            "63/63 [==============================] - 0s 3ms/step - loss: 0.3498 - accuracy: 0.8595\n"
          ]
        },
        {
          "output_type": "stream",
          "name": "stderr",
          "text": [
            "[I 2024-04-24 20:02:42,968] Trial 80 finished with value: 0.3497577905654907 and parameters: {'n_layers': 1, 'n_units': 93, 'learning_rate': 0.005544203788970603}. Best is trial 10 with value: 0.33723118901252747.\n"
          ]
        },
        {
          "output_type": "stream",
          "name": "stdout",
          "text": [
            "Epoch 1/10\n",
            "250/250 [==============================] - 2s 3ms/step - loss: 0.4030 - accuracy: 0.8300\n",
            "Epoch 2/10\n",
            "250/250 [==============================] - 1s 2ms/step - loss: 0.3547 - accuracy: 0.8568\n",
            "Epoch 3/10\n",
            "250/250 [==============================] - 1s 2ms/step - loss: 0.3472 - accuracy: 0.8572\n",
            "Epoch 4/10\n",
            "250/250 [==============================] - 1s 2ms/step - loss: 0.3452 - accuracy: 0.8579\n",
            "Epoch 5/10\n",
            "250/250 [==============================] - 1s 2ms/step - loss: 0.3433 - accuracy: 0.8602\n",
            "Epoch 6/10\n",
            "250/250 [==============================] - 1s 3ms/step - loss: 0.3389 - accuracy: 0.8616\n",
            "Epoch 7/10\n",
            "250/250 [==============================] - 1s 3ms/step - loss: 0.3368 - accuracy: 0.8626\n",
            "Epoch 8/10\n",
            "250/250 [==============================] - 1s 2ms/step - loss: 0.3357 - accuracy: 0.8641\n",
            "Epoch 9/10\n",
            "250/250 [==============================] - 1s 2ms/step - loss: 0.3313 - accuracy: 0.8616\n",
            "Epoch 10/10\n",
            "250/250 [==============================] - 1s 2ms/step - loss: 0.3310 - accuracy: 0.8645\n",
            "63/63 [==============================] - 0s 2ms/step - loss: 0.3442 - accuracy: 0.8560\n"
          ]
        },
        {
          "output_type": "stream",
          "name": "stderr",
          "text": [
            "[I 2024-04-24 20:02:50,418] Trial 81 finished with value: 0.3441687226295471 and parameters: {'n_layers': 1, 'n_units': 126, 'learning_rate': 0.004345192839978958}. Best is trial 10 with value: 0.33723118901252747.\n"
          ]
        },
        {
          "output_type": "stream",
          "name": "stdout",
          "text": [
            "Epoch 1/10\n",
            "250/250 [==============================] - 1s 3ms/step - loss: 0.4188 - accuracy: 0.8207\n",
            "Epoch 2/10\n",
            "250/250 [==============================] - 1s 3ms/step - loss: 0.3581 - accuracy: 0.8565\n",
            "Epoch 3/10\n",
            "250/250 [==============================] - 1s 3ms/step - loss: 0.3501 - accuracy: 0.8581\n",
            "Epoch 4/10\n",
            "250/250 [==============================] - 1s 2ms/step - loss: 0.3432 - accuracy: 0.8616\n",
            "Epoch 5/10\n",
            "250/250 [==============================] - 1s 2ms/step - loss: 0.3444 - accuracy: 0.8621\n",
            "Epoch 6/10\n",
            "250/250 [==============================] - 1s 2ms/step - loss: 0.3408 - accuracy: 0.8586\n",
            "Epoch 7/10\n",
            "250/250 [==============================] - 1s 3ms/step - loss: 0.3377 - accuracy: 0.8630\n",
            "Epoch 8/10\n",
            "250/250 [==============================] - 1s 3ms/step - loss: 0.3376 - accuracy: 0.8609\n",
            "Epoch 9/10\n",
            "250/250 [==============================] - 1s 4ms/step - loss: 0.3355 - accuracy: 0.8634\n",
            "Epoch 10/10\n",
            "250/250 [==============================] - 1s 3ms/step - loss: 0.3345 - accuracy: 0.8631\n",
            "63/63 [==============================] - 0s 2ms/step - loss: 0.3471 - accuracy: 0.8615\n"
          ]
        },
        {
          "output_type": "stream",
          "name": "stderr",
          "text": [
            "[I 2024-04-24 20:03:01,757] Trial 82 finished with value: 0.347111314535141 and parameters: {'n_layers': 1, 'n_units': 103, 'learning_rate': 0.003490422106820215}. Best is trial 10 with value: 0.33723118901252747.\n"
          ]
        },
        {
          "output_type": "stream",
          "name": "stdout",
          "text": [
            "Epoch 1/10\n",
            "250/250 [==============================] - 2s 3ms/step - loss: 0.3938 - accuracy: 0.8409\n",
            "Epoch 2/10\n",
            "250/250 [==============================] - 1s 4ms/step - loss: 0.3537 - accuracy: 0.8550\n",
            "Epoch 3/10\n",
            "250/250 [==============================] - 1s 3ms/step - loss: 0.3442 - accuracy: 0.8580\n",
            "Epoch 4/10\n",
            "250/250 [==============================] - 1s 3ms/step - loss: 0.3418 - accuracy: 0.8594\n",
            "Epoch 5/10\n",
            "250/250 [==============================] - 1s 3ms/step - loss: 0.3379 - accuracy: 0.8611\n",
            "Epoch 6/10\n",
            "250/250 [==============================] - 1s 3ms/step - loss: 0.3344 - accuracy: 0.8650\n",
            "Epoch 7/10\n",
            "250/250 [==============================] - 1s 2ms/step - loss: 0.3286 - accuracy: 0.8652\n",
            "Epoch 8/10\n",
            "250/250 [==============================] - 1s 4ms/step - loss: 0.3277 - accuracy: 0.8659\n",
            "Epoch 9/10\n",
            "250/250 [==============================] - 1s 4ms/step - loss: 0.3271 - accuracy: 0.8648\n",
            "Epoch 10/10\n",
            "250/250 [==============================] - 1s 4ms/step - loss: 0.3198 - accuracy: 0.8665\n",
            "63/63 [==============================] - 0s 3ms/step - loss: 0.3491 - accuracy: 0.8570\n"
          ]
        },
        {
          "output_type": "stream",
          "name": "stderr",
          "text": [
            "[I 2024-04-24 20:03:10,892] Trial 83 finished with value: 0.34912699460983276 and parameters: {'n_layers': 2, 'n_units': 146, 'learning_rate': 0.005285536696585779}. Best is trial 10 with value: 0.33723118901252747.\n"
          ]
        },
        {
          "output_type": "stream",
          "name": "stdout",
          "text": [
            "Epoch 1/10\n",
            "250/250 [==============================] - 1s 2ms/step - loss: 0.3951 - accuracy: 0.8349\n",
            "Epoch 2/10\n",
            "250/250 [==============================] - 1s 2ms/step - loss: 0.3533 - accuracy: 0.8541\n",
            "Epoch 3/10\n",
            "250/250 [==============================] - 1s 2ms/step - loss: 0.3470 - accuracy: 0.8576\n",
            "Epoch 4/10\n",
            "250/250 [==============================] - 0s 2ms/step - loss: 0.3447 - accuracy: 0.8601\n",
            "Epoch 5/10\n",
            "250/250 [==============================] - 0s 2ms/step - loss: 0.3391 - accuracy: 0.8605\n",
            "Epoch 6/10\n",
            "250/250 [==============================] - 0s 2ms/step - loss: 0.3355 - accuracy: 0.8601\n",
            "Epoch 7/10\n",
            "250/250 [==============================] - 1s 2ms/step - loss: 0.3351 - accuracy: 0.8627\n",
            "Epoch 8/10\n",
            "250/250 [==============================] - 0s 2ms/step - loss: 0.3348 - accuracy: 0.8622\n",
            "Epoch 9/10\n",
            "250/250 [==============================] - 1s 2ms/step - loss: 0.3325 - accuracy: 0.8609\n",
            "Epoch 10/10\n",
            "250/250 [==============================] - 1s 2ms/step - loss: 0.3302 - accuracy: 0.8658\n",
            "63/63 [==============================] - 0s 2ms/step - loss: 0.3397 - accuracy: 0.8605\n"
          ]
        },
        {
          "output_type": "stream",
          "name": "stderr",
          "text": [
            "[I 2024-04-24 20:03:17,060] Trial 84 finished with value: 0.33965322375297546 and parameters: {'n_layers': 1, 'n_units': 156, 'learning_rate': 0.006037596824431183}. Best is trial 10 with value: 0.33723118901252747.\n"
          ]
        },
        {
          "output_type": "stream",
          "name": "stdout",
          "text": [
            "Epoch 1/10\n",
            "250/250 [==============================] - 6s 9ms/step - loss: 0.4217 - accuracy: 0.8235\n",
            "Epoch 2/10\n",
            "250/250 [==============================] - 2s 6ms/step - loss: 0.3832 - accuracy: 0.8482\n",
            "Epoch 3/10\n",
            "250/250 [==============================] - 2s 7ms/step - loss: 0.3645 - accuracy: 0.8533\n",
            "Epoch 4/10\n",
            "250/250 [==============================] - 2s 7ms/step - loss: 0.3553 - accuracy: 0.8568\n",
            "Epoch 5/10\n",
            "250/250 [==============================] - 2s 7ms/step - loss: 0.3530 - accuracy: 0.8596\n",
            "Epoch 6/10\n",
            "250/250 [==============================] - 2s 6ms/step - loss: 0.3434 - accuracy: 0.8601\n",
            "Epoch 7/10\n",
            "250/250 [==============================] - 2s 6ms/step - loss: 0.3425 - accuracy: 0.8606\n",
            "Epoch 8/10\n",
            "250/250 [==============================] - 2s 7ms/step - loss: 0.3437 - accuracy: 0.8640\n",
            "Epoch 9/10\n",
            "250/250 [==============================] - 2s 8ms/step - loss: 0.3535 - accuracy: 0.8575\n",
            "Epoch 10/10\n",
            "250/250 [==============================] - 1s 5ms/step - loss: 0.3432 - accuracy: 0.8618\n",
            "63/63 [==============================] - 0s 3ms/step - loss: 0.3771 - accuracy: 0.8365\n"
          ]
        },
        {
          "output_type": "stream",
          "name": "stderr",
          "text": [
            "[I 2024-04-24 20:03:38,896] Trial 85 finished with value: 0.3770736753940582 and parameters: {'n_layers': 7, 'n_units': 158, 'learning_rate': 0.00596054613234473}. Best is trial 10 with value: 0.33723118901252747.\n"
          ]
        },
        {
          "output_type": "stream",
          "name": "stdout",
          "text": [
            "Epoch 1/10\n",
            "250/250 [==============================] - 1s 3ms/step - loss: 0.3946 - accuracy: 0.8369\n",
            "Epoch 2/10\n",
            "250/250 [==============================] - 1s 3ms/step - loss: 0.3541 - accuracy: 0.8544\n",
            "Epoch 3/10\n",
            "250/250 [==============================] - 1s 2ms/step - loss: 0.3487 - accuracy: 0.8574\n",
            "Epoch 4/10\n",
            "250/250 [==============================] - 1s 2ms/step - loss: 0.3441 - accuracy: 0.8564\n",
            "Epoch 5/10\n",
            "250/250 [==============================] - 1s 2ms/step - loss: 0.3387 - accuracy: 0.8594\n",
            "Epoch 6/10\n",
            "250/250 [==============================] - 1s 3ms/step - loss: 0.3403 - accuracy: 0.8590\n",
            "Epoch 7/10\n",
            "250/250 [==============================] - 1s 3ms/step - loss: 0.3349 - accuracy: 0.8606\n",
            "Epoch 8/10\n",
            "250/250 [==============================] - 1s 3ms/step - loss: 0.3334 - accuracy: 0.8624\n",
            "Epoch 9/10\n",
            "250/250 [==============================] - 1s 3ms/step - loss: 0.3323 - accuracy: 0.8633\n",
            "Epoch 10/10\n",
            "250/250 [==============================] - 1s 2ms/step - loss: 0.3324 - accuracy: 0.8634\n",
            "63/63 [==============================] - 0s 2ms/step - loss: 0.3452 - accuracy: 0.8565\n"
          ]
        },
        {
          "output_type": "stream",
          "name": "stderr",
          "text": [
            "[I 2024-04-24 20:03:50,227] Trial 86 finished with value: 0.34521254897117615 and parameters: {'n_layers': 1, 'n_units': 155, 'learning_rate': 0.005661956572435642}. Best is trial 10 with value: 0.33723118901252747.\n"
          ]
        },
        {
          "output_type": "stream",
          "name": "stdout",
          "text": [
            "Epoch 1/10\n",
            "250/250 [==============================] - 2s 3ms/step - loss: 0.3994 - accuracy: 0.8356\n",
            "Epoch 2/10\n",
            "250/250 [==============================] - 1s 3ms/step - loss: 0.3521 - accuracy: 0.8577\n",
            "Epoch 3/10\n",
            "250/250 [==============================] - 1s 3ms/step - loss: 0.3437 - accuracy: 0.8568\n",
            "Epoch 4/10\n",
            "250/250 [==============================] - 1s 3ms/step - loss: 0.3393 - accuracy: 0.8614\n",
            "Epoch 5/10\n",
            "250/250 [==============================] - 1s 3ms/step - loss: 0.3357 - accuracy: 0.8640\n",
            "Epoch 6/10\n",
            "250/250 [==============================] - 1s 3ms/step - loss: 0.3348 - accuracy: 0.8641\n",
            "Epoch 7/10\n",
            "250/250 [==============================] - 1s 3ms/step - loss: 0.3298 - accuracy: 0.8624\n",
            "Epoch 8/10\n",
            "250/250 [==============================] - 1s 3ms/step - loss: 0.3289 - accuracy: 0.8656\n",
            "Epoch 9/10\n",
            "250/250 [==============================] - 1s 3ms/step - loss: 0.3223 - accuracy: 0.8677\n",
            "Epoch 10/10\n",
            "250/250 [==============================] - 1s 3ms/step - loss: 0.3215 - accuracy: 0.8656\n",
            "63/63 [==============================] - 0s 2ms/step - loss: 0.3541 - accuracy: 0.8650\n"
          ]
        },
        {
          "output_type": "stream",
          "name": "stderr",
          "text": [
            "[I 2024-04-24 20:04:01,886] Trial 87 finished with value: 0.35408833622932434 and parameters: {'n_layers': 2, 'n_units': 137, 'learning_rate': 0.004899250755843862}. Best is trial 10 with value: 0.33723118901252747.\n"
          ]
        },
        {
          "output_type": "stream",
          "name": "stdout",
          "text": [
            "Epoch 1/10\n",
            "250/250 [==============================] - 1s 2ms/step - loss: 0.3892 - accuracy: 0.8395\n",
            "Epoch 2/10\n",
            "250/250 [==============================] - 1s 2ms/step - loss: 0.3533 - accuracy: 0.8571\n",
            "Epoch 3/10\n",
            "250/250 [==============================] - 1s 3ms/step - loss: 0.3515 - accuracy: 0.8574\n",
            "Epoch 4/10\n",
            "250/250 [==============================] - 1s 3ms/step - loss: 0.3442 - accuracy: 0.8600\n",
            "Epoch 5/10\n",
            "250/250 [==============================] - 1s 3ms/step - loss: 0.3407 - accuracy: 0.8615\n",
            "Epoch 6/10\n",
            "250/250 [==============================] - 1s 2ms/step - loss: 0.3398 - accuracy: 0.8591\n",
            "Epoch 7/10\n",
            "250/250 [==============================] - 1s 3ms/step - loss: 0.3379 - accuracy: 0.8600\n",
            "Epoch 8/10\n",
            "250/250 [==============================] - 1s 3ms/step - loss: 0.3350 - accuracy: 0.8606\n",
            "Epoch 9/10\n",
            "250/250 [==============================] - 1s 3ms/step - loss: 0.3336 - accuracy: 0.8629\n",
            "Epoch 10/10\n",
            "250/250 [==============================] - 1s 3ms/step - loss: 0.3334 - accuracy: 0.8630\n",
            "63/63 [==============================] - 0s 2ms/step - loss: 0.3508 - accuracy: 0.8535\n"
          ]
        },
        {
          "output_type": "stream",
          "name": "stderr",
          "text": [
            "[I 2024-04-24 20:04:13,191] Trial 88 finished with value: 0.3507506251335144 and parameters: {'n_layers': 1, 'n_units': 168, 'learning_rate': 0.006473060005218665}. Best is trial 10 with value: 0.33723118901252747.\n"
          ]
        },
        {
          "output_type": "stream",
          "name": "stdout",
          "text": [
            "Epoch 1/10\n",
            "250/250 [==============================] - 1s 2ms/step - loss: 0.3986 - accuracy: 0.8336\n",
            "Epoch 2/10\n",
            "250/250 [==============================] - 1s 2ms/step - loss: 0.3545 - accuracy: 0.8529\n",
            "Epoch 3/10\n",
            "250/250 [==============================] - 1s 3ms/step - loss: 0.3468 - accuracy: 0.8568\n",
            "Epoch 4/10\n",
            "250/250 [==============================] - 1s 2ms/step - loss: 0.3459 - accuracy: 0.8577\n",
            "Epoch 5/10\n",
            "250/250 [==============================] - 1s 2ms/step - loss: 0.3436 - accuracy: 0.8594\n",
            "Epoch 6/10\n",
            "250/250 [==============================] - 1s 2ms/step - loss: 0.3413 - accuracy: 0.8622\n",
            "Epoch 7/10\n",
            "250/250 [==============================] - 1s 2ms/step - loss: 0.3379 - accuracy: 0.8618\n",
            "Epoch 8/10\n",
            "250/250 [==============================] - 1s 3ms/step - loss: 0.3363 - accuracy: 0.8610\n",
            "Epoch 9/10\n",
            "250/250 [==============================] - 1s 3ms/step - loss: 0.3324 - accuracy: 0.8649\n",
            "Epoch 10/10\n",
            "250/250 [==============================] - 1s 2ms/step - loss: 0.3330 - accuracy: 0.8629\n",
            "63/63 [==============================] - 0s 2ms/step - loss: 0.3474 - accuracy: 0.8570\n"
          ]
        },
        {
          "output_type": "stream",
          "name": "stderr",
          "text": [
            "[I 2024-04-24 20:04:20,371] Trial 89 finished with value: 0.34742194414138794 and parameters: {'n_layers': 1, 'n_units': 118, 'learning_rate': 0.00605584120991152}. Best is trial 10 with value: 0.33723118901252747.\n"
          ]
        },
        {
          "output_type": "stream",
          "name": "stdout",
          "text": [
            "Epoch 1/10\n",
            "250/250 [==============================] - 2s 4ms/step - loss: 0.3962 - accuracy: 0.8357\n",
            "Epoch 2/10\n",
            "250/250 [==============================] - 1s 5ms/step - loss: 0.3560 - accuracy: 0.8566\n",
            "Epoch 3/10\n",
            "250/250 [==============================] - 1s 4ms/step - loss: 0.3469 - accuracy: 0.8585\n",
            "Epoch 4/10\n",
            "250/250 [==============================] - 1s 3ms/step - loss: 0.3405 - accuracy: 0.8610\n",
            "Epoch 5/10\n",
            "250/250 [==============================] - 1s 3ms/step - loss: 0.3396 - accuracy: 0.8618\n",
            "Epoch 6/10\n",
            "250/250 [==============================] - 1s 3ms/step - loss: 0.3352 - accuracy: 0.8594\n",
            "Epoch 7/10\n",
            "250/250 [==============================] - 1s 3ms/step - loss: 0.3340 - accuracy: 0.8620\n",
            "Epoch 8/10\n",
            "250/250 [==============================] - 1s 3ms/step - loss: 0.3303 - accuracy: 0.8675\n",
            "Epoch 9/10\n",
            "250/250 [==============================] - 1s 3ms/step - loss: 0.3293 - accuracy: 0.8645\n",
            "Epoch 10/10\n",
            "250/250 [==============================] - 1s 3ms/step - loss: 0.3273 - accuracy: 0.8650\n",
            "63/63 [==============================] - 0s 2ms/step - loss: 0.3522 - accuracy: 0.8585\n"
          ]
        },
        {
          "output_type": "stream",
          "name": "stderr",
          "text": [
            "[I 2024-04-24 20:04:30,344] Trial 90 finished with value: 0.35224923491477966 and parameters: {'n_layers': 2, 'n_units': 132, 'learning_rate': 0.0069007223440941835}. Best is trial 10 with value: 0.33723118901252747.\n"
          ]
        },
        {
          "output_type": "stream",
          "name": "stdout",
          "text": [
            "Epoch 1/10\n",
            "250/250 [==============================] - 1s 2ms/step - loss: 0.4074 - accuracy: 0.8282\n",
            "Epoch 2/10\n",
            "250/250 [==============================] - 1s 2ms/step - loss: 0.3536 - accuracy: 0.8565\n",
            "Epoch 3/10\n",
            "250/250 [==============================] - 1s 2ms/step - loss: 0.3489 - accuracy: 0.8581\n",
            "Epoch 4/10\n",
            "250/250 [==============================] - 1s 2ms/step - loss: 0.3443 - accuracy: 0.8586\n",
            "Epoch 5/10\n",
            "250/250 [==============================] - 1s 2ms/step - loss: 0.3427 - accuracy: 0.8581\n",
            "Epoch 6/10\n",
            "250/250 [==============================] - 1s 3ms/step - loss: 0.3396 - accuracy: 0.8602\n",
            "Epoch 7/10\n",
            "250/250 [==============================] - 1s 4ms/step - loss: 0.3371 - accuracy: 0.8619\n",
            "Epoch 8/10\n",
            "250/250 [==============================] - 1s 3ms/step - loss: 0.3362 - accuracy: 0.8622\n",
            "Epoch 9/10\n",
            "250/250 [==============================] - 1s 4ms/step - loss: 0.3331 - accuracy: 0.8599\n",
            "Epoch 10/10\n",
            "250/250 [==============================] - 1s 3ms/step - loss: 0.3315 - accuracy: 0.8654\n",
            "63/63 [==============================] - 0s 2ms/step - loss: 0.3449 - accuracy: 0.8610\n"
          ]
        },
        {
          "output_type": "stream",
          "name": "stderr",
          "text": [
            "[I 2024-04-24 20:04:38,682] Trial 91 finished with value: 0.34490278363227844 and parameters: {'n_layers': 1, 'n_units': 121, 'learning_rate': 0.003896805895109464}. Best is trial 10 with value: 0.33723118901252747.\n"
          ]
        },
        {
          "output_type": "stream",
          "name": "stdout",
          "text": [
            "Epoch 1/10\n",
            "250/250 [==============================] - 1s 2ms/step - loss: 0.4002 - accuracy: 0.8330\n",
            "Epoch 2/10\n",
            "250/250 [==============================] - 1s 2ms/step - loss: 0.3553 - accuracy: 0.8536\n",
            "Epoch 3/10\n",
            "250/250 [==============================] - 1s 3ms/step - loss: 0.3510 - accuracy: 0.8580\n",
            "Epoch 4/10\n",
            "250/250 [==============================] - 1s 3ms/step - loss: 0.3483 - accuracy: 0.8579\n",
            "Epoch 5/10\n",
            "250/250 [==============================] - 1s 3ms/step - loss: 0.3429 - accuracy: 0.8605\n",
            "Epoch 6/10\n",
            "250/250 [==============================] - 1s 3ms/step - loss: 0.3406 - accuracy: 0.8605\n",
            "Epoch 7/10\n",
            "250/250 [==============================] - 1s 2ms/step - loss: 0.3369 - accuracy: 0.8612\n",
            "Epoch 8/10\n",
            "250/250 [==============================] - 1s 2ms/step - loss: 0.3366 - accuracy: 0.8621\n",
            "Epoch 9/10\n",
            "250/250 [==============================] - 1s 2ms/step - loss: 0.3318 - accuracy: 0.8654\n",
            "Epoch 10/10\n",
            "250/250 [==============================] - 1s 2ms/step - loss: 0.3323 - accuracy: 0.8606\n",
            "63/63 [==============================] - 0s 2ms/step - loss: 0.3499 - accuracy: 0.8595\n"
          ]
        },
        {
          "output_type": "stream",
          "name": "stderr",
          "text": [
            "[I 2024-04-24 20:04:46,135] Trial 92 finished with value: 0.3499124050140381 and parameters: {'n_layers': 1, 'n_units': 99, 'learning_rate': 0.004693271380267637}. Best is trial 10 with value: 0.33723118901252747.\n"
          ]
        },
        {
          "output_type": "stream",
          "name": "stdout",
          "text": [
            "Epoch 1/10\n",
            "250/250 [==============================] - 1s 2ms/step - loss: 0.4021 - accuracy: 0.8326\n",
            "Epoch 2/10\n",
            "250/250 [==============================] - 1s 2ms/step - loss: 0.3561 - accuracy: 0.8534\n",
            "Epoch 3/10\n",
            "250/250 [==============================] - 1s 4ms/step - loss: 0.3471 - accuracy: 0.8593\n",
            "Epoch 4/10\n",
            "250/250 [==============================] - 1s 4ms/step - loss: 0.3441 - accuracy: 0.8596\n",
            "Epoch 5/10\n",
            "250/250 [==============================] - 1s 4ms/step - loss: 0.3396 - accuracy: 0.8614\n",
            "Epoch 6/10\n",
            "250/250 [==============================] - 1s 3ms/step - loss: 0.3371 - accuracy: 0.8620\n",
            "Epoch 7/10\n",
            "250/250 [==============================] - 1s 2ms/step - loss: 0.3341 - accuracy: 0.8614\n",
            "Epoch 8/10\n",
            "250/250 [==============================] - 1s 2ms/step - loss: 0.3335 - accuracy: 0.8626\n",
            "Epoch 9/10\n",
            "250/250 [==============================] - 1s 3ms/step - loss: 0.3318 - accuracy: 0.8620\n",
            "Epoch 10/10\n",
            "250/250 [==============================] - 1s 3ms/step - loss: 0.3294 - accuracy: 0.8637\n",
            "63/63 [==============================] - 0s 2ms/step - loss: 0.3514 - accuracy: 0.8635\n"
          ]
        },
        {
          "output_type": "stream",
          "name": "stderr",
          "text": [
            "[I 2024-04-24 20:04:57,598] Trial 93 finished with value: 0.35140228271484375 and parameters: {'n_layers': 1, 'n_units': 107, 'learning_rate': 0.004251697495183355}. Best is trial 10 with value: 0.33723118901252747.\n"
          ]
        },
        {
          "output_type": "stream",
          "name": "stdout",
          "text": [
            "Epoch 1/10\n",
            "250/250 [==============================] - 1s 2ms/step - loss: 0.3999 - accuracy: 0.8342\n",
            "Epoch 2/10\n",
            "250/250 [==============================] - 1s 2ms/step - loss: 0.3565 - accuracy: 0.8526\n",
            "Epoch 3/10\n",
            "250/250 [==============================] - 1s 2ms/step - loss: 0.3501 - accuracy: 0.8593\n",
            "Epoch 4/10\n",
            "250/250 [==============================] - 1s 3ms/step - loss: 0.3454 - accuracy: 0.8577\n",
            "Epoch 5/10\n",
            "250/250 [==============================] - 1s 3ms/step - loss: 0.3418 - accuracy: 0.8614\n",
            "Epoch 6/10\n",
            "250/250 [==============================] - 1s 4ms/step - loss: 0.3389 - accuracy: 0.8577\n",
            "Epoch 7/10\n",
            "250/250 [==============================] - 1s 5ms/step - loss: 0.3361 - accuracy: 0.8614\n",
            "Epoch 8/10\n",
            "250/250 [==============================] - 1s 3ms/step - loss: 0.3335 - accuracy: 0.8648\n",
            "Epoch 9/10\n",
            "250/250 [==============================] - 1s 3ms/step - loss: 0.3309 - accuracy: 0.8648\n",
            "Epoch 10/10\n",
            "250/250 [==============================] - 1s 3ms/step - loss: 0.3306 - accuracy: 0.8631\n",
            "63/63 [==============================] - 0s 2ms/step - loss: 0.3390 - accuracy: 0.8605\n"
          ]
        },
        {
          "output_type": "stream",
          "name": "stderr",
          "text": [
            "[I 2024-04-24 20:05:06,308] Trial 94 finished with value: 0.33896875381469727 and parameters: {'n_layers': 1, 'n_units': 142, 'learning_rate': 0.004120100443760433}. Best is trial 10 with value: 0.33723118901252747.\n"
          ]
        },
        {
          "output_type": "stream",
          "name": "stdout",
          "text": [
            "Epoch 1/10\n",
            "250/250 [==============================] - 1s 2ms/step - loss: 0.4146 - accuracy: 0.8241\n",
            "Epoch 2/10\n",
            "250/250 [==============================] - 1s 2ms/step - loss: 0.3567 - accuracy: 0.8551\n",
            "Epoch 3/10\n",
            "250/250 [==============================] - 1s 2ms/step - loss: 0.3492 - accuracy: 0.8565\n",
            "Epoch 4/10\n",
            "250/250 [==============================] - 1s 2ms/step - loss: 0.3452 - accuracy: 0.8601\n",
            "Epoch 5/10\n",
            "250/250 [==============================] - 1s 2ms/step - loss: 0.3426 - accuracy: 0.8610\n",
            "Epoch 6/10\n",
            "250/250 [==============================] - 1s 3ms/step - loss: 0.3399 - accuracy: 0.8618\n",
            "Epoch 7/10\n",
            "250/250 [==============================] - 1s 3ms/step - loss: 0.3373 - accuracy: 0.8614\n",
            "Epoch 8/10\n",
            "250/250 [==============================] - 1s 2ms/step - loss: 0.3364 - accuracy: 0.8624\n",
            "Epoch 9/10\n",
            "250/250 [==============================] - 1s 2ms/step - loss: 0.3360 - accuracy: 0.8639\n",
            "Epoch 10/10\n",
            "250/250 [==============================] - 1s 2ms/step - loss: 0.3318 - accuracy: 0.8629\n",
            "63/63 [==============================] - 0s 2ms/step - loss: 0.3549 - accuracy: 0.8525\n"
          ]
        },
        {
          "output_type": "stream",
          "name": "stderr",
          "text": [
            "[I 2024-04-24 20:05:13,476] Trial 95 finished with value: 0.35494503378868103 and parameters: {'n_layers': 1, 'n_units': 145, 'learning_rate': 0.0030476378641614075}. Best is trial 10 with value: 0.33723118901252747.\n"
          ]
        },
        {
          "output_type": "stream",
          "name": "stdout",
          "text": [
            "Epoch 1/10\n",
            "250/250 [==============================] - 2s 4ms/step - loss: 0.3880 - accuracy: 0.8360\n",
            "Epoch 2/10\n",
            "250/250 [==============================] - 1s 4ms/step - loss: 0.3531 - accuracy: 0.8584\n",
            "Epoch 3/10\n",
            "250/250 [==============================] - 1s 4ms/step - loss: 0.3449 - accuracy: 0.8580\n",
            "Epoch 4/10\n",
            "250/250 [==============================] - 1s 3ms/step - loss: 0.3391 - accuracy: 0.8599\n",
            "Epoch 5/10\n",
            "250/250 [==============================] - 1s 3ms/step - loss: 0.3390 - accuracy: 0.8630\n",
            "Epoch 6/10\n",
            "250/250 [==============================] - 1s 3ms/step - loss: 0.3363 - accuracy: 0.8626\n",
            "Epoch 7/10\n",
            "250/250 [==============================] - 1s 3ms/step - loss: 0.3304 - accuracy: 0.8640\n",
            "Epoch 8/10\n",
            "250/250 [==============================] - 1s 3ms/step - loss: 0.3285 - accuracy: 0.8644\n",
            "Epoch 9/10\n",
            "250/250 [==============================] - 1s 3ms/step - loss: 0.3302 - accuracy: 0.8644\n",
            "Epoch 10/10\n",
            "250/250 [==============================] - 1s 3ms/step - loss: 0.3226 - accuracy: 0.8670\n",
            "63/63 [==============================] - 0s 3ms/step - loss: 0.3486 - accuracy: 0.8585\n"
          ]
        },
        {
          "output_type": "stream",
          "name": "stderr",
          "text": [
            "[I 2024-04-24 20:05:23,552] Trial 96 finished with value: 0.3485908806324005 and parameters: {'n_layers': 2, 'n_units': 128, 'learning_rate': 0.005098750414943892}. Best is trial 10 with value: 0.33723118901252747.\n"
          ]
        },
        {
          "output_type": "stream",
          "name": "stdout",
          "text": [
            "Epoch 1/10\n",
            "250/250 [==============================] - 1s 2ms/step - loss: 0.3948 - accuracy: 0.8400\n",
            "Epoch 2/10\n",
            "250/250 [==============================] - 1s 3ms/step - loss: 0.3561 - accuracy: 0.8550\n",
            "Epoch 3/10\n",
            "250/250 [==============================] - 1s 2ms/step - loss: 0.3490 - accuracy: 0.8597\n",
            "Epoch 4/10\n",
            "250/250 [==============================] - 1s 2ms/step - loss: 0.3456 - accuracy: 0.8583\n",
            "Epoch 5/10\n",
            "250/250 [==============================] - 1s 3ms/step - loss: 0.3402 - accuracy: 0.8604\n",
            "Epoch 6/10\n",
            "250/250 [==============================] - 1s 4ms/step - loss: 0.3377 - accuracy: 0.8615\n",
            "Epoch 7/10\n",
            "250/250 [==============================] - 1s 4ms/step - loss: 0.3354 - accuracy: 0.8650\n",
            "Epoch 8/10\n",
            "250/250 [==============================] - 1s 4ms/step - loss: 0.3350 - accuracy: 0.8605\n",
            "Epoch 9/10\n",
            "250/250 [==============================] - 1s 2ms/step - loss: 0.3313 - accuracy: 0.8640\n",
            "Epoch 10/10\n",
            "250/250 [==============================] - 1s 3ms/step - loss: 0.3331 - accuracy: 0.8643\n",
            "63/63 [==============================] - 0s 2ms/step - loss: 0.3529 - accuracy: 0.8585\n"
          ]
        },
        {
          "output_type": "stream",
          "name": "stderr",
          "text": [
            "[I 2024-04-24 20:05:34,818] Trial 97 finished with value: 0.3528594374656677 and parameters: {'n_layers': 1, 'n_units': 134, 'learning_rate': 0.006351032169042456}. Best is trial 10 with value: 0.33723118901252747.\n"
          ]
        },
        {
          "output_type": "stream",
          "name": "stdout",
          "text": [
            "Epoch 1/10\n",
            "250/250 [==============================] - 1s 2ms/step - loss: 0.4008 - accuracy: 0.8321\n",
            "Epoch 2/10\n",
            "250/250 [==============================] - 1s 3ms/step - loss: 0.3578 - accuracy: 0.8570\n",
            "Epoch 3/10\n",
            "250/250 [==============================] - 1s 2ms/step - loss: 0.3501 - accuracy: 0.8591\n",
            "Epoch 4/10\n",
            "250/250 [==============================] - 1s 3ms/step - loss: 0.3463 - accuracy: 0.8599\n",
            "Epoch 5/10\n",
            "250/250 [==============================] - 1s 3ms/step - loss: 0.3420 - accuracy: 0.8602\n",
            "Epoch 6/10\n",
            "250/250 [==============================] - 1s 3ms/step - loss: 0.3366 - accuracy: 0.8604\n",
            "Epoch 7/10\n",
            "250/250 [==============================] - 1s 2ms/step - loss: 0.3346 - accuracy: 0.8605\n",
            "Epoch 8/10\n",
            "250/250 [==============================] - 1s 3ms/step - loss: 0.3331 - accuracy: 0.8611\n",
            "Epoch 9/10\n",
            "250/250 [==============================] - 1s 3ms/step - loss: 0.3351 - accuracy: 0.8633\n",
            "Epoch 10/10\n",
            "250/250 [==============================] - 1s 5ms/step - loss: 0.3315 - accuracy: 0.8662\n",
            "63/63 [==============================] - 0s 2ms/step - loss: 0.3498 - accuracy: 0.8565\n"
          ]
        },
        {
          "output_type": "stream",
          "name": "stderr",
          "text": [
            "[I 2024-04-24 20:05:46,135] Trial 98 finished with value: 0.34983012080192566 and parameters: {'n_layers': 1, 'n_units': 183, 'learning_rate': 0.004554764652599419}. Best is trial 10 with value: 0.33723118901252747.\n"
          ]
        },
        {
          "output_type": "stream",
          "name": "stdout",
          "text": [
            "Epoch 1/10\n",
            "250/250 [==============================] - 1s 3ms/step - loss: 0.3921 - accuracy: 0.8359\n",
            "Epoch 2/10\n",
            "250/250 [==============================] - 1s 3ms/step - loss: 0.3560 - accuracy: 0.8539\n",
            "Epoch 3/10\n",
            "250/250 [==============================] - 1s 3ms/step - loss: 0.3451 - accuracy: 0.8591\n",
            "Epoch 4/10\n",
            "250/250 [==============================] - 1s 2ms/step - loss: 0.3421 - accuracy: 0.8651\n",
            "Epoch 5/10\n",
            "250/250 [==============================] - 1s 3ms/step - loss: 0.3379 - accuracy: 0.8631\n",
            "Epoch 6/10\n",
            "250/250 [==============================] - 1s 2ms/step - loss: 0.3347 - accuracy: 0.8637\n",
            "Epoch 7/10\n",
            "250/250 [==============================] - 1s 3ms/step - loss: 0.3309 - accuracy: 0.8643\n",
            "Epoch 8/10\n",
            "250/250 [==============================] - 1s 2ms/step - loss: 0.3314 - accuracy: 0.8665\n",
            "Epoch 9/10\n",
            "250/250 [==============================] - 1s 3ms/step - loss: 0.3275 - accuracy: 0.8671\n",
            "Epoch 10/10\n",
            "250/250 [==============================] - 1s 2ms/step - loss: 0.3246 - accuracy: 0.8673\n",
            "63/63 [==============================] - 0s 2ms/step - loss: 0.3498 - accuracy: 0.8490\n"
          ]
        },
        {
          "output_type": "stream",
          "name": "stderr",
          "text": [
            "[I 2024-04-24 20:05:57,582] Trial 99 finished with value: 0.3498072028160095 and parameters: {'n_layers': 2, 'n_units': 140, 'learning_rate': 0.005752155723818637}. Best is trial 10 with value: 0.33723118901252747.\n"
          ]
        },
        {
          "output_type": "stream",
          "name": "stdout",
          "text": [
            "Best params: {'n_layers': 1, 'n_units': 129, 'learning_rate': 0.006129525415913063}\n",
            "Best validation loss: 0.33723118901252747\n"
          ]
        }
      ]
    },
    {
      "cell_type": "markdown",
      "source": [
        "# Standard Scaling\n"
      ],
      "metadata": {
        "id": "Ys4U9HhC1Flq"
      }
    },
    {
      "cell_type": "code",
      "source": [
        "from sklearn.preprocessing import StandardScaler\n",
        "sc = StandardScaler()\n",
        "X_train = sc.fit_transform(X_train)\n",
        "X_test = sc.transform(X_test)"
      ],
      "metadata": {
        "id": "i0kJxAyG04Qj"
      },
      "execution_count": null,
      "outputs": []
    },
    {
      "cell_type": "code",
      "source": [
        "#Importing Requirement For ANN using keras\n",
        "\n",
        "import keras\n",
        "from keras.models import Sequential\n",
        "from keras.layers import Dense\n",
        "from keras.layers import Dense, LeakyReLU, PReLU, ELU, Dropout"
      ],
      "metadata": {
        "id": "ONYXqU891OIx"
      },
      "execution_count": null,
      "outputs": []
    },
    {
      "cell_type": "code",
      "source": [
        "#Initializing\n",
        "\n",
        "classifier = Sequential()\n"
      ],
      "metadata": {
        "id": "TP5fKYsy1kwv"
      },
      "execution_count": null,
      "outputs": []
    },
    {
      "cell_type": "code",
      "source": [
        "#Defining The input layers, Hidden layers, and Output layers¶\n",
        "classifier = Sequential()\n",
        "\n",
        "\n",
        "# input layer\n",
        "classifier.add(Dense(units=6, kernel_initializer=\"he_uniform\", activation=\"relu\", input_dim=11))\n",
        "\n",
        "# Hidden layer\n",
        "classifier.add(Dense(units=6, kernel_initializer=\"he_uniform\", activation=\"relu\"))\n",
        "\n",
        "# Output layer\n",
        "classifier.add(Dense(units=1, kernel_initializer=\"glorot_uniform\", activation=\"sigmoid\"))"
      ],
      "metadata": {
        "id": "lRjJ-i9H1yA9"
      },
      "execution_count": null,
      "outputs": []
    },
    {
      "cell_type": "code",
      "source": [
        "classifier.compile(optimizer = \"adam\", loss=\"binary_crossentropy\", metrics=[\"accuracy\"])"
      ],
      "metadata": {
        "id": "icLPLum32GOO"
      },
      "execution_count": null,
      "outputs": []
    },
    {
      "cell_type": "markdown",
      "source": [
        "# Summary of the model\n"
      ],
      "metadata": {
        "id": "kqjCjJcf2fxc"
      }
    },
    {
      "cell_type": "code",
      "source": [
        "classifier.summary()\n"
      ],
      "metadata": {
        "colab": {
          "base_uri": "https://localhost:8080/"
        },
        "id": "Dgo06lbF2QcY",
        "outputId": "fc366e5d-4f9a-4da3-99cd-017dd246876d"
      },
      "execution_count": null,
      "outputs": [
        {
          "output_type": "stream",
          "name": "stdout",
          "text": [
            "Model: \"sequential_1\"\n",
            "_________________________________________________________________\n",
            " Layer (type)                Output Shape              Param #   \n",
            "=================================================================\n",
            " dense (Dense)               (None, 6)                 72        \n",
            "                                                                 \n",
            " dense_1 (Dense)             (None, 6)                 42        \n",
            "                                                                 \n",
            " dense_2 (Dense)             (None, 1)                 7         \n",
            "                                                                 \n",
            "=================================================================\n",
            "Total params: 121 (484.00 Byte)\n",
            "Trainable params: 121 (484.00 Byte)\n",
            "Non-trainable params: 0 (0.00 Byte)\n",
            "_________________________________________________________________\n"
          ]
        }
      ]
    },
    {
      "cell_type": "markdown",
      "source": [
        "- How model evolved with given hyperparameters\n"
      ],
      "metadata": {
        "id": "HZaEPBlG42cM"
      }
    },
    {
      "cell_type": "code",
      "source": [
        "model_history = classifier.fit(X_train, y_train, validation_split=0.33, batch_size=10, epochs=100)"
      ],
      "metadata": {
        "colab": {
          "base_uri": "https://localhost:8080/"
        },
        "id": "thsphkk-4o6D",
        "outputId": "6979a9ae-095b-4fde-f37e-fde1ff2c80e3"
      },
      "execution_count": null,
      "outputs": [
        {
          "output_type": "stream",
          "name": "stdout",
          "text": [
            "Epoch 1/100\n",
            "536/536 [==============================] - 3s 3ms/step - loss: 0.5412 - accuracy: 0.7537 - val_loss: 0.4844 - val_accuracy: 0.7853\n",
            "Epoch 2/100\n",
            "536/536 [==============================] - 2s 3ms/step - loss: 0.4628 - accuracy: 0.7975 - val_loss: 0.4586 - val_accuracy: 0.7925\n",
            "Epoch 3/100\n",
            "536/536 [==============================] - 2s 3ms/step - loss: 0.4416 - accuracy: 0.8016 - val_loss: 0.4460 - val_accuracy: 0.7952\n",
            "Epoch 4/100\n",
            "536/536 [==============================] - 2s 4ms/step - loss: 0.4295 - accuracy: 0.8080 - val_loss: 0.4382 - val_accuracy: 0.8076\n",
            "Epoch 5/100\n",
            "536/536 [==============================] - 3s 5ms/step - loss: 0.4210 - accuracy: 0.8145 - val_loss: 0.4329 - val_accuracy: 0.8133\n",
            "Epoch 6/100\n",
            "536/536 [==============================] - 2s 4ms/step - loss: 0.4147 - accuracy: 0.8182 - val_loss: 0.4293 - val_accuracy: 0.8205\n",
            "Epoch 7/100\n",
            "536/536 [==============================] - 2s 3ms/step - loss: 0.4088 - accuracy: 0.8246 - val_loss: 0.4232 - val_accuracy: 0.8266\n",
            "Epoch 8/100\n",
            "536/536 [==============================] - 2s 3ms/step - loss: 0.4018 - accuracy: 0.8309 - val_loss: 0.4168 - val_accuracy: 0.8304\n",
            "Epoch 9/100\n",
            "536/536 [==============================] - 2s 3ms/step - loss: 0.3949 - accuracy: 0.8349 - val_loss: 0.4111 - val_accuracy: 0.8304\n",
            "Epoch 10/100\n",
            "536/536 [==============================] - 2s 3ms/step - loss: 0.3881 - accuracy: 0.8382 - val_loss: 0.4037 - val_accuracy: 0.8391\n",
            "Epoch 11/100\n",
            "536/536 [==============================] - 2s 3ms/step - loss: 0.3799 - accuracy: 0.8442 - val_loss: 0.3966 - val_accuracy: 0.8413\n",
            "Epoch 12/100\n",
            "536/536 [==============================] - 2s 4ms/step - loss: 0.3712 - accuracy: 0.8490 - val_loss: 0.3906 - val_accuracy: 0.8440\n",
            "Epoch 13/100\n",
            "536/536 [==============================] - 2s 4ms/step - loss: 0.3623 - accuracy: 0.8531 - val_loss: 0.3824 - val_accuracy: 0.8459\n",
            "Epoch 14/100\n",
            "536/536 [==============================] - 2s 3ms/step - loss: 0.3546 - accuracy: 0.8548 - val_loss: 0.3760 - val_accuracy: 0.8463\n",
            "Epoch 15/100\n",
            "536/536 [==============================] - 2s 4ms/step - loss: 0.3486 - accuracy: 0.8578 - val_loss: 0.3719 - val_accuracy: 0.8489\n",
            "Epoch 16/100\n",
            "536/536 [==============================] - 2s 3ms/step - loss: 0.3443 - accuracy: 0.8576 - val_loss: 0.3679 - val_accuracy: 0.8538\n",
            "Epoch 17/100\n",
            "536/536 [==============================] - 2s 4ms/step - loss: 0.3412 - accuracy: 0.8587 - val_loss: 0.3668 - val_accuracy: 0.8535\n",
            "Epoch 18/100\n",
            "536/536 [==============================] - 2s 4ms/step - loss: 0.3396 - accuracy: 0.8584 - val_loss: 0.3644 - val_accuracy: 0.8523\n",
            "Epoch 19/100\n",
            "536/536 [==============================] - 2s 4ms/step - loss: 0.3378 - accuracy: 0.8578 - val_loss: 0.3634 - val_accuracy: 0.8531\n",
            "Epoch 20/100\n",
            "536/536 [==============================] - 2s 3ms/step - loss: 0.3366 - accuracy: 0.8619 - val_loss: 0.3623 - val_accuracy: 0.8535\n",
            "Epoch 21/100\n",
            "536/536 [==============================] - 2s 3ms/step - loss: 0.3356 - accuracy: 0.8615 - val_loss: 0.3622 - val_accuracy: 0.8550\n",
            "Epoch 22/100\n",
            "536/536 [==============================] - 2s 4ms/step - loss: 0.3349 - accuracy: 0.8593 - val_loss: 0.3602 - val_accuracy: 0.8546\n",
            "Epoch 23/100\n",
            "536/536 [==============================] - 2s 3ms/step - loss: 0.3342 - accuracy: 0.8621 - val_loss: 0.3607 - val_accuracy: 0.8554\n",
            "Epoch 24/100\n",
            "536/536 [==============================] - 1s 3ms/step - loss: 0.3340 - accuracy: 0.8602 - val_loss: 0.3594 - val_accuracy: 0.8565\n",
            "Epoch 25/100\n",
            "536/536 [==============================] - 2s 4ms/step - loss: 0.3334 - accuracy: 0.8619 - val_loss: 0.3603 - val_accuracy: 0.8565\n",
            "Epoch 26/100\n",
            "536/536 [==============================] - 2s 4ms/step - loss: 0.3325 - accuracy: 0.8625 - val_loss: 0.3625 - val_accuracy: 0.8573\n",
            "Epoch 27/100\n",
            "536/536 [==============================] - 2s 3ms/step - loss: 0.3318 - accuracy: 0.8619 - val_loss: 0.3612 - val_accuracy: 0.8550\n",
            "Epoch 28/100\n",
            "536/536 [==============================] - 2s 3ms/step - loss: 0.3321 - accuracy: 0.8621 - val_loss: 0.3597 - val_accuracy: 0.8561\n",
            "Epoch 29/100\n",
            "536/536 [==============================] - 2s 3ms/step - loss: 0.3318 - accuracy: 0.8625 - val_loss: 0.3602 - val_accuracy: 0.8573\n",
            "Epoch 30/100\n",
            "536/536 [==============================] - 1s 3ms/step - loss: 0.3309 - accuracy: 0.8642 - val_loss: 0.3596 - val_accuracy: 0.8580\n",
            "Epoch 31/100\n",
            "536/536 [==============================] - 2s 3ms/step - loss: 0.3306 - accuracy: 0.8628 - val_loss: 0.3613 - val_accuracy: 0.8569\n",
            "Epoch 32/100\n",
            "536/536 [==============================] - 2s 4ms/step - loss: 0.3305 - accuracy: 0.8653 - val_loss: 0.3611 - val_accuracy: 0.8576\n",
            "Epoch 33/100\n",
            "536/536 [==============================] - 2s 5ms/step - loss: 0.3295 - accuracy: 0.8604 - val_loss: 0.3638 - val_accuracy: 0.8580\n",
            "Epoch 34/100\n",
            "536/536 [==============================] - 2s 3ms/step - loss: 0.3297 - accuracy: 0.8642 - val_loss: 0.3590 - val_accuracy: 0.8584\n",
            "Epoch 35/100\n",
            "536/536 [==============================] - 1s 3ms/step - loss: 0.3293 - accuracy: 0.8628 - val_loss: 0.3594 - val_accuracy: 0.8599\n",
            "Epoch 36/100\n",
            "536/536 [==============================] - 1s 3ms/step - loss: 0.3292 - accuracy: 0.8642 - val_loss: 0.3586 - val_accuracy: 0.8599\n",
            "Epoch 37/100\n",
            "536/536 [==============================] - 1s 3ms/step - loss: 0.3283 - accuracy: 0.8623 - val_loss: 0.3620 - val_accuracy: 0.8569\n",
            "Epoch 38/100\n",
            "536/536 [==============================] - 1s 3ms/step - loss: 0.3290 - accuracy: 0.8658 - val_loss: 0.3589 - val_accuracy: 0.8588\n",
            "Epoch 39/100\n",
            "536/536 [==============================] - 2s 4ms/step - loss: 0.3289 - accuracy: 0.8645 - val_loss: 0.3600 - val_accuracy: 0.8561\n",
            "Epoch 40/100\n",
            "536/536 [==============================] - 3s 5ms/step - loss: 0.3284 - accuracy: 0.8642 - val_loss: 0.3608 - val_accuracy: 0.8588\n",
            "Epoch 41/100\n",
            "536/536 [==============================] - 2s 3ms/step - loss: 0.3284 - accuracy: 0.8645 - val_loss: 0.3597 - val_accuracy: 0.8584\n",
            "Epoch 42/100\n",
            "536/536 [==============================] - 1s 3ms/step - loss: 0.3282 - accuracy: 0.8645 - val_loss: 0.3589 - val_accuracy: 0.8588\n",
            "Epoch 43/100\n",
            "536/536 [==============================] - 2s 3ms/step - loss: 0.3280 - accuracy: 0.8623 - val_loss: 0.3601 - val_accuracy: 0.8573\n",
            "Epoch 44/100\n",
            "536/536 [==============================] - 1s 3ms/step - loss: 0.3279 - accuracy: 0.8642 - val_loss: 0.3593 - val_accuracy: 0.8573\n",
            "Epoch 45/100\n",
            "536/536 [==============================] - 1s 3ms/step - loss: 0.3278 - accuracy: 0.8623 - val_loss: 0.3583 - val_accuracy: 0.8599\n",
            "Epoch 46/100\n",
            "536/536 [==============================] - 2s 3ms/step - loss: 0.3278 - accuracy: 0.8636 - val_loss: 0.3582 - val_accuracy: 0.8607\n",
            "Epoch 47/100\n",
            "536/536 [==============================] - 2s 4ms/step - loss: 0.3272 - accuracy: 0.8647 - val_loss: 0.3573 - val_accuracy: 0.8599\n",
            "Epoch 48/100\n",
            "536/536 [==============================] - 3s 6ms/step - loss: 0.3269 - accuracy: 0.8655 - val_loss: 0.3588 - val_accuracy: 0.8561\n",
            "Epoch 49/100\n",
            "536/536 [==============================] - 2s 3ms/step - loss: 0.3271 - accuracy: 0.8655 - val_loss: 0.3579 - val_accuracy: 0.8588\n",
            "Epoch 50/100\n",
            "536/536 [==============================] - 2s 3ms/step - loss: 0.3269 - accuracy: 0.8645 - val_loss: 0.3581 - val_accuracy: 0.8584\n",
            "Epoch 51/100\n",
            "536/536 [==============================] - 2s 3ms/step - loss: 0.3269 - accuracy: 0.8630 - val_loss: 0.3585 - val_accuracy: 0.8573\n",
            "Epoch 52/100\n",
            "536/536 [==============================] - 1s 3ms/step - loss: 0.3267 - accuracy: 0.8634 - val_loss: 0.3596 - val_accuracy: 0.8557\n",
            "Epoch 53/100\n",
            "536/536 [==============================] - 1s 3ms/step - loss: 0.3262 - accuracy: 0.8658 - val_loss: 0.3588 - val_accuracy: 0.8599\n",
            "Epoch 54/100\n",
            "536/536 [==============================] - 2s 4ms/step - loss: 0.3262 - accuracy: 0.8630 - val_loss: 0.3588 - val_accuracy: 0.8569\n",
            "Epoch 55/100\n",
            "536/536 [==============================] - 2s 4ms/step - loss: 0.3263 - accuracy: 0.8640 - val_loss: 0.3578 - val_accuracy: 0.8565\n",
            "Epoch 56/100\n",
            "536/536 [==============================] - 2s 4ms/step - loss: 0.3260 - accuracy: 0.8656 - val_loss: 0.3591 - val_accuracy: 0.8576\n",
            "Epoch 57/100\n",
            "536/536 [==============================] - 2s 3ms/step - loss: 0.3258 - accuracy: 0.8640 - val_loss: 0.3587 - val_accuracy: 0.8573\n",
            "Epoch 58/100\n",
            "536/536 [==============================] - 2s 3ms/step - loss: 0.3262 - accuracy: 0.8645 - val_loss: 0.3588 - val_accuracy: 0.8569\n",
            "Epoch 59/100\n",
            "536/536 [==============================] - 2s 4ms/step - loss: 0.3257 - accuracy: 0.8656 - val_loss: 0.3593 - val_accuracy: 0.8569\n",
            "Epoch 60/100\n",
            "536/536 [==============================] - 2s 4ms/step - loss: 0.3254 - accuracy: 0.8632 - val_loss: 0.3589 - val_accuracy: 0.8565\n",
            "Epoch 61/100\n",
            "536/536 [==============================] - 3s 6ms/step - loss: 0.3255 - accuracy: 0.8647 - val_loss: 0.3583 - val_accuracy: 0.8550\n",
            "Epoch 62/100\n",
            "536/536 [==============================] - 2s 4ms/step - loss: 0.3254 - accuracy: 0.8638 - val_loss: 0.3621 - val_accuracy: 0.8584\n",
            "Epoch 63/100\n",
            "536/536 [==============================] - 2s 3ms/step - loss: 0.3259 - accuracy: 0.8636 - val_loss: 0.3591 - val_accuracy: 0.8569\n",
            "Epoch 64/100\n",
            "536/536 [==============================] - 1s 3ms/step - loss: 0.3253 - accuracy: 0.8649 - val_loss: 0.3585 - val_accuracy: 0.8595\n",
            "Epoch 65/100\n",
            "536/536 [==============================] - 2s 3ms/step - loss: 0.3253 - accuracy: 0.8656 - val_loss: 0.3592 - val_accuracy: 0.8565\n",
            "Epoch 66/100\n",
            "536/536 [==============================] - 2s 3ms/step - loss: 0.3249 - accuracy: 0.8664 - val_loss: 0.3616 - val_accuracy: 0.8584\n",
            "Epoch 67/100\n",
            "536/536 [==============================] - 3s 5ms/step - loss: 0.3251 - accuracy: 0.8660 - val_loss: 0.3580 - val_accuracy: 0.8565\n",
            "Epoch 68/100\n",
            "536/536 [==============================] - 3s 5ms/step - loss: 0.3254 - accuracy: 0.8621 - val_loss: 0.3587 - val_accuracy: 0.8531\n",
            "Epoch 69/100\n",
            "536/536 [==============================] - 2s 3ms/step - loss: 0.3252 - accuracy: 0.8660 - val_loss: 0.3577 - val_accuracy: 0.8569\n",
            "Epoch 70/100\n",
            "536/536 [==============================] - 2s 3ms/step - loss: 0.3243 - accuracy: 0.8647 - val_loss: 0.3601 - val_accuracy: 0.8584\n",
            "Epoch 71/100\n",
            "536/536 [==============================] - 2s 4ms/step - loss: 0.3251 - accuracy: 0.8658 - val_loss: 0.3600 - val_accuracy: 0.8557\n",
            "Epoch 72/100\n",
            "536/536 [==============================] - 2s 3ms/step - loss: 0.3253 - accuracy: 0.8640 - val_loss: 0.3585 - val_accuracy: 0.8569\n",
            "Epoch 73/100\n",
            "536/536 [==============================] - 2s 4ms/step - loss: 0.3250 - accuracy: 0.8634 - val_loss: 0.3596 - val_accuracy: 0.8573\n",
            "Epoch 74/100\n",
            "536/536 [==============================] - 1s 3ms/step - loss: 0.3251 - accuracy: 0.8642 - val_loss: 0.3591 - val_accuracy: 0.8565\n",
            "Epoch 75/100\n",
            "536/536 [==============================] - 1s 3ms/step - loss: 0.3249 - accuracy: 0.8625 - val_loss: 0.3589 - val_accuracy: 0.8542\n",
            "Epoch 76/100\n",
            "536/536 [==============================] - 2s 3ms/step - loss: 0.3246 - accuracy: 0.8649 - val_loss: 0.3603 - val_accuracy: 0.8546\n",
            "Epoch 77/100\n",
            "536/536 [==============================] - 1s 3ms/step - loss: 0.3250 - accuracy: 0.8656 - val_loss: 0.3583 - val_accuracy: 0.8565\n",
            "Epoch 78/100\n",
            "536/536 [==============================] - 2s 4ms/step - loss: 0.3249 - accuracy: 0.8638 - val_loss: 0.3585 - val_accuracy: 0.8576\n",
            "Epoch 79/100\n",
            "536/536 [==============================] - 1s 3ms/step - loss: 0.3243 - accuracy: 0.8634 - val_loss: 0.3608 - val_accuracy: 0.8554\n",
            "Epoch 80/100\n",
            "536/536 [==============================] - 2s 4ms/step - loss: 0.3247 - accuracy: 0.8642 - val_loss: 0.3606 - val_accuracy: 0.8557\n",
            "Epoch 81/100\n",
            "536/536 [==============================] - 2s 4ms/step - loss: 0.3247 - accuracy: 0.8638 - val_loss: 0.3599 - val_accuracy: 0.8584\n",
            "Epoch 82/100\n",
            "536/536 [==============================] - 1s 3ms/step - loss: 0.3253 - accuracy: 0.8647 - val_loss: 0.3580 - val_accuracy: 0.8573\n",
            "Epoch 83/100\n",
            "536/536 [==============================] - 2s 3ms/step - loss: 0.3242 - accuracy: 0.8634 - val_loss: 0.3592 - val_accuracy: 0.8580\n",
            "Epoch 84/100\n",
            "536/536 [==============================] - 2s 3ms/step - loss: 0.3243 - accuracy: 0.8651 - val_loss: 0.3584 - val_accuracy: 0.8573\n",
            "Epoch 85/100\n",
            "536/536 [==============================] - 2s 3ms/step - loss: 0.3246 - accuracy: 0.8651 - val_loss: 0.3575 - val_accuracy: 0.8576\n",
            "Epoch 86/100\n",
            "536/536 [==============================] - 2s 3ms/step - loss: 0.3245 - accuracy: 0.8658 - val_loss: 0.3570 - val_accuracy: 0.8573\n",
            "Epoch 87/100\n",
            "536/536 [==============================] - 2s 4ms/step - loss: 0.3243 - accuracy: 0.8643 - val_loss: 0.3588 - val_accuracy: 0.8550\n",
            "Epoch 88/100\n",
            "536/536 [==============================] - 2s 4ms/step - loss: 0.3243 - accuracy: 0.8656 - val_loss: 0.3600 - val_accuracy: 0.8561\n",
            "Epoch 89/100\n",
            "536/536 [==============================] - 1s 3ms/step - loss: 0.3239 - accuracy: 0.8677 - val_loss: 0.3576 - val_accuracy: 0.8561\n",
            "Epoch 90/100\n",
            "536/536 [==============================] - 2s 3ms/step - loss: 0.3243 - accuracy: 0.8658 - val_loss: 0.3605 - val_accuracy: 0.8546\n",
            "Epoch 91/100\n",
            "536/536 [==============================] - 2s 3ms/step - loss: 0.3246 - accuracy: 0.8656 - val_loss: 0.3586 - val_accuracy: 0.8561\n",
            "Epoch 92/100\n",
            "536/536 [==============================] - 2s 3ms/step - loss: 0.3246 - accuracy: 0.8632 - val_loss: 0.3595 - val_accuracy: 0.8538\n",
            "Epoch 93/100\n",
            "536/536 [==============================] - 1s 3ms/step - loss: 0.3244 - accuracy: 0.8634 - val_loss: 0.3585 - val_accuracy: 0.8561\n",
            "Epoch 94/100\n",
            "536/536 [==============================] - 2s 4ms/step - loss: 0.3241 - accuracy: 0.8649 - val_loss: 0.3592 - val_accuracy: 0.8557\n",
            "Epoch 95/100\n",
            "536/536 [==============================] - 2s 4ms/step - loss: 0.3241 - accuracy: 0.8664 - val_loss: 0.3588 - val_accuracy: 0.8557\n",
            "Epoch 96/100\n",
            "536/536 [==============================] - 2s 4ms/step - loss: 0.3242 - accuracy: 0.8660 - val_loss: 0.3576 - val_accuracy: 0.8569\n",
            "Epoch 97/100\n",
            "536/536 [==============================] - 1s 3ms/step - loss: 0.3242 - accuracy: 0.8647 - val_loss: 0.3574 - val_accuracy: 0.8557\n",
            "Epoch 98/100\n",
            "536/536 [==============================] - 2s 3ms/step - loss: 0.3244 - accuracy: 0.8636 - val_loss: 0.3582 - val_accuracy: 0.8565\n",
            "Epoch 99/100\n",
            "536/536 [==============================] - 2s 3ms/step - loss: 0.3242 - accuracy: 0.8645 - val_loss: 0.3575 - val_accuracy: 0.8576\n",
            "Epoch 100/100\n",
            "536/536 [==============================] - 2s 3ms/step - loss: 0.3235 - accuracy: 0.8660 - val_loss: 0.3586 - val_accuracy: 0.8565\n"
          ]
        }
      ]
    },
    {
      "cell_type": "code",
      "source": [
        "print(model_history.history.keys())"
      ],
      "metadata": {
        "colab": {
          "base_uri": "https://localhost:8080/"
        },
        "id": "VznGF_Bo5PMw",
        "outputId": "54ddde34-d1f6-4042-f3a7-02569e6aea05"
      },
      "execution_count": null,
      "outputs": [
        {
          "output_type": "stream",
          "name": "stdout",
          "text": [
            "dict_keys(['loss', 'accuracy', 'val_loss', 'val_accuracy'])\n"
          ]
        }
      ]
    },
    {
      "cell_type": "markdown",
      "source": [
        "# Ploting Evaluation of model in a graph\n"
      ],
      "metadata": {
        "id": "4OQk568x58vV"
      }
    },
    {
      "cell_type": "code",
      "source": [
        "plt.plot(model_history.history['accuracy'])\n",
        "plt.plot(model_history.history['val_accuracy'])\n",
        "plt.plot(model_history.history['loss'])\n",
        "plt.plot(model_history.history['val_loss'])\n",
        "\n",
        "plt.title(\"Model loss\")\n",
        "plt.ylabel(\"loss\")\n",
        "plt.xlabel(\"epoch\")\n",
        "plt.legend([\"train accuracy\", \"test accuracy\" , \"train loss\", \"test loss\"], loc='upper left')\n",
        "plt.show()"
      ],
      "metadata": {
        "colab": {
          "base_uri": "https://localhost:8080/",
          "height": 472
        },
        "id": "ZpySIsPW53sJ",
        "outputId": "0af46378-712c-421e-da37-066775fd4cab"
      },
      "execution_count": null,
      "outputs": [
        {
          "output_type": "display_data",
          "data": {
            "text/plain": [
              "<Figure size 640x480 with 1 Axes>"
            ],
            "image/png": "[encoded data removed]"
          },
          "metadata": {}
        }
      ]
    },
    {
      "cell_type": "markdown",
      "source": [
        "# Predicting for test data\n"
      ],
      "metadata": {
        "id": "o_lltkXp6Xmo"
      }
    },
    {
      "cell_type": "code",
      "source": [
        "y_pred = classifier.predict(X_test)\n",
        "y_Pred = (y_pred > 0.5)"
      ],
      "metadata": {
        "colab": {
          "base_uri": "https://localhost:8080/"
        },
        "id": "EdYRqYQo6Sn-",
        "outputId": "d1064e90-c492-4a08-a55d-050aa61e5196"
      },
      "execution_count": null,
      "outputs": [
        {
          "output_type": "stream",
          "name": "stdout",
          "text": [
            "63/63 [==============================] - 0s 2ms/step\n"
          ]
        }
      ]
    },
    {
      "cell_type": "markdown",
      "source": [
        "- Converting it to boolean type\n"
      ],
      "metadata": {
        "id": "3Mw2QFvL6l7A"
      }
    },
    {
      "cell_type": "code",
      "source": [
        "y_test = y_test.astype(bool)"
      ],
      "metadata": {
        "id": "hGQTOTvd6ixc"
      },
      "execution_count": null,
      "outputs": []
    },
    {
      "cell_type": "code",
      "source": [
        "y_test"
      ],
      "metadata": {
        "id": "z_2BKPb86snl",
        "outputId": "2f0644a4-361d-4522-d780-fddd875eda25",
        "colab": {
          "base_uri": "https://localhost:8080/"
        }
      },
      "execution_count": null,
      "outputs": [
        {
          "output_type": "execute_result",
          "data": {
            "text/plain": [
              "7707    False\n",
              "3134    False\n",
              "9902    False\n",
              "165     False\n",
              "6531    False\n",
              "        ...  \n",
              "7296    False\n",
              "6021    False\n",
              "4448    False\n",
              "8195    False\n",
              "5461    False\n",
              "Name: Exited, Length: 2000, dtype: bool"
            ]
          },
          "metadata": {},
          "execution_count": 27
        }
      ]
    },
    {
      "cell_type": "code",
      "source": [
        "#Conveting to dataframe¶\n",
        "\n",
        "y_pred = pd.DataFrame(y_Pred)"
      ],
      "metadata": {
        "id": "1sFr7Voa7XT5"
      },
      "execution_count": null,
      "outputs": []
    },
    {
      "cell_type": "code",
      "source": [
        "from sklearn.metrics import confusion_matrix\n",
        "cm = confusion_matrix(y_test, y_pred)\n",
        "print(cm)"
      ],
      "metadata": {
        "id": "ojdB1OeH7dA2",
        "outputId": "90064908-f9c1-4cd5-824a-3be1110a6614",
        "colab": {
          "base_uri": "https://localhost:8080/"
        }
      },
      "execution_count": null,
      "outputs": [
        {
          "output_type": "stream",
          "name": "stdout",
          "text": [
            "[[1538   57]\n",
            " [ 234  171]]\n"
          ]
        }
      ]
    },
    {
      "cell_type": "code",
      "source": [
        "# Accuracy Score\n",
        "from sklearn.metrics import accuracy_score\n",
        "score = accuracy_score(y_pred, y_test)\n",
        "print(score)"
      ],
      "metadata": {
        "id": "s1rGxCUk7qJk",
        "outputId": "cc96ff18-b8fd-4ff3-d522-d09aa0c10801",
        "colab": {
          "base_uri": "https://localhost:8080/"
        }
      },
      "execution_count": null,
      "outputs": [
        {
          "output_type": "stream",
          "name": "stdout",
          "text": [
            "0.8545\n"
          ]
        }
      ]
    }
  ]
}